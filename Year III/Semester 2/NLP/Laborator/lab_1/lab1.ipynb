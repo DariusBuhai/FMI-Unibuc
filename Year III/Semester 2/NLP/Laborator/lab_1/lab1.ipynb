{
 "cells": [
  {
   "cell_type": "markdown",
   "metadata": {
    "id": "kYN6xXrf0jdy"
   },
   "source": [
    "# Lab 1. Basic Techniques"
   ]
  },
  {
   "cell_type": "markdown",
   "metadata": {
    "id": "jl-E8ey90y3-"
   },
   "source": [
    "## Regex"
   ]
  },
  {
   "cell_type": "markdown",
   "metadata": {
    "id": "ibjQLLG9yCZS"
   },
   "source": [
    "Expresiile regulate. Utile pentru cautare si normalizare de texte - https://www.w3schools.com/python/python_regex.asp\n"
   ]
  },
  {
   "cell_type": "code",
   "execution_count": 3,
   "metadata": {
    "id": "gFqSzXcNyPU7"
   },
   "outputs": [],
   "source": [
    "from sys import platform, path\n",
    "if platform == \"linux\" or platform == \"linux2\":\n",
    "    path.append('/home/dariusbuhai/python/lib/python3.9/site-packages')\n",
    "import re\n",
    "\n",
    "text = \"\"\"\n",
    "Praise for The Rain in Portugal\n",
    " \n",
    "“Nothing in Billy Collins’s twelfth book . . . is exactly what readers might expect, and that’s the charm of this collection.”—The Washington Post\n",
    " \n",
    "“This new collection shows [Collins] at his finest. . . . Certain to please his large readership and a good place for readers new to Collins to begin.”—Library Journal. \n",
    " \n",
    "“Disarmingly playful and wistfully candid.”—Booklist\n",
    "Buy new:$38.65\n",
    "No Import Fees Deposit & $13.01 Shipping to Romania Details -12.3.\n",
    "\"\"\""
   ]
  },
  {
   "cell_type": "markdown",
   "metadata": {
    "id": "PLNJrErsyXNN"
   },
   "source": [
    "Sterge toate caracterele diferite de litere mari si mici ale alfabetului englez, apoi normalizeaza toate secventele de caractere de tip spatii la 1 spatiu"
   ]
  },
  {
   "cell_type": "code",
   "execution_count": 4,
   "metadata": {
    "colab": {
     "base_uri": "https://localhost:8080/"
    },
    "executionInfo": {
     "elapsed": 246,
     "status": "ok",
     "timestamp": 1644683724989,
     "user": {
      "displayName": "Bogdan Iordache",
      "photoUrl": "https://lh3.googleusercontent.com/a-/AOh14Gh-PZvTGY_WfhB97fLgLmkcd8CIjhKRDgsFQiip=s64",
      "userId": "11937921055418047811"
     },
     "user_tz": -120
    },
    "id": "YP7lMkYPyW0H",
    "outputId": "1aaf8845-a230-4ca6-b06a-c893408e43b3"
   },
   "outputs": [
    {
     "name": "stdout",
     "output_type": "stream",
     "text": [
      " Praise for The Rain in Portugal Nothing in Billy Collins s twelfth book is exactly what readers might expect and that s the charm of this collection The Washington Post This new collection shows Collins at his finest Certain to please his large readership and a good place for readers new to Collins to begin Library Journal Disarmingly playful and wistfully candid Booklist Buy new No Import Fees Deposit Shipping to Romania Details \n"
     ]
    }
   ],
   "source": [
    "cleaned_text = re.sub(\"[^A-Za-z]\", \" \", text)\n",
    "cleaned_text = re.sub(\"\\s+\", \" \", cleaned_text)\n",
    "print(cleaned_text)"
   ]
  },
  {
   "cell_type": "markdown",
   "metadata": {
    "id": "_LOnaRquyhlP"
   },
   "source": [
    "Le putem testa cel mai usor pe https://pythex.org/ . Aici cautam toate numerele float sau int, impreuna cu pozitiile si valorile lor."
   ]
  },
  {
   "cell_type": "code",
   "execution_count": 5,
   "metadata": {
    "colab": {
     "base_uri": "https://localhost:8080/"
    },
    "executionInfo": {
     "elapsed": 248,
     "status": "ok",
     "timestamp": 1644684003604,
     "user": {
      "displayName": "Bogdan Iordache",
      "photoUrl": "https://lh3.googleusercontent.com/a-/AOh14Gh-PZvTGY_WfhB97fLgLmkcd8CIjhKRDgsFQiip=s64",
      "userId": "11937921055418047811"
     },
     "user_tz": -120
    },
    "id": "1uJAKaNHyUS_",
    "outputId": "d94404da-f9e8-4fb8-c00f-8c95e28d59ca"
   },
   "outputs": [
    {
     "name": "stdout",
     "output_type": "stream",
     "text": [
      "418 38.65\n",
      "450 13.01\n",
      "484 -12.3\n"
     ]
    }
   ],
   "source": [
    "pattern = re.compile(\"[+-]?(\\d+\\.)?\\d+\")\n",
    "for matching in pattern.finditer(text):\n",
    "    print(matching.start(), matching.group())"
   ]
  },
  {
   "cell_type": "markdown",
   "metadata": {
    "id": "UQMO4b6u007D"
   },
   "source": [
    "## Encodings"
   ]
  },
  {
   "cell_type": "markdown",
   "metadata": {
    "id": "bI5ffSzvfJi8"
   },
   "source": [
    "Encodarea unui text poate varia, in functie de limba si este importanta. Python foloseste standardul 'utf8'. Urmatorul exemplu este preluat dintr-o subtitrare (.srt) din limba rusa, dar nu este encodat in utf8. Citindu-l obtinem urmatoarea eroare:"
   ]
  },
  {
   "cell_type": "code",
   "execution_count": 6,
   "metadata": {
    "colab": {
     "base_uri": "https://localhost:8080/",
     "height": 338
    },
    "executionInfo": {
     "elapsed": 233,
     "status": "error",
     "timestamp": 1644678939085,
     "user": {
      "displayName": "Bogdan Iordache",
      "photoUrl": "https://lh3.googleusercontent.com/a-/AOh14Gh-PZvTGY_WfhB97fLgLmkcd8CIjhKRDgsFQiip=s64",
      "userId": "11937921055418047811"
     },
     "user_tz": -120
    },
    "id": "W1F8_BTNfOK1",
    "outputId": "1486b3df-db44-4424-b8d8-ef19cb4fe330"
   },
   "outputs": [
    {
     "ename": "UnicodeDecodeError",
     "evalue": "'utf-8' codec can't decode byte 0xdd in position 34: invalid continuation byte",
     "output_type": "error",
     "traceback": [
      "\u001B[0;31m---------------------------------------------------------------------------\u001B[0m",
      "\u001B[0;31mUnicodeDecodeError\u001B[0m                        Traceback (most recent call last)",
      "\u001B[0;32m/var/folders/vq/vdb45zcs75q74lqkhq_rzzgr0000gn/T/ipykernel_43904/3329779444.py\u001B[0m in \u001B[0;36m<module>\u001B[0;34m\u001B[0m\n\u001B[1;32m      1\u001B[0m \u001B[0;32mwith\u001B[0m \u001B[0mopen\u001B[0m\u001B[0;34m(\u001B[0m\u001B[0;34m'encoded_text.txt'\u001B[0m\u001B[0;34m,\u001B[0m \u001B[0;34m\"r\"\u001B[0m\u001B[0;34m)\u001B[0m \u001B[0;32mas\u001B[0m \u001B[0mfin\u001B[0m\u001B[0;34m:\u001B[0m\u001B[0;34m\u001B[0m\u001B[0;34m\u001B[0m\u001B[0m\n\u001B[0;32m----> 2\u001B[0;31m     \u001B[0mcontent\u001B[0m \u001B[0;34m=\u001B[0m \u001B[0mfin\u001B[0m\u001B[0;34m.\u001B[0m\u001B[0mread\u001B[0m\u001B[0;34m(\u001B[0m\u001B[0;34m)\u001B[0m\u001B[0;34m\u001B[0m\u001B[0;34m\u001B[0m\u001B[0m\n\u001B[0m\u001B[1;32m      3\u001B[0m     \u001B[0mprint\u001B[0m\u001B[0;34m(\u001B[0m\u001B[0mcontent\u001B[0m\u001B[0;34m)\u001B[0m\u001B[0;34m\u001B[0m\u001B[0;34m\u001B[0m\u001B[0m\n",
      "\u001B[0;32m/Library/Frameworks/Python.framework/Versions/3.9/lib/python3.9/codecs.py\u001B[0m in \u001B[0;36mdecode\u001B[0;34m(self, input, final)\u001B[0m\n\u001B[1;32m    320\u001B[0m         \u001B[0;31m# decode input (taking the buffer into account)\u001B[0m\u001B[0;34m\u001B[0m\u001B[0;34m\u001B[0m\u001B[0;34m\u001B[0m\u001B[0m\n\u001B[1;32m    321\u001B[0m         \u001B[0mdata\u001B[0m \u001B[0;34m=\u001B[0m \u001B[0mself\u001B[0m\u001B[0;34m.\u001B[0m\u001B[0mbuffer\u001B[0m \u001B[0;34m+\u001B[0m \u001B[0minput\u001B[0m\u001B[0;34m\u001B[0m\u001B[0;34m\u001B[0m\u001B[0m\n\u001B[0;32m--> 322\u001B[0;31m         \u001B[0;34m(\u001B[0m\u001B[0mresult\u001B[0m\u001B[0;34m,\u001B[0m \u001B[0mconsumed\u001B[0m\u001B[0;34m)\u001B[0m \u001B[0;34m=\u001B[0m \u001B[0mself\u001B[0m\u001B[0;34m.\u001B[0m\u001B[0m_buffer_decode\u001B[0m\u001B[0;34m(\u001B[0m\u001B[0mdata\u001B[0m\u001B[0;34m,\u001B[0m \u001B[0mself\u001B[0m\u001B[0;34m.\u001B[0m\u001B[0merrors\u001B[0m\u001B[0;34m,\u001B[0m \u001B[0mfinal\u001B[0m\u001B[0;34m)\u001B[0m\u001B[0;34m\u001B[0m\u001B[0;34m\u001B[0m\u001B[0m\n\u001B[0m\u001B[1;32m    323\u001B[0m         \u001B[0;31m# keep undecoded input until the next call\u001B[0m\u001B[0;34m\u001B[0m\u001B[0;34m\u001B[0m\u001B[0;34m\u001B[0m\u001B[0m\n\u001B[1;32m    324\u001B[0m         \u001B[0mself\u001B[0m\u001B[0;34m.\u001B[0m\u001B[0mbuffer\u001B[0m \u001B[0;34m=\u001B[0m \u001B[0mdata\u001B[0m\u001B[0;34m[\u001B[0m\u001B[0mconsumed\u001B[0m\u001B[0;34m:\u001B[0m\u001B[0;34m]\u001B[0m\u001B[0;34m\u001B[0m\u001B[0;34m\u001B[0m\u001B[0m\n",
      "\u001B[0;31mUnicodeDecodeError\u001B[0m: 'utf-8' codec can't decode byte 0xdd in position 34: invalid continuation byte"
     ]
    }
   ],
   "source": [
    "with open('encoded_text.txt', \"r\") as fin:\n",
    "    content = fin.read()\n",
    "    print(content)"
   ]
  },
  {
   "cell_type": "markdown",
   "metadata": {
    "id": "60znqZ6wfP-s"
   },
   "source": [
    "Incercam sa detectam encoding-ul lui folosind chardet"
   ]
  },
  {
   "cell_type": "code",
   "execution_count": null,
   "metadata": {
    "id": "gvOUmRW2fRN1"
   },
   "outputs": [],
   "source": [
    "! pip install chardet"
   ]
  },
  {
   "cell_type": "code",
   "execution_count": 5,
   "metadata": {
    "colab": {
     "base_uri": "https://localhost:8080/"
    },
    "executionInfo": {
     "elapsed": 259,
     "status": "ok",
     "timestamp": 1644678991060,
     "user": {
      "displayName": "Bogdan Iordache",
      "photoUrl": "https://lh3.googleusercontent.com/a-/AOh14Gh-PZvTGY_WfhB97fLgLmkcd8CIjhKRDgsFQiip=s64",
      "userId": "11937921055418047811"
     },
     "user_tz": -120
    },
    "id": "pBBadYt8fXx8",
    "outputId": "8337c7c7-bd49-4889-9600-69399bde4512"
   },
   "outputs": [
    {
     "name": "stdout",
     "output_type": "stream",
     "text": [
      "windows-1251\n"
     ]
    }
   ],
   "source": [
    "import chardet\n",
    "\n",
    "with open('encoded_text.txt', \"rb\") as f:\n",
    "    rawdata = f.read()\n",
    "    result = chardet.detect(rawdata)\n",
    "    extracted_encoding = result['encoding']\n",
    "    print(extracted_encoding)"
   ]
  },
  {
   "cell_type": "markdown",
   "metadata": {
    "id": "XwjdvMNSfZTP"
   },
   "source": [
    "Reluam citirea si salvam continutul in format utf8"
   ]
  },
  {
   "cell_type": "code",
   "execution_count": 6,
   "metadata": {
    "id": "OPBYzpfYfcF6"
   },
   "outputs": [],
   "source": [
    "with open('encoded_text.txt', 'r', encoding=extracted_encoding) as fin:\n",
    "    content = fin.read()\n",
    "with open('utf8_text.txt', 'w', encoding='utf8') as fout:\n",
    "    fout.write(content)"
   ]
  },
  {
   "cell_type": "code",
   "execution_count": 7,
   "metadata": {
    "colab": {
     "base_uri": "https://localhost:8080/"
    },
    "executionInfo": {
     "elapsed": 240,
     "status": "ok",
     "timestamp": 1644679004976,
     "user": {
      "displayName": "Bogdan Iordache",
      "photoUrl": "https://lh3.googleusercontent.com/a-/AOh14Gh-PZvTGY_WfhB97fLgLmkcd8CIjhKRDgsFQiip=s64",
      "userId": "11937921055418047811"
     },
     "user_tz": -120
    },
    "id": "3ZwGqlQifzDk",
    "outputId": "d5330318-7461-46ab-b094-d1e19fc1fb28"
   },
   "outputs": [
    {
     "name": "stdout",
     "output_type": "stream",
     "text": [
      "1\n",
      "00:00:05,100 --> 00:00:10,860\n",
      "Это были тяжелые времена. Рим находился под господством коррумпированного Папы и сомнительных законов\n",
      "\n",
      "2\n",
      "00:00:10,960 --> 00:00:13,820\n",
      "игр власти и междоусобной борьбы\n",
      "\n",
      "3\n",
      "00:00:15,660 --> 00:00:20,310\n",
      "Синьоры начинали жестокие сражения с единственной целью – накопить состояние\n",
      "\n",
      "4\n",
      "00:00:21,640 --> 00:00:24,950\n",
      "А тем временем, простые люди ели не каждый день\n",
      "\n",
      "5\n",
      "00:00:30,090 --> 00:00:36,040\n",
      "Любовь была темой для поэтов, но редко упоминалась в свадебных клятвах\n",
      "\n",
      "6\n",
      "00:00:36,940 --> 00:00:42,140\n",
      "Женщин отдавали в жены мужчинам, которых они едва знали, не говоря уже о любви\n",
      "\n",
      "7\n",
      "00:00:43,040 --> 00:00:47,980\n",
      "В этом мире, жестоком и несправедливом, я повстречала двух молодых людей\n",
      "\n"
     ]
    }
   ],
   "source": [
    "with open('utf8_text.txt', \"r\") as fin:\n",
    "    content = fin.read()\n",
    "    print(content)"
   ]
  },
  {
   "cell_type": "markdown",
   "metadata": {
    "id": "EEC0t_4T05S2"
   },
   "source": [
    "## Non-standard files (PDF, Word, etc.)"
   ]
  },
  {
   "cell_type": "markdown",
   "metadata": {
    "id": "kT-3FzVo0QKT"
   },
   "source": [
    "Putem citi texte din documente word folosind:"
   ]
  },
  {
   "cell_type": "code",
   "execution_count": null,
   "metadata": {},
   "outputs": [],
   "source": [
    "! pip install docx2txt"
   ]
  },
  {
   "cell_type": "code",
   "execution_count": 8,
   "metadata": {
    "colab": {
     "base_uri": "https://localhost:8080/"
    },
    "executionInfo": {
     "elapsed": 282,
     "status": "ok",
     "timestamp": 1644684536901,
     "user": {
      "displayName": "Bogdan Iordache",
      "photoUrl": "https://lh3.googleusercontent.com/a-/AOh14Gh-PZvTGY_WfhB97fLgLmkcd8CIjhKRDgsFQiip=s64",
      "userId": "11937921055418047811"
     },
     "user_tz": -120
    },
    "id": "r9aPabVw0XBH",
    "outputId": "76ff3ec9-247c-4efd-b460-28c31dbdb652"
   },
   "outputs": [
    {
     "name": "stdout",
     "output_type": "stream",
     "text": [
      "Beautiful Soup is a Python library for pulling data out of HTML and XML files. It works with your favorite parser to provide idiomatic ways of navigating, searching, and modifying the parse tree. It commonly saves programmers hours or days of work.\n",
      "\n",
      "\n",
      "\n",
      "These instructions illustrate all major features of Beautiful Soup 4, with examples. I show you what the library is good for, how it works, how to use it, how to make it do what you want, and what to do when it violates your expectations.\n",
      "\n",
      "\n",
      "\n",
      "This document covers Beautiful Soup version 4.10.0. The examples in this documentation were written for Python 3.8.\n",
      "\n",
      "\n",
      "\n",
      "You might be looking for the documentation for Beautiful Soup 3. If so, you should know that Beautiful Soup 3 is no longer being developed and that all support for it was dropped on December 31, 2020. If you want to learn about the differences between Beautiful Soup 3 and Beautiful Soup 4, see Porting code to BS4.\n",
      "\n",
      "\n",
      "\n",
      "This documentation has been translated into other languages by Beautiful Soup users:\n"
     ]
    }
   ],
   "source": [
    "import docx2txt\n",
    "my_text = docx2txt.process(\"soup.docx\")\n",
    "print(my_text)"
   ]
  },
  {
   "cell_type": "markdown",
   "metadata": {
    "id": "rYv-2JYZ1YD3"
   },
   "source": [
    "Sau pdf-uri care sunt salvate ca texte (nu poze):"
   ]
  },
  {
   "cell_type": "code",
   "execution_count": null,
   "metadata": {
    "id": "uZHrdF851Z3q"
   },
   "outputs": [],
   "source": [
    "! pip install pdfplumber"
   ]
  },
  {
   "cell_type": "code",
   "execution_count": 9,
   "metadata": {
    "colab": {
     "base_uri": "https://localhost:8080/"
    },
    "executionInfo": {
     "elapsed": 952,
     "status": "ok",
     "timestamp": 1644684520795,
     "user": {
      "displayName": "Bogdan Iordache",
      "photoUrl": "https://lh3.googleusercontent.com/a-/AOh14Gh-PZvTGY_WfhB97fLgLmkcd8CIjhKRDgsFQiip=s64",
      "userId": "11937921055418047811"
     },
     "user_tz": -120
    },
    "id": "A_x4wZpQ1hh8",
    "outputId": "e937a5ee-fb74-4c04-bfb2-68ad259bdf1b"
   },
   "outputs": [
    {
     "name": "stdout",
     "output_type": "stream",
     "text": [
      "Beautiful Soup is a Python library for pulling data out of HTML and XML files. It works with your favorite \n",
      "parser to provide idiomatic ways of navigating, searching, and modifying the parse tree. It commonly \n",
      "saves programmers hours or days of work. \n",
      " \n",
      "These instructions illustrate all major features of Beautiful Soup 4, with examples. I show you what the \n",
      "library is good for, how it works, how to use it, how to make it do what you want, and what to do when \n",
      "it violates your expectations. \n",
      " \n",
      "This document covers Beautiful Soup version 4.10.0. The examples in this documentation were written \n",
      "for Python 3.8. \n",
      " \n",
      "You might be looking for the documentation for Beautiful Soup 3. If so, you should know that Beautiful \n",
      "Soup 3 is no longer being developed and that all support for it was dropped on December 31, 2020. If \n",
      "you want to learn about the differences between Beautiful Soup 3 and Beautiful Soup 4, see Porting \n",
      "code to BS4. \n",
      " \n",
      "This documentation has been translated into other languages by Beautiful Soup users: \n"
     ]
    }
   ],
   "source": [
    "import pdfplumber\n",
    "with pdfplumber.open('soup.pdf') as pdf:\n",
    "    for page in pdf.pages:\n",
    "        print(page.extract_text())"
   ]
  },
  {
   "cell_type": "markdown",
   "metadata": {
    "id": "-ix-cDK_1FrO"
   },
   "source": [
    "## Web scraping"
   ]
  },
  {
   "cell_type": "markdown",
   "metadata": {
    "id": "SZ5jU3-C9Xrw"
   },
   "source": [
    "Prin scraping ne referim la o multime de metode prin care putem descarca date nestructurate din mediul web, pe care le putem apoi procesa si stoca sub forma structurata."
   ]
  },
  {
   "cell_type": "markdown",
   "metadata": {
    "id": "kz0-C3BJj9V_"
   },
   "source": [
    "Ca prim exemplu de scraping vom incerca urmatorul task: pornind de la site-ul de programare competitiva \"infoarena.ro\" dorim pentru un utilizator sa descarcam informatii despre toate submisiile efectuate de acesta.\n",
    "\n",
    "Exemplu pagina de submisii: https://www.infoarena.ro/monitor?user=iordache.bogdan\n",
    "\n",
    "Pentru a realiza un request care sa intoarca continutul paginii putem folosi biblioteca \"requests\":"
   ]
  },
  {
   "cell_type": "code",
   "execution_count": null,
   "metadata": {},
   "outputs": [],
   "source": [
    "! pip install requests"
   ]
  },
  {
   "cell_type": "code",
   "execution_count": 10,
   "metadata": {
    "id": "Kp2mSeC_9CCu"
   },
   "outputs": [],
   "source": [
    "import requests\n",
    "\n",
    "def get_submissions_page(user):\n",
    "    return requests.get(f\"https://www.infoarena.ro/monitor?user={user}\")"
   ]
  },
  {
   "cell_type": "code",
   "execution_count": 11,
   "metadata": {
    "id": "13W4i-G3k7hl"
   },
   "outputs": [],
   "source": [
    "html = get_submissions_page(\"iordache.bogdan\").content"
   ]
  },
  {
   "cell_type": "markdown",
   "metadata": {
    "id": "6aSHQWnilIOR"
   },
   "source": [
    "Observam ca folosind metoda de mai sus putem descarca intreg continutul HTML al paginii. Pentru a extrage informatii utile trebuie sa parsam acest continut. Vom folosi biblioteca [BeautifulSoup](https://www.crummy.com/software/BeautifulSoup/bs4/doc/):"
   ]
  },
  {
   "cell_type": "code",
   "execution_count": 12,
   "metadata": {
    "id": "a1NrQndSlG4g"
   },
   "outputs": [],
   "source": [
    "import bs4\n",
    "\n",
    "def parse_html(html):\n",
    "    return bs4.BeautifulSoup(html, \"html.parser\")"
   ]
  },
  {
   "cell_type": "markdown",
   "metadata": {
    "id": "DyKYAfF7l3pO"
   },
   "source": [
    "Avand continutul parsat, putem determina acum cate submisii are in total acest utilizator:"
   ]
  },
  {
   "cell_type": "code",
   "execution_count": 13,
   "metadata": {
    "colab": {
     "base_uri": "https://localhost:8080/"
    },
    "executionInfo": {
     "elapsed": 258,
     "status": "ok",
     "timestamp": 1644680792685,
     "user": {
      "displayName": "Bogdan Iordache",
      "photoUrl": "https://lh3.googleusercontent.com/a-/AOh14Gh-PZvTGY_WfhB97fLgLmkcd8CIjhKRDgsFQiip=s64",
      "userId": "11937921055418047811"
     },
     "user_tz": -120
    },
    "id": "UB0sUnx0ltvH",
    "outputId": "e5cd8d9e-0ac0-4f55-d14a-8e0b05ea6e21"
   },
   "outputs": [
    {
     "name": "stdout",
     "output_type": "stream",
     "text": [
      " (5027 rezultate)\n",
      "5027\n"
     ]
    }
   ],
   "source": [
    "import re\n",
    "\n",
    "soup = parse_html(html)\n",
    "\n",
    "# cautam un span care are clasa \"count\", in acest span se afla numarul de submisii\n",
    "submission_count_text = soup.find(\"span\", class_=\"count\").text\n",
    "print(submission_count_text)\n",
    "submission_count = int(re.search(r\"\\d+\", submission_count_text).group())\n",
    "print(submission_count)"
   ]
  },
  {
   "cell_type": "markdown",
   "metadata": {
    "id": "Obu7nG4HnSIJ"
   },
   "source": [
    "Observam ca aceste submisii sunt impartite in mai multe pagini (paginarea rezultatelor). Observam ca link-ul urmator: https://www.infoarena.ro/monitor?user=iordache.bogdan&display_entries=250&first_entry=100 ne returneaza 250 de submisii, incepand cu submisia cu numarul 100. Modificam metoda get_submissions_page astfel:"
   ]
  },
  {
   "cell_type": "code",
   "execution_count": 14,
   "metadata": {
    "id": "xwKHy-zGnQ27"
   },
   "outputs": [],
   "source": [
    "def get_submissions_page(user, display_entries=None, first_entry=None):\n",
    "    req_string = f\"https://www.infoarena.ro/monitor?user={user}\"\n",
    "    if display_entries is not None:\n",
    "        req_string += f\"&display_entries={display_entries}\"\n",
    "    if first_entry is not None:\n",
    "        req_string += f\"&first_entry={first_entry}\"\n",
    "\n",
    "    return requests.get(req_string)"
   ]
  },
  {
   "cell_type": "markdown",
   "metadata": {
    "id": "Pv9ylMxPoTh4"
   },
   "source": [
    "Implementam o functie care returneaza informatii despre toate submisiile unui utilizator:"
   ]
  },
  {
   "cell_type": "code",
   "execution_count": 15,
   "metadata": {
    "id": "sLG0u9POonXT"
   },
   "outputs": [],
   "source": [
    "from tqdm import tqdm\n",
    "import pandas as pd\n",
    "import pdb\n",
    "\n",
    "def scrape_submissions(user):\n",
    "    # determinam numarul total de submisii\n",
    "    html = get_submissions_page(user).content\n",
    "    soup = parse_html(html)\n",
    "    submission_count_text = soup.find(\"span\", class_=\"count\").text\n",
    "    submission_count = int(re.search(r\"\\d+\", submission_count_text).group())\n",
    "\n",
    "    # vom salva in acest dictionar datele despre submisiile extrase, structura aceasta\n",
    "    # ne va ajuta ulterior sa construim un tabel (dataframe) folosind pandas\n",
    "    d = {\n",
    "        \"id\": [],\n",
    "        \"problema\": [],\n",
    "        \"url_problema\": [],\n",
    "        \"url_sursa\": [],\n",
    "        \"data\": [],\n",
    "        \"puncte\": [],\n",
    "    }\n",
    "\n",
    "    # accesam pagini cu submisii in grupuri de 250\n",
    "    for first_entry in tqdm(range(0, submission_count, 250)):\n",
    "        html = get_submissions_page(user, display_entries=250, first_entry=first_entry).content\n",
    "        soup = parse_html(html)\n",
    "\n",
    "        # selectam toate liniile de tabel (tr)\n",
    "        lines = soup.select(\"table.monitor tbody tr\")\n",
    "\n",
    "        for line in lines:\n",
    "            # selectam celulele de pe aceasta linie\n",
    "            cells = [cell for cell in line.select(\"td\")]\n",
    "\n",
    "            # extragem link-urile pentru problema si codul sursa\n",
    "            try:\n",
    "                url_problema = cells[2].select_one(\"a\")[\"href\"]\n",
    "                url_sursa = cells[4].select_one(\"a\")[\"href\"]\n",
    "            except Exception:  # daca vreun link nu exista ignoram linia\n",
    "                continue\n",
    "            \n",
    "            d[\"id\"].append(cells[0].text)\n",
    "            d[\"problema\"].append(cells[2].text)\n",
    "            d[\"url_problema\"].append(url_problema)\n",
    "            d[\"url_sursa\"].append(url_sursa)\n",
    "            d[\"data\"].append(cells[5].text)\n",
    "\n",
    "            try:\n",
    "                puncte = int(re.search(r\"\\d+\", cells[6].text).group())\n",
    "            except Exception:\n",
    "                puncte = 0\n",
    "            d[\"puncte\"].append(puncte)\n",
    "\n",
    "    return pd.DataFrame(d)"
   ]
  },
  {
   "cell_type": "code",
   "execution_count": 16,
   "metadata": {
    "colab": {
     "base_uri": "https://localhost:8080/"
    },
    "executionInfo": {
     "elapsed": 47013,
     "status": "ok",
     "timestamp": 1644683262587,
     "user": {
      "displayName": "Bogdan Iordache",
      "photoUrl": "https://lh3.googleusercontent.com/a-/AOh14Gh-PZvTGY_WfhB97fLgLmkcd8CIjhKRDgsFQiip=s64",
      "userId": "11937921055418047811"
     },
     "user_tz": -120
    },
    "id": "W9Pf0rtfrL_w",
    "outputId": "c6bc6bb7-15d2-4220-9192-e6a1a0bb826b"
   },
   "outputs": [
    {
     "name": "stderr",
     "output_type": "stream",
     "text": [
      "100%|███████████████████████████████████████████████████| 21/21 [00:10<00:00,  2.04it/s]\n"
     ]
    }
   ],
   "source": [
    "df_submissions = scrape_submissions(\"iordache.bogdan\")"
   ]
  },
  {
   "cell_type": "code",
   "execution_count": 17,
   "metadata": {
    "colab": {
     "base_uri": "https://localhost:8080/",
     "height": 206
    },
    "executionInfo": {
     "elapsed": 267,
     "status": "ok",
     "timestamp": 1644683266483,
     "user": {
      "displayName": "Bogdan Iordache",
      "photoUrl": "https://lh3.googleusercontent.com/a-/AOh14Gh-PZvTGY_WfhB97fLgLmkcd8CIjhKRDgsFQiip=s64",
      "userId": "11937921055418047811"
     },
     "user_tz": -120
    },
    "id": "LwOII21wtFKF",
    "outputId": "4c315a21-7994-46e4-a6a1-19083f4aea61"
   },
   "outputs": [
    {
     "data": {
      "text/html": [
       "<div>\n",
       "<style scoped>\n",
       "    .dataframe tbody tr th:only-of-type {\n",
       "        vertical-align: middle;\n",
       "    }\n",
       "\n",
       "    .dataframe tbody tr th {\n",
       "        vertical-align: top;\n",
       "    }\n",
       "\n",
       "    .dataframe thead th {\n",
       "        text-align: right;\n",
       "    }\n",
       "</style>\n",
       "<table border=\"1\" class=\"dataframe\">\n",
       "  <thead>\n",
       "    <tr style=\"text-align: right;\">\n",
       "      <th></th>\n",
       "      <th>id</th>\n",
       "      <th>problema</th>\n",
       "      <th>url_problema</th>\n",
       "      <th>url_sursa</th>\n",
       "      <th>data</th>\n",
       "      <th>puncte</th>\n",
       "    </tr>\n",
       "  </thead>\n",
       "  <tbody>\n",
       "    <tr>\n",
       "      <th>0</th>\n",
       "      <td>#2836860</td>\n",
       "      <td>Luff</td>\n",
       "      <td>/problema/luff</td>\n",
       "      <td>/job_detail/2836860?action=view-source</td>\n",
       "      <td>21 ian 22 00:50:03</td>\n",
       "      <td>100</td>\n",
       "    </tr>\n",
       "    <tr>\n",
       "      <th>1</th>\n",
       "      <td>#2836859</td>\n",
       "      <td>Luff</td>\n",
       "      <td>/problema/luff</td>\n",
       "      <td>/job_detail/2836859?action=view-source</td>\n",
       "      <td>21 ian 22 00:49:40</td>\n",
       "      <td>0</td>\n",
       "    </tr>\n",
       "    <tr>\n",
       "      <th>2</th>\n",
       "      <td>#2836858</td>\n",
       "      <td>Luff</td>\n",
       "      <td>/problema/luff</td>\n",
       "      <td>/job_detail/2836858?action=view-source</td>\n",
       "      <td>21 ian 22 00:41:56</td>\n",
       "      <td>70</td>\n",
       "    </tr>\n",
       "    <tr>\n",
       "      <th>3</th>\n",
       "      <td>#2836856</td>\n",
       "      <td>Luff</td>\n",
       "      <td>/problema/luff</td>\n",
       "      <td>/job_detail/2836856?action=view-source</td>\n",
       "      <td>21 ian 22 00:36:59</td>\n",
       "      <td>70</td>\n",
       "    </tr>\n",
       "    <tr>\n",
       "      <th>4</th>\n",
       "      <td>#2836855</td>\n",
       "      <td>Luff</td>\n",
       "      <td>/problema/luff</td>\n",
       "      <td>/job_detail/2836855?action=view-source</td>\n",
       "      <td>21 ian 22 00:36:26</td>\n",
       "      <td>70</td>\n",
       "    </tr>\n",
       "  </tbody>\n",
       "</table>\n",
       "</div>"
      ],
      "text/plain": [
       "         id problema    url_problema                               url_sursa  \\\n",
       "0  #2836860     Luff  /problema/luff  /job_detail/2836860?action=view-source   \n",
       "1  #2836859     Luff  /problema/luff  /job_detail/2836859?action=view-source   \n",
       "2  #2836858     Luff  /problema/luff  /job_detail/2836858?action=view-source   \n",
       "3  #2836856     Luff  /problema/luff  /job_detail/2836856?action=view-source   \n",
       "4  #2836855     Luff  /problema/luff  /job_detail/2836855?action=view-source   \n",
       "\n",
       "                 data  puncte  \n",
       "0  21 ian 22 00:50:03     100  \n",
       "1  21 ian 22 00:49:40       0  \n",
       "2  21 ian 22 00:41:56      70  \n",
       "3  21 ian 22 00:36:59      70  \n",
       "4  21 ian 22 00:36:26      70  "
      ]
     },
     "execution_count": 17,
     "metadata": {},
     "output_type": "execute_result"
    }
   ],
   "source": [
    "df_submissions.head()"
   ]
  },
  {
   "cell_type": "code",
   "execution_count": 19,
   "metadata": {
    "id": "bSUVqGCBwycM"
   },
   "outputs": [],
   "source": [
    "df_submissions.to_csv(\"submissions.csv\", index=False)"
   ]
  },
  {
   "cell_type": "markdown",
   "metadata": {
    "id": "0JDLdzlAijhV"
   },
   "source": [
    "Exemplu scriere/citire fisier JSON:"
   ]
  },
  {
   "cell_type": "code",
   "execution_count": 20,
   "metadata": {
    "id": "SkKsP_UPiofJ"
   },
   "outputs": [],
   "source": [
    "import json\n",
    "\n",
    "vec = [\n",
    "    {\"title\": \"example_1\", \"size\": 7},\n",
    "    {\"title\": \"example_2\", \"size\": 3},\n",
    "    {\"title\": \"example_3\", \"size\": 8},\n",
    "]\n",
    "\n",
    "with open(\"example.json\", \"w\") as f:\n",
    "    json.dump(vec, f, indent=4)"
   ]
  },
  {
   "cell_type": "code",
   "execution_count": 21,
   "metadata": {
    "colab": {
     "base_uri": "https://localhost:8080/"
    },
    "executionInfo": {
     "elapsed": 4,
     "status": "ok",
     "timestamp": 1644679711408,
     "user": {
      "displayName": "Bogdan Iordache",
      "photoUrl": "https://lh3.googleusercontent.com/a-/AOh14Gh-PZvTGY_WfhB97fLgLmkcd8CIjhKRDgsFQiip=s64",
      "userId": "11937921055418047811"
     },
     "user_tz": -120
    },
    "id": "8qpLd3OujHvP",
    "outputId": "9661a6b7-8b83-44db-c1a3-18f126be8337"
   },
   "outputs": [
    {
     "name": "stdout",
     "output_type": "stream",
     "text": [
      "[{'title': 'example_1', 'size': 7}, {'title': 'example_2', 'size': 3}, {'title': 'example_3', 'size': 8}]\n"
     ]
    }
   ],
   "source": [
    "with open(\"example.json\", \"r\") as f:\n",
    "    vec = json.load(f)\n",
    "print(vec)"
   ]
  },
  {
   "cell_type": "markdown",
   "metadata": {
    "id": "L57SsXOnfd__"
   },
   "source": [
    "Un alt mod de a face scraping este sa folosim biblioteca pandas pentru a ne extrage tabele html, transformandu-le in DataFrame-uri, pe care le putem manipula foarte usor. Un exemplu util este extragerea sarbatorile legale romanesti, in anul 2022, de pe https://www.timeanddate.com/."
   ]
  },
  {
   "cell_type": "code",
   "execution_count": null,
   "metadata": {},
   "outputs": [],
   "source": [
    "! pip install lxml"
   ]
  },
  {
   "cell_type": "code",
   "execution_count": 23,
   "metadata": {
    "colab": {
     "base_uri": "https://localhost:8080/",
     "height": 206
    },
    "executionInfo": {
     "elapsed": 486,
     "status": "ok",
     "timestamp": 1644679255096,
     "user": {
      "displayName": "Bogdan Iordache",
      "photoUrl": "https://lh3.googleusercontent.com/a-/AOh14Gh-PZvTGY_WfhB97fLgLmkcd8CIjhKRDgsFQiip=s64",
      "userId": "11937921055418047811"
     },
     "user_tz": -120
    },
    "id": "4KiZSYVGg1jP",
    "outputId": "b8c1093b-3c08-4272-c9f3-f84d0e15ac55"
   },
   "outputs": [
    {
     "data": {
      "text/html": [
       "<div>\n",
       "<style scoped>\n",
       "    .dataframe tbody tr th:only-of-type {\n",
       "        vertical-align: middle;\n",
       "    }\n",
       "\n",
       "    .dataframe tbody tr th {\n",
       "        vertical-align: top;\n",
       "    }\n",
       "\n",
       "    .dataframe thead th {\n",
       "        text-align: right;\n",
       "    }\n",
       "</style>\n",
       "<table border=\"1\" class=\"dataframe\">\n",
       "  <thead>\n",
       "    <tr style=\"text-align: right;\">\n",
       "      <th></th>\n",
       "      <th>Date</th>\n",
       "      <th>Day</th>\n",
       "      <th>Name</th>\n",
       "      <th>Type</th>\n",
       "    </tr>\n",
       "  </thead>\n",
       "  <tbody>\n",
       "    <tr>\n",
       "      <th>0</th>\n",
       "      <td>1 ian</td>\n",
       "      <td>sâmbătă</td>\n",
       "      <td>New Year's Day</td>\n",
       "      <td>National holiday</td>\n",
       "    </tr>\n",
       "    <tr>\n",
       "      <th>1</th>\n",
       "      <td>2 ian</td>\n",
       "      <td>duminică</td>\n",
       "      <td>Day after New Year's Day</td>\n",
       "      <td>National holiday</td>\n",
       "    </tr>\n",
       "    <tr>\n",
       "      <th>2</th>\n",
       "      <td>24 ian</td>\n",
       "      <td>luni</td>\n",
       "      <td>Unification Day</td>\n",
       "      <td>National holiday</td>\n",
       "    </tr>\n",
       "    <tr>\n",
       "      <th>3</th>\n",
       "      <td>19 feb</td>\n",
       "      <td>sâmbătă</td>\n",
       "      <td>Constantin Brancusi Day</td>\n",
       "      <td>Observance</td>\n",
       "    </tr>\n",
       "    <tr>\n",
       "      <th>4</th>\n",
       "      <td>24 feb</td>\n",
       "      <td>joi</td>\n",
       "      <td>Dragobete</td>\n",
       "      <td>Observance</td>\n",
       "    </tr>\n",
       "  </tbody>\n",
       "</table>\n",
       "</div>"
      ],
      "text/plain": [
       "     Date       Day                      Name              Type\n",
       "0   1 ian   sâmbătă            New Year's Day  National holiday\n",
       "1   2 ian  duminică  Day after New Year's Day  National holiday\n",
       "2  24 ian      luni           Unification Day  National holiday\n",
       "3  19 feb   sâmbătă   Constantin Brancusi Day        Observance\n",
       "4  24 feb       joi                 Dragobete        Observance"
      ]
     },
     "execution_count": 23,
     "metadata": {},
     "output_type": "execute_result"
    }
   ],
   "source": [
    "import pandas as pd\n",
    "\n",
    "tables_df = pd.read_html('https://www.timeanddate.com/holidays/romania/2022?hol=1')\n",
    "df = tables_df[0]\n",
    "\n",
    "# Il putem curata prin a sterge liniile nule si modifica coloanele de la tuplul \"(Date, Date)\" -> \"Date\"\n",
    "df = df.dropna(axis='index')\n",
    "df.columns = ['Date', 'Day', 'Name', 'Type']\n",
    "\n",
    "# Reindexam tabelul\n",
    "df = df.reset_index(drop=\"True\")\n",
    "\n",
    "# Afisam primele 5 randuri\n",
    "df.head()"
   ]
  },
  {
   "cell_type": "code",
   "execution_count": 25,
   "metadata": {
    "colab": {
     "base_uri": "https://localhost:8080/",
     "height": 238
    },
    "executionInfo": {
     "elapsed": 251,
     "status": "ok",
     "timestamp": 1644679369336,
     "user": {
      "displayName": "Bogdan Iordache",
      "photoUrl": "https://lh3.googleusercontent.com/a-/AOh14Gh-PZvTGY_WfhB97fLgLmkcd8CIjhKRDgsFQiip=s64",
      "userId": "11937921055418047811"
     },
     "user_tz": -120
    },
    "id": "4s6tVtnIfF1_",
    "outputId": "b6533bfb-860f-4340-cbe1-554159b629da"
   },
   "outputs": [
    {
     "data": {
      "text/html": [
       "<div>\n",
       "<style scoped>\n",
       "    .dataframe tbody tr th:only-of-type {\n",
       "        vertical-align: middle;\n",
       "    }\n",
       "\n",
       "    .dataframe tbody tr th {\n",
       "        vertical-align: top;\n",
       "    }\n",
       "\n",
       "    .dataframe thead th {\n",
       "        text-align: right;\n",
       "    }\n",
       "</style>\n",
       "<table border=\"1\" class=\"dataframe\">\n",
       "  <thead>\n",
       "    <tr style=\"text-align: right;\">\n",
       "      <th></th>\n",
       "      <th>Date</th>\n",
       "      <th>Day</th>\n",
       "      <th>Name</th>\n",
       "      <th>Type</th>\n",
       "    </tr>\n",
       "  </thead>\n",
       "  <tbody>\n",
       "    <tr>\n",
       "      <th>2</th>\n",
       "      <td>24 ian</td>\n",
       "      <td>luni</td>\n",
       "      <td>Unification Day</td>\n",
       "      <td>National holiday</td>\n",
       "    </tr>\n",
       "    <tr>\n",
       "      <th>10</th>\n",
       "      <td>25 apr</td>\n",
       "      <td>luni</td>\n",
       "      <td>Orthodox Easter Monday</td>\n",
       "      <td>National holiday, Orthodox</td>\n",
       "    </tr>\n",
       "    <tr>\n",
       "      <th>19</th>\n",
       "      <td>13 iun</td>\n",
       "      <td>luni</td>\n",
       "      <td>Orthodox Pentecost Monday</td>\n",
       "      <td>National holiday, Orthodox</td>\n",
       "    </tr>\n",
       "    <tr>\n",
       "      <th>23</th>\n",
       "      <td>15 aug</td>\n",
       "      <td>luni</td>\n",
       "      <td>St Mary's Day</td>\n",
       "      <td>National holiday</td>\n",
       "    </tr>\n",
       "    <tr>\n",
       "      <th>25</th>\n",
       "      <td>31 oct</td>\n",
       "      <td>luni</td>\n",
       "      <td>Halloween</td>\n",
       "      <td>Observance</td>\n",
       "    </tr>\n",
       "    <tr>\n",
       "      <th>33</th>\n",
       "      <td>26 dec</td>\n",
       "      <td>luni</td>\n",
       "      <td>Second day of Christmas</td>\n",
       "      <td>National holiday</td>\n",
       "    </tr>\n",
       "  </tbody>\n",
       "</table>\n",
       "</div>"
      ],
      "text/plain": [
       "      Date   Day                       Name                        Type\n",
       "2   24 ian  luni            Unification Day            National holiday\n",
       "10  25 apr  luni     Orthodox Easter Monday  National holiday, Orthodox\n",
       "19  13 iun  luni  Orthodox Pentecost Monday  National holiday, Orthodox\n",
       "23  15 aug  luni              St Mary's Day            National holiday\n",
       "25  31 oct  luni                  Halloween                  Observance\n",
       "33  26 dec  luni    Second day of Christmas            National holiday"
      ]
     },
     "execution_count": 25,
     "metadata": {},
     "output_type": "execute_result"
    }
   ],
   "source": [
    "# Daca vrem se vedem sarbatorile care pica in ziua de luni\n",
    "df_luni = df.loc[df[\"Day\"] == \"luni\"]\n",
    "df_luni"
   ]
  },
  {
   "cell_type": "code",
   "execution_count": 26,
   "metadata": {
    "colab": {
     "base_uri": "https://localhost:8080/",
     "height": 175
    },
    "executionInfo": {
     "elapsed": 244,
     "status": "ok",
     "timestamp": 1644679392984,
     "user": {
      "displayName": "Bogdan Iordache",
      "photoUrl": "https://lh3.googleusercontent.com/a-/AOh14Gh-PZvTGY_WfhB97fLgLmkcd8CIjhKRDgsFQiip=s64",
      "userId": "11937921055418047811"
     },
     "user_tz": -120
    },
    "id": "zeX7VEyXh57m",
    "outputId": "f15cdbdc-26f9-412b-f09b-eb3d516397f1"
   },
   "outputs": [
    {
     "data": {
      "text/html": [
       "<div>\n",
       "<style scoped>\n",
       "    .dataframe tbody tr th:only-of-type {\n",
       "        vertical-align: middle;\n",
       "    }\n",
       "\n",
       "    .dataframe tbody tr th {\n",
       "        vertical-align: top;\n",
       "    }\n",
       "\n",
       "    .dataframe thead th {\n",
       "        text-align: right;\n",
       "    }\n",
       "</style>\n",
       "<table border=\"1\" class=\"dataframe\">\n",
       "  <thead>\n",
       "    <tr style=\"text-align: right;\">\n",
       "      <th></th>\n",
       "      <th>Date</th>\n",
       "      <th>Day</th>\n",
       "      <th>Name</th>\n",
       "      <th>Type</th>\n",
       "    </tr>\n",
       "  </thead>\n",
       "  <tbody>\n",
       "    <tr>\n",
       "      <th>count</th>\n",
       "      <td>6</td>\n",
       "      <td>6</td>\n",
       "      <td>6</td>\n",
       "      <td>6</td>\n",
       "    </tr>\n",
       "    <tr>\n",
       "      <th>unique</th>\n",
       "      <td>6</td>\n",
       "      <td>1</td>\n",
       "      <td>6</td>\n",
       "      <td>3</td>\n",
       "    </tr>\n",
       "    <tr>\n",
       "      <th>top</th>\n",
       "      <td>24 ian</td>\n",
       "      <td>luni</td>\n",
       "      <td>Unification Day</td>\n",
       "      <td>National holiday</td>\n",
       "    </tr>\n",
       "    <tr>\n",
       "      <th>freq</th>\n",
       "      <td>1</td>\n",
       "      <td>6</td>\n",
       "      <td>1</td>\n",
       "      <td>3</td>\n",
       "    </tr>\n",
       "  </tbody>\n",
       "</table>\n",
       "</div>"
      ],
      "text/plain": [
       "          Date   Day             Name              Type\n",
       "count        6     6                6                 6\n",
       "unique       6     1                6                 3\n",
       "top     24 ian  luni  Unification Day  National holiday\n",
       "freq         1     6                1                 3"
      ]
     },
     "execution_count": 26,
     "metadata": {},
     "output_type": "execute_result"
    }
   ],
   "source": [
    "df_luni.describe()"
   ]
  },
  {
   "cell_type": "markdown",
   "metadata": {
    "id": "xmrzEs27iHYw"
   },
   "source": [
    "Putem salva rezultatul (la fel ca orice dictionar de python) intr-un json, ca alternativa la DataFrame - si poate fi util intr-o aplicatie pentru comunicarea cu front-end-ul"
   ]
  },
  {
   "cell_type": "code",
   "execution_count": 27,
   "metadata": {
    "id": "cRwND0SBh_Ca"
   },
   "outputs": [],
   "source": [
    "import json\n",
    "json_str = df.to_json(orient='records')\n",
    "json_result = json.loads(json_str)\n",
    "\n",
    "with open('holidays.json', 'w', encoding='utf8') as fout:\n",
    "    json.dump(json_result, fout, indent=4, sort_keys=True, ensure_ascii=False)"
   ]
  },
  {
   "cell_type": "markdown",
   "metadata": {
    "id": "v4uecs3b3MXZ"
   },
   "source": [
    "Alte biblioteci utile pentru scraping:\n",
    " * [scrapy](https://scrapy.org/) (folosit in special pentru web crawling)\n",
    " * [selenium](https://selenium-python.readthedocs.io/) (folosit pentru a simula activitatea din browser, utilizat in special in scrierea de teste pentru aplicatii front-end)"
   ]
  },
  {
   "cell_type": "markdown",
   "metadata": {
    "id": "sFNRIfgF1cRD"
   },
   "source": [
    "## TASK: IMDb scraping (deadline: 3 martie ora 23:59)"
   ]
  },
  {
   "cell_type": "markdown",
   "metadata": {
    "id": "6G-0iTm14GIy"
   },
   "source": [
    "1. Pornind de la lista cu cele mai populare 250 de filme de pe IMDb ([https://www.imdb.com/chart/top/](https://www.imdb.com/chart/top/)), identificati pentru toate aceste filme link-ul catre pagina sa de recenzii.\n",
    "\n",
    "Exemplu: aici se gaseste pagina cu recenzii pentru \"The Shawshank Redemption\": [https://www.imdb.com/title/tt0111161/reviews](https://www.imdb.com/title/tt0111161/reviews)"
   ]
  },
  {
   "cell_type": "code",
   "execution_count": 5,
   "metadata": {
    "id": "Wlm1QSJR5Ie9"
   },
   "outputs": [
    {
     "name": "stdout",
     "output_type": "stream",
     "text": [
      "Loaded movie: Închisoarea îngerilor. Id: tt0111161. Reviews link: https://www.imdb.com/title/tt0111161/reviews\n",
      "Loaded movie: Nașul. Id: tt0068646. Reviews link: https://www.imdb.com/title/tt0068646/reviews\n",
      "Loaded movie: Nașul: Partea a II-a. Id: tt0071562. Reviews link: https://www.imdb.com/title/tt0071562/reviews\n",
      "Loaded movie: Cavalerul negru. Id: tt0468569. Reviews link: https://www.imdb.com/title/tt0468569/reviews\n",
      "Loaded movie: 12 Oameni mânioşi. Id: tt0050083. Reviews link: https://www.imdb.com/title/tt0050083/reviews\n",
      "Loaded movie: Lista lui Schindler. Id: tt0108052. Reviews link: https://www.imdb.com/title/tt0108052/reviews\n",
      "Loaded movie: Stăpânul inelelor: Întoarcerea regelui. Id: tt0167260. Reviews link: https://www.imdb.com/title/tt0167260/reviews\n",
      "Loaded movie: Pulp Fiction. Id: tt0110912. Reviews link: https://www.imdb.com/title/tt0110912/reviews\n",
      "Loaded movie: Cel bun, cel rău, cel urât. Id: tt0060196. Reviews link: https://www.imdb.com/title/tt0060196/reviews\n",
      "Loaded movie: Stăpânul inelelor: Frăția inelului. Id: tt0120737. Reviews link: https://www.imdb.com/title/tt0120737/reviews\n",
      "Loaded movie: Fight Club - Sala de lupte. Id: tt0137523. Reviews link: https://www.imdb.com/title/tt0137523/reviews\n",
      "Loaded movie: Forrest Gump. Id: tt0109830. Reviews link: https://www.imdb.com/title/tt0109830/reviews\n",
      "Loaded movie: Începutul. Id: tt1375666. Reviews link: https://www.imdb.com/title/tt1375666/reviews\n",
      "Loaded movie: Stăpânul inelelor: Cele două turnuri. Id: tt0167261. Reviews link: https://www.imdb.com/title/tt0167261/reviews\n",
      "Loaded movie: Războiul stelelor - Episodul V: Imperiul contraatacă. Id: tt0080684. Reviews link: https://www.imdb.com/title/tt0080684/reviews\n",
      "Loaded movie: Matrix. Id: tt0133093. Reviews link: https://www.imdb.com/title/tt0133093/reviews\n",
      "Loaded movie: Băieți buni. Id: tt0099685. Reviews link: https://www.imdb.com/title/tt0099685/reviews\n",
      "Loaded movie: Zbor deasupra unui cuib de cuci. Id: tt0073486. Reviews link: https://www.imdb.com/title/tt0073486/reviews\n",
      "Loaded movie: Cei șapte samurai. Id: tt0047478. Reviews link: https://www.imdb.com/title/tt0047478/reviews\n",
      "Loaded movie: Se7en. Id: tt0114369. Reviews link: https://www.imdb.com/title/tt0114369/reviews\n",
      "Loaded movie: Tăcerea mieilor. Id: tt0102926. Reviews link: https://www.imdb.com/title/tt0102926/reviews\n",
      "Loaded movie: Orașul zeilor. Id: tt0317248. Reviews link: https://www.imdb.com/title/tt0317248/reviews\n",
      "Loaded movie: Viața e frumoasă. Id: tt0118799. Reviews link: https://www.imdb.com/title/tt0118799/reviews\n",
      "Loaded movie: O viață minunată. Id: tt0038650. Reviews link: https://www.imdb.com/title/tt0038650/reviews\n",
      "Loaded movie: Salvați soldatul Ryan. Id: tt0120815. Reviews link: https://www.imdb.com/title/tt0120815/reviews\n",
      "Loaded movie: Războiul stelelor - Episodul IV: O nouă speranță. Id: tt0076759. Reviews link: https://www.imdb.com/title/tt0076759/reviews\n",
      "Loaded movie: Interstellar: Călătorind prin univers. Id: tt0816692. Reviews link: https://www.imdb.com/title/tt0816692/reviews\n",
      "Loaded movie: Călătoria lui Chihiro. Id: tt0245429. Reviews link: https://www.imdb.com/title/tt0245429/reviews\n",
      "Loaded movie: Culoarul morții. Id: tt0120689. Reviews link: https://www.imdb.com/title/tt0120689/reviews\n",
      "Loaded movie: Parazit. Id: tt6751668. Reviews link: https://www.imdb.com/title/tt6751668/reviews\n",
      "Loaded movie: Omul-Păianjen: Niciun Drum Spre Casă. Id: tt10872600. Reviews link: https://www.imdb.com/title/tt10872600/reviews\n",
      "Loaded movie: Leon. Id: tt0110413. Reviews link: https://www.imdb.com/title/tt0110413/reviews\n",
      "Loaded movie: Harakiri. Id: tt0056058. Reviews link: https://www.imdb.com/title/tt0056058/reviews\n",
      "Loaded movie: Pianistul. Id: tt0253474. Reviews link: https://www.imdb.com/title/tt0253474/reviews\n",
      "Loaded movie: Terminatorul 2: Ziua judecății. Id: tt0103064. Reviews link: https://www.imdb.com/title/tt0103064/reviews\n",
      "Loaded movie: Înapoi în viitor. Id: tt0088763. Reviews link: https://www.imdb.com/title/tt0088763/reviews\n",
      "Loaded movie: The Lion King. Id: tt0110357. Reviews link: https://www.imdb.com/title/tt0110357/reviews\n",
      "Loaded movie: Psycho. Id: tt0054215. Reviews link: https://www.imdb.com/title/tt0054215/reviews\n",
      "Loaded movie: Suspecți de serviciu. Id: tt0114814. Reviews link: https://www.imdb.com/title/tt0114814/reviews\n",
      "Loaded movie: Timpuri noi. Id: tt0027977. Reviews link: https://www.imdb.com/title/tt0027977/reviews\n",
      "Loaded movie: Cimitirul licuricilor. Id: tt0095327. Reviews link: https://www.imdb.com/title/tt0095327/reviews\n",
      "Loaded movie: Povestea X a Americii. Id: tt0120586. Reviews link: https://www.imdb.com/title/tt0120586/reviews\n",
      "Loaded movie: Whiplash. Id: tt2582802. Reviews link: https://www.imdb.com/title/tt2582802/reviews\n",
      "Loaded movie: Gladiatorul. Id: tt0172495. Reviews link: https://www.imdb.com/title/tt0172495/reviews\n",
      "Loaded movie: Cârtița. Id: tt0407887. Reviews link: https://www.imdb.com/title/tt0407887/reviews\n",
      "Loaded movie: Luminile orașului. Id: tt0021749. Reviews link: https://www.imdb.com/title/tt0021749/reviews\n",
      "Loaded movie: Invincibilii. Id: tt1675434. Reviews link: https://www.imdb.com/title/tt1675434/reviews\n",
      "Loaded movie: Prestigiul. Id: tt0482571. Reviews link: https://www.imdb.com/title/tt0482571/reviews\n",
      "Loaded movie: Casablanca. Id: tt0034583. Reviews link: https://www.imdb.com/title/tt0034583/reviews\n",
      "Loaded movie: Undeva, cândva în Vest. Id: tt0064116. Reviews link: https://www.imdb.com/title/tt0064116/reviews\n",
      "Loaded movie: În spatele ferestrei. Id: tt0047396. Reviews link: https://www.imdb.com/title/tt0047396/reviews\n",
      "Loaded movie: Cinema Paradiso. Id: tt0095765. Reviews link: https://www.imdb.com/title/tt0095765/reviews\n",
      "Loaded movie: Alien. Id: tt0078748. Reviews link: https://www.imdb.com/title/tt0078748/reviews\n",
      "Loaded movie: Apocalipsul acum. Id: tt0078788. Reviews link: https://www.imdb.com/title/tt0078788/reviews\n",
      "Loaded movie: Memento. Id: tt0209144. Reviews link: https://www.imdb.com/title/tt0209144/reviews\n",
      "Loaded movie: Indiana Jones și căutătorii arcei pierdute. Id: tt0082971. Reviews link: https://www.imdb.com/title/tt0082971/reviews\n",
      "Loaded movie: Dictatorul. Id: tt0032553. Reviews link: https://www.imdb.com/title/tt0032553/reviews\n",
      "Loaded movie: Django dezlănțuit. Id: tt1853728. Reviews link: https://www.imdb.com/title/tt1853728/reviews\n",
      "Loaded movie: Viețile altora. Id: tt0405094. Reviews link: https://www.imdb.com/title/tt0405094/reviews\n",
      "Loaded movie: Cărările gloriei. Id: tt0050825. Reviews link: https://www.imdb.com/title/tt0050825/reviews\n",
      "Loaded movie: Bulevardul amurgului. Id: tt0043014. Reviews link: https://www.imdb.com/title/tt0043014/reviews\n",
      "Loaded movie: WALL-E. Id: tt0910970. Reviews link: https://www.imdb.com/title/tt0910970/reviews\n",
      "Loaded movie: Răzbunătorii: Războiul infinitului. Id: tt4154756. Reviews link: https://www.imdb.com/title/tt4154756/reviews\n",
      "Loaded movie: Omul-Păianjen: În lumea păianjenului. Id: tt4633694. Reviews link: https://www.imdb.com/title/tt4633694/reviews\n",
      "Loaded movie: Martorul acuzării. Id: tt0051201. Reviews link: https://www.imdb.com/title/tt0051201/reviews\n",
      "Loaded movie: Strălucirea. Id: tt0081505. Reviews link: https://www.imdb.com/title/tt0081505/reviews\n",
      "Loaded movie: Dr. Strangelove sau cum am învățat să nu mă mai tem și să iubesc bomba. Id: tt0057012. Reviews link: https://www.imdb.com/title/tt0057012/reviews\n",
      "Loaded movie: Prințesa Mononoke. Id: tt0119698. Reviews link: https://www.imdb.com/title/tt0119698/reviews\n",
      "Loaded movie: Căinţă şi răzbunare. Id: tt0364569. Reviews link: https://www.imdb.com/title/tt0364569/reviews\n",
      "Loaded movie: Joker. Id: tt7286456. Reviews link: https://www.imdb.com/title/tt7286456/reviews\n",
      "Loaded movie: Numele tău. Id: tt5311514. Reviews link: https://www.imdb.com/title/tt5311514/reviews\n",
      "Loaded movie: Coco. Id: tt2380307. Reviews link: https://www.imdb.com/title/tt2380307/reviews\n",
      "Loaded movie: Cavalerul negru: Legenda renaște. Id: tt1345836. Reviews link: https://www.imdb.com/title/tt1345836/reviews\n",
      "Loaded movie: Aliens - Misiune de pedeapsă. Id: tt0090605. Reviews link: https://www.imdb.com/title/tt0090605/reviews\n",
      "Loaded movie: A fost odată în America. Id: tt0087843. Reviews link: https://www.imdb.com/title/tt0087843/reviews\n",
      "Loaded movie: Răzbunătorii: Sfârșitul jocului. Id: tt4154796. Reviews link: https://www.imdb.com/title/tt4154796/reviews\n",
      "Loaded movie: Capernaum - Haos și speranță. Id: tt8267604. Reviews link: https://www.imdb.com/title/tt8267604/reviews\n",
      "Loaded movie: Submarinul. Id: tt0082096. Reviews link: https://www.imdb.com/title/tt0082096/reviews\n",
      "Loaded movie: Cerul și iadul. Id: tt0057565. Reviews link: https://www.imdb.com/title/tt0057565/reviews\n",
      "Loaded movie: 3 idioți. Id: tt1187043. Reviews link: https://www.imdb.com/title/tt1187043/reviews\n",
      "Loaded movie: Povestea jucăriilor. Id: tt0114709. Reviews link: https://www.imdb.com/title/tt0114709/reviews\n",
      "Loaded movie: Amadeus. Id: tt0086879. Reviews link: https://www.imdb.com/title/tt0086879/reviews\n",
      "Loaded movie: Frumusețe americană. Id: tt0169547. Reviews link: https://www.imdb.com/title/tt0169547/reviews\n",
      "Loaded movie: Ticăloși fără glorie. Id: tt0361748. Reviews link: https://www.imdb.com/title/tt0361748/reviews\n",
      "Loaded movie: Inimă neînfricată. Id: tt0112573. Reviews link: https://www.imdb.com/title/tt0112573/reviews\n",
      "Loaded movie: Good Will Hunting. Id: tt0119217. Reviews link: https://www.imdb.com/title/tt0119217/reviews\n",
      "Loaded movie: Hamilton. Id: tt8503618. Reviews link: https://www.imdb.com/title/tt8503618/reviews\n",
      "Loaded movie: Vino si vezi. Id: tt0091251. Reviews link: https://www.imdb.com/title/tt0091251/reviews\n",
      "Loaded movie: Războiul stelelor - Episodul VI: Întoarcerea lui Jedi. Id: tt0086190. Reviews link: https://www.imdb.com/title/tt0086190/reviews\n",
      "Loaded movie: Odiseea spațială 2001. Id: tt0062622. Reviews link: https://www.imdb.com/title/tt0062622/reviews\n",
      "Loaded movie: Profesioniștii crimei. Id: tt0105236. Reviews link: https://www.imdb.com/title/tt0105236/reviews\n",
      "Loaded movie: Ca stelele pe Pământ. Id: tt0986264. Reviews link: https://www.imdb.com/title/tt0986264/reviews\n",
      "Loaded movie: Amețeala. Id: tt0052357. Reviews link: https://www.imdb.com/title/tt0052357/reviews\n",
      "Loaded movie: M - Un oraș își caută ucigașul. Id: tt0022100. Reviews link: https://www.imdb.com/title/tt0022100/reviews\n",
      "Loaded movie: Vânătoarea. Id: tt2106476. Reviews link: https://www.imdb.com/title/tt2106476/reviews\n",
      "Loaded movie: Cetățeanul Kane. Id: tt0033467. Reviews link: https://www.imdb.com/title/tt0033467/reviews\n",
      "Loaded movie: Cântând în ploaie. Id: tt0045152. Reviews link: https://www.imdb.com/title/tt0045152/reviews\n",
      "Loaded movie: Requiem pentru un vis. Id: tt0180093. Reviews link: https://www.imdb.com/title/tt0180093/reviews\n",
      "Loaded movie: La nord, prin nord-vest. Id: tt0053125. Reviews link: https://www.imdb.com/title/tt0053125/reviews\n",
      "Loaded movie: A trăi. Id: tt0044741. Reviews link: https://www.imdb.com/title/tt0044741/reviews\n",
      "Loaded movie: Strălucirea eternă a minții neprihănite. Id: tt0338013. Reviews link: https://www.imdb.com/title/tt0338013/reviews\n",
      "Loaded movie: Hoți de biciclete. Id: tt0040522. Reviews link: https://www.imdb.com/title/tt0040522/reviews\n",
      "Loaded movie: Lawrence al Arabiei. Id: tt0056172. Reviews link: https://www.imdb.com/title/tt0056172/reviews\n",
      "Loaded movie: Piciul. Id: tt0012349. Reviews link: https://www.imdb.com/title/tt0012349/reviews\n",
      "Loaded movie: Incendii. Id: tt1255953. Reviews link: https://www.imdb.com/title/tt1255953/reviews\n",
      "Loaded movie: Glonţ cu cămaşă metalică. Id: tt0093058. Reviews link: https://www.imdb.com/title/tt0093058/reviews\n",
      "Loaded movie: Dangal. Id: tt5074352. Reviews link: https://www.imdb.com/title/tt5074352/reviews\n",
      "Loaded movie: Apartamentul. Id: tt0053604. Reviews link: https://www.imdb.com/title/tt0053604/reviews\n",
      "Loaded movie: Asigurare de moarte. Id: tt0036775. Reviews link: https://www.imdb.com/title/tt0036775/reviews\n",
      "Loaded movie: Metropolis. Id: tt0017136. Reviews link: https://www.imdb.com/title/tt0017136/reviews\n",
      "Loaded movie: Portocala mecanică. Id: tt0066921. Reviews link: https://www.imdb.com/title/tt0066921/reviews\n",
      "Loaded movie: Șoferul de taxi. Id: tt0075314. Reviews link: https://www.imdb.com/title/tt0075314/reviews\n",
      "Loaded movie: The Father. Id: tt10272386. Reviews link: https://www.imdb.com/title/tt10272386/reviews\n",
      "Loaded movie: Nader și Simin, o despărțire. Id: tt1832382. Reviews link: https://www.imdb.com/title/tt1832382/reviews\n",
      "Loaded movie: Cacealmaua. Id: tt0070735. Reviews link: https://www.imdb.com/title/tt0070735/reviews\n",
      "Loaded movie: Scarface. Id: tt0086250. Reviews link: https://www.imdb.com/title/tt0086250/reviews\n",
      "Loaded movie: Unde dai și unde crapă. Id: tt0208092. Reviews link: https://www.imdb.com/title/tt0208092/reviews\n",
      "Loaded movie: 1917: Speranță și moarte. Id: tt8579674. Reviews link: https://www.imdb.com/title/tt8579674/reviews\n",
      "Loaded movie: Amélie. Id: tt0211915. Reviews link: https://www.imdb.com/title/tt0211915/reviews\n",
      "Loaded movie: Să ucizi o pasăre cântătoare. Id: tt0056592. Reviews link: https://www.imdb.com/title/tt0056592/reviews\n",
      "Loaded movie: Povestea jucăriilor 3. Id: tt0435761. Reviews link: https://www.imdb.com/title/tt0435761/reviews\n",
      "Loaded movie: Pentru câțiva dolari în plus. Id: tt0059578. Reviews link: https://www.imdb.com/title/tt0059578/reviews\n",
      "Loaded movie: Deasupra tuturor. Id: tt1049413. Reviews link: https://www.imdb.com/title/tt1049413/reviews\n",
      "Loaded movie: Indiana Jones și ultima cruciadă. Id: tt0097576. Reviews link: https://www.imdb.com/title/tt0097576/reviews\n",
      "Loaded movie: Pather Panchali. Id: tt0048473. Reviews link: https://www.imdb.com/title/tt0048473/reviews\n",
      "Loaded movie: Obsesia. Id: tt0113277. Reviews link: https://www.imdb.com/title/tt0113277/reviews\n",
      "Loaded movie: L.A. Confidential. Id: tt0119488. Reviews link: https://www.imdb.com/title/tt0119488/reviews\n",
      "Loaded movie: Haos. Id: tt0089881. Reviews link: https://www.imdb.com/title/tt0089881/reviews\n",
      "Loaded movie: Greu de ucis. Id: tt0095016. Reviews link: https://www.imdb.com/title/tt0095016/reviews\n",
      "Loaded movie: Garda de corp. Id: tt0055630. Reviews link: https://www.imdb.com/title/tt0055630/reviews\n",
      "Loaded movie: Green Book: O prietenie pe viață. Id: tt6966692. Reviews link: https://www.imdb.com/title/tt6966692/reviews\n",
      "Loaded movie: Ultimele zile ale lui Hitler. Id: tt0363163. Reviews link: https://www.imdb.com/title/tt0363163/reviews\n",
      "Loaded movie: Rashomon. Id: tt0042876. Reviews link: https://www.imdb.com/title/tt0042876/reviews\n",
      "Loaded movie: Totul despre Eva. Id: tt0042192. Reviews link: https://www.imdb.com/title/tt0042192/reviews\n",
      "Loaded movie: Monty Python și Sfântul Graal. Id: tt0071853. Reviews link: https://www.imdb.com/title/tt0071853/reviews\n",
      "Loaded movie: Unora le place jazzul. Id: tt0053291. Reviews link: https://www.imdb.com/title/tt0053291/reviews\n",
      "Loaded movie: Batman - Începuturi. Id: tt0372784. Reviews link: https://www.imdb.com/title/tt0372784/reviews\n",
      "Loaded movie: Necruțătorul. Id: tt0105695. Reviews link: https://www.imdb.com/title/tt0105695/reviews\n",
      "Loaded movie: Copiii paradisului. Id: tt0118849. Reviews link: https://www.imdb.com/title/tt0118849/reviews\n",
      "Loaded movie: Jai Bhim. Id: tt15097216. Reviews link: https://www.imdb.com/title/tt15097216/reviews\n",
      "Loaded movie: Lupul de pe Wall Street. Id: tt0993846. Reviews link: https://www.imdb.com/title/tt0993846/reviews\n",
      "Loaded movie: Castelul umblător al lui Howl. Id: tt0347149. Reviews link: https://www.imdb.com/title/tt0347149/reviews\n",
      "Loaded movie: Procesul de la Nürnberg. Id: tt0055031. Reviews link: https://www.imdb.com/title/tt0055031/reviews\n",
      "Loaded movie: Va curge sânge. Id: tt0469494. Reviews link: https://www.imdb.com/title/tt0469494/reviews\n",
      "Loaded movie: Casino. Id: tt0112641. Reviews link: https://www.imdb.com/title/tt0112641/reviews\n",
      "Loaded movie: Marea evadare. Id: tt0057115. Reviews link: https://www.imdb.com/title/tt0057115/reviews\n",
      "Loaded movie: Comoara din Sierra Madre. Id: tt0040897. Reviews link: https://www.imdb.com/title/tt0040897/reviews\n",
      "Loaded movie: Labirintul lui Pan. Id: tt0457430. Reviews link: https://www.imdb.com/title/tt0457430/reviews\n",
      "Loaded movie: O minte sclipitoare. Id: tt0268978. Reviews link: https://www.imdb.com/title/tt0268978/reviews\n",
      "Loaded movie: Secretul. Id: tt1305806. Reviews link: https://www.imdb.com/title/tt1305806/reviews\n",
      "Loaded movie: Taurul furios. Id: tt0081398. Reviews link: https://www.imdb.com/title/tt0081398/reviews\n",
      "Loaded movie: Cartierul chinezesc. Id: tt0071315. Reviews link: https://www.imdb.com/title/tt0071315/reviews\n",
      "Loaded movie: Insula Shutter. Id: tt1130884. Reviews link: https://www.imdb.com/title/tt1130884/reviews\n",
      "Loaded movie: Vecinul meu Totoro. Id: tt0096283. Reviews link: https://www.imdb.com/title/tt0096283/reviews\n",
      "Loaded movie: Jocuri, poturi și focuri de armă. Id: tt0120735. Reviews link: https://www.imdb.com/title/tt0120735/reviews\n",
      "Loaded movie: Nu există țară pentru bătrâni. Id: tt0477348. Reviews link: https://www.imdb.com/title/tt0477348/reviews\n",
      "Loaded movie: Klaus. Id: tt4729430. Reviews link: https://www.imdb.com/title/tt4729430/reviews\n",
      "Loaded movie: Cu C de la crimă. Id: tt0046912. Reviews link: https://www.imdb.com/title/tt0046912/reviews\n",
      "Loaded movie: Creatura. Id: tt0084787. Reviews link: https://www.imdb.com/title/tt0084787/reviews\n",
      "Loaded movie: Goana după aur. Id: tt0015864. Reviews link: https://www.imdb.com/title/tt0015864/reviews\n",
      "Loaded movie: Trei panouri publicitare lângă Ebbing, Missouri. Id: tt5027774. Reviews link: https://www.imdb.com/title/tt5027774/reviews\n",
      "Loaded movie: Omul elefant. Id: tt0080678. Reviews link: https://www.imdb.com/title/tt0080678/reviews\n",
      "Loaded movie: A șaptea pecete. Id: tt0050976. Reviews link: https://www.imdb.com/title/tt0050976/reviews\n",
      "Loaded movie: Al șaselea simț. Id: tt0167404. Reviews link: https://www.imdb.com/title/tt0167404/reviews\n",
      "Loaded movie: Jurassic Park. Id: tt0107290. Reviews link: https://www.imdb.com/title/tt0107290/reviews\n",
      "Loaded movie: Truman Show. Id: tt0120382. Reviews link: https://www.imdb.com/title/tt0120382/reviews\n",
      "Loaded movie: Dersu Uzala. Id: tt0071411. Reviews link: https://www.imdb.com/title/tt0071411/reviews\n",
      "Loaded movie: Fragii sălbatici. Id: tt0050986. Reviews link: https://www.imdb.com/title/tt0050986/reviews\n",
      "Loaded movie: Al treilea om. Id: tt0041959. Reviews link: https://www.imdb.com/title/tt0041959/reviews\n",
      "Loaded movie: Amintiri despre crime. Id: tt0353969. Reviews link: https://www.imdb.com/title/tt0353969/reviews\n",
      "Loaded movie: V de la Vendetta. Id: tt0434409. Reviews link: https://www.imdb.com/title/tt0434409/reviews\n",
      "Loaded movie: Vânătorul de recompense. Id: tt0083658. Reviews link: https://www.imdb.com/title/tt0083658/reviews\n",
      "Loaded movie: Trainspotting - Din viață scapă cine poate. Id: tt0117951. Reviews link: https://www.imdb.com/title/tt0117951/reviews\n",
      "Loaded movie: Fargo. Id: tt0116282. Reviews link: https://www.imdb.com/title/tt0116282/reviews\n",
      "Loaded movie: Podul de pe râul Kwai. Id: tt0050212. Reviews link: https://www.imdb.com/title/tt0050212/reviews\n",
      "Loaded movie: Întors pe dos. Id: tt2096673. Reviews link: https://www.imdb.com/title/tt2096673/reviews\n",
      "Loaded movie: Kill Bill: Volumul 1. Id: tt0266697. Reviews link: https://www.imdb.com/title/tt0266697/reviews\n",
      "Loaded movie: În căutarea lui Nemo. Id: tt0266543. Reviews link: https://www.imdb.com/title/tt0266543/reviews\n",
      "Loaded movie: Războinicul. Id: tt1291584. Reviews link: https://www.imdb.com/title/tt1291584/reviews\n",
      "Loaded movie: Pe aripile vântului. Id: tt0031381. Reviews link: https://www.imdb.com/title/tt0031381/reviews\n",
      "Loaded movie: Poveste din Tokyo. Id: tt0046438. Reviews link: https://www.imdb.com/title/tt0046438/reviews\n",
      "Loaded movie: Pe chei. Id: tt0047296. Reviews link: https://www.imdb.com/title/tt0047296/reviews\n",
      "Loaded movie: Tatăl meu și fiul meu. Id: tt0476735. Reviews link: https://www.imdb.com/title/tt0476735/reviews\n",
      "Loaded movie: Prizonieri. Id: tt1392214. Reviews link: https://www.imdb.com/title/tt1392214/reviews\n",
      "Loaded movie: Povești trăsnite. Id: tt3011894. Reviews link: https://www.imdb.com/title/tt3011894/reviews\n",
      "Loaded movie: Hotel Grand Budapest. Id: tt2278388. Reviews link: https://www.imdb.com/title/tt2278388/reviews\n",
      "Loaded movie: Călăuza. Id: tt0079944. Reviews link: https://www.imdb.com/title/tt0079944/reviews\n",
      "Loaded movie: Vânătorul de cerbi. Id: tt0077416. Reviews link: https://www.imdb.com/title/tt0077416/reviews\n",
      "Loaded movie: Gran Torino. Id: tt1205489. Reviews link: https://www.imdb.com/title/tt1205489/reviews\n",
      "Loaded movie: Mecanicul Generalei. Id: tt0017925. Reviews link: https://www.imdb.com/title/tt0017925/reviews\n",
      "Loaded movie: Sherlock junior. Id: tt0015324. Reviews link: https://www.imdb.com/title/tt0015324/reviews\n",
      "Loaded movie: Persona. Id: tt0060827. Reviews link: https://www.imdb.com/title/tt0060827/reviews\n",
      "Loaded movie: Înainte de răsărit. Id: tt0112471. Reviews link: https://www.imdb.com/title/tt0112471/reviews\n",
      "Loaded movie: Prinde-mă! Dacă poți!. Id: tt0264464. Reviews link: https://www.imdb.com/title/tt0264464/reviews\n",
      "Loaded movie: Mary și Max. Id: tt0978762. Reviews link: https://www.imdb.com/title/tt0978762/reviews\n",
      "Loaded movie: Barry Lyndon. Id: tt0072684. Reviews link: https://www.imdb.com/title/tt0072684/reviews\n",
      "Loaded movie: Domnul Smith merge la Washington. Id: tt0031679. Reviews link: https://www.imdb.com/title/tt0031679/reviews\n",
      "Loaded movie: În numele tatălui. Id: tt0107207. Reviews link: https://www.imdb.com/title/tt0107207/reviews\n",
      "Loaded movie: Fără armă în linia întâi. Id: tt2119532. Reviews link: https://www.imdb.com/title/tt2119532/reviews\n",
      "Loaded movie: Fata dispărută. Id: tt2267998. Reviews link: https://www.imdb.com/title/tt2267998/reviews\n",
      "Loaded movie: Camera. Id: tt3170832. Reviews link: https://www.imdb.com/title/tt3170832/reviews\n",
      "Loaded movie: Z. Id: tt0065234. Reviews link: https://www.imdb.com/title/tt0065234/reviews\n",
      "Loaded movie: Andhadhun. Id: tt8108198. Reviews link: https://www.imdb.com/title/tt8108198/reviews\n",
      "Loaded movie: Marea provocare: Le Mans '66. Id: tt1950186. Reviews link: https://www.imdb.com/title/tt1950186/reviews\n",
      "Loaded movie: Patimile Ioanei d'Arc. Id: tt0019254. Reviews link: https://www.imdb.com/title/tt0019254/reviews\n",
      "Loaded movie: 12 ani de sclavie. Id: tt2024544. Reviews link: https://www.imdb.com/title/tt2024544/reviews\n",
      "Loaded movie: A fi sau a nu fi. Id: tt0035446. Reviews link: https://www.imdb.com/title/tt0035446/reviews\n",
      "Loaded movie: Marele Lebowski. Id: tt0118715. Reviews link: https://www.imdb.com/title/tt0118715/reviews\n",
      "Loaded movie: Dune: Part One. Id: tt1160419. Reviews link: https://www.imdb.com/title/tt1160419/reviews\n",
      "Loaded movie: Cercul poeților dispăruți. Id: tt0097165. Reviews link: https://www.imdb.com/title/tt0097165/reviews\n",
      "Loaded movie: Harry Potter și Talismanele Morții: Partea a II-a. Id: tt1201607. Reviews link: https://www.imdb.com/title/tt1201607/reviews\n",
      "Loaded movie: Ben-Hur. Id: tt0052618. Reviews link: https://www.imdb.com/title/tt0052618/reviews\n",
      "Loaded movie: Cum să îți dresezi dragonul. Id: tt0892769. Reviews link: https://www.imdb.com/title/tt0892769/reviews\n",
      "Loaded movie: Mad Max: Drumul furiei. Id: tt1392190. Reviews link: https://www.imdb.com/title/tt1392190/reviews\n",
      "Loaded movie: O fată de milioane. Id: tt0405159. Reviews link: https://www.imdb.com/title/tt0405159/reviews\n",
      "Loaded movie: Sonată de toamnă. Id: tt0077711. Reviews link: https://www.imdb.com/title/tt0077711/reviews\n",
      "Loaded movie: Salariul groazei. Id: tt0046268. Reviews link: https://www.imdb.com/title/tt0046268/reviews\n",
      "Loaded movie: Prietenie. Id: tt0092005. Reviews link: https://www.imdb.com/title/tt0092005/reviews\n",
      "Loaded movie: Logan. Id: tt3315342. Reviews link: https://www.imdb.com/title/tt3315342/reviews\n",
      "Loaded movie: Rețeaua. Id: tt0074958. Reviews link: https://www.imdb.com/title/tt0074958/reviews\n",
      "Loaded movie: Slujnica. Id: tt4016934. Reviews link: https://www.imdb.com/title/tt4016934/reviews\n",
      "Loaded movie: Gangs of Wasseypur. Id: tt1954470. Reviews link: https://www.imdb.com/title/tt1954470/reviews\n",
      "Loaded movie: Ura. Id: tt0113247. Reviews link: https://www.imdb.com/title/tt0113247/reviews\n",
      "Loaded movie: Koe no katachi. Id: tt5323662. Reviews link: https://www.imdb.com/title/tt5323662/reviews\n",
      "Loaded movie: Hachiko: Povestea unui câine. Id: tt1028532. Reviews link: https://www.imdb.com/title/tt1028532/reviews\n",
      "Loaded movie: Luke, mână rece. Id: tt0061512. Reviews link: https://www.imdb.com/title/tt0061512/reviews\n",
      "Loaded movie: Cele 400 de lovituri. Id: tt0053198. Reviews link: https://www.imdb.com/title/tt0053198/reviews\n",
      "Loaded movie: Plutonul. Id: tt0091763. Reviews link: https://www.imdb.com/title/tt0091763/reviews\n",
      "Loaded movie: Spotlight. Id: tt1895587. Reviews link: https://www.imdb.com/title/tt1895587/reviews\n",
      "Loaded movie: Compania monștrilor. Id: tt0198781. Reviews link: https://www.imdb.com/title/tt0198781/reviews\n",
      "Loaded movie: Rebecca. Id: tt0032976. Reviews link: https://www.imdb.com/title/tt0032976/reviews\n",
      "Loaded movie: O iubire imposibilă. Id: tt0118694. Reviews link: https://www.imdb.com/title/tt0118694/reviews\n",
      "Loaded movie: Viața lui Brian. Id: tt0079470. Reviews link: https://www.imdb.com/title/tt0079470/reviews\n",
      "Loaded movie: Banditul. Id: tt0116231. Reviews link: https://www.imdb.com/title/tt0116231/reviews\n",
      "Loaded movie: Hotel Rwanda. Id: tt0395169. Reviews link: https://www.imdb.com/title/tt0395169/reviews\n",
      "Loaded movie: Rush: Rivalitate și adrenalină. Id: tt1979320. Reviews link: https://www.imdb.com/title/tt1979320/reviews\n",
      "Loaded movie: Kimetsu no Yaiba: Mugen Ressha-Hen. Id: tt11032374. Reviews link: https://www.imdb.com/title/tt11032374/reviews\n",
      "Loaded movie: Rocky. Id: tt0075148. Reviews link: https://www.imdb.com/title/tt0075148/reviews\n",
      "Loaded movie: Iubiri și câini. Id: tt0245712. Reviews link: https://www.imdb.com/title/tt0245712/reviews\n",
      "Loaded movie: În sălbăticie. Id: tt0758758. Reviews link: https://www.imdb.com/title/tt0758758/reviews\n",
      "Loaded movie: Nausicaa. Id: tt0087544. Reviews link: https://www.imdb.com/title/tt0087544/reviews\n",
      "Loaded movie: Drishyam. Id: tt3417422. Reviews link: https://www.imdb.com/title/tt3417422/reviews\n",
      "Loaded movie: Înainte de apus. Id: tt0381681. Reviews link: https://www.imdb.com/title/tt0381681/reviews\n",
      "Loaded movie: S-a întâmplat într-o noapte. Id: tt0025316. Reviews link: https://www.imdb.com/title/tt0025316/reviews\n",
      "Loaded movie: Andrei Rubliov. Id: tt0060107. Reviews link: https://www.imdb.com/title/tt0060107/reviews\n",
      "Loaded movie: Miracol în celula 7. Id: tt10431500. Reviews link: https://www.imdb.com/title/tt10431500/reviews\n",
      "Loaded movie: Shin seiki Evangelion Gekijô-ban: Air/Magokoro wo, kimi ni. Id: tt0169858. Reviews link: https://www.imdb.com/title/tt0169858/reviews\n",
      "Loaded movie: Hera Pheri. Id: tt0242519. Reviews link: https://www.imdb.com/title/tt0242519/reviews\n",
      "Loaded movie: 96. Id: tt7019842. Reviews link: https://www.imdb.com/title/tt7019842/reviews\n",
      "Loaded movie: Bătălia pentru Alger. Id: tt0058946. Reviews link: https://www.imdb.com/title/tt0058946/reviews\n"
     ]
    }
   ],
   "source": [
    "import bs4\n",
    "import requests\n",
    "\n",
    "def parse_html(html):\n",
    "    return bs4.BeautifulSoup(html, \"html.parser\")\n",
    "\n",
    "def parse_html_from_link(link):\n",
    "    res = requests.get(link)\n",
    "    return parse_html(res.content)\n",
    "\n",
    "# Save all movies with their associated details, including reviews_links\n",
    "movies = list()\n",
    "html = parse_html_from_link(\"https://www.imdb.com/chart/top/\")\n",
    "tds = html.findAll(\"td\", attrs=\"titleColumn\")\n",
    "for td in tds:\n",
    "    a = td.find(\"a\")\n",
    "    link = a.attrs['href']\n",
    "    movie_id = link.split(\"/\")[2]\n",
    "    reviews_link = f\"https://www.imdb.com/title/{movie_id}/reviews\"\n",
    "    movies.append({\n",
    "        \"reviews_link\": reviews_link,\n",
    "        \"movie\": a.text,\n",
    "        \"movie_id\": movie_id\n",
    "    })\n",
    "    print(f\"Loaded movie: {a.text}. Id: {movie_id}. Reviews link: {reviews_link}\")\n",
    "\n"
   ]
  },
  {
   "cell_type": "markdown",
   "metadata": {
    "id": "wK56g-0W5I1p"
   },
   "source": [
    "2. Pentru fiecare film colectati date despre recenziile sale (titlu, text, rating, data, utlizator, etc.)"
   ]
  },
  {
   "cell_type": "code",
   "execution_count": 6,
   "metadata": {
    "id": "jXT34ayI5_qi"
   },
   "outputs": [
    {
     "name": "stdout",
     "output_type": "stream",
     "text": [
      "Saved movie reviews: Închisoarea îngerilor\n",
      "Saved movie reviews: Nașul\n",
      "Saved movie reviews: Nașul: Partea a II-a\n",
      "Saved movie reviews: Cavalerul negru\n",
      "Saved movie reviews: 12 Oameni mânioşi\n",
      "Saved movie reviews: Lista lui Schindler\n",
      "Saved movie reviews: Stăpânul inelelor: Întoarcerea regelui\n",
      "Saved movie reviews: Pulp Fiction\n",
      "Saved movie reviews: Cel bun, cel rău, cel urât\n",
      "Saved movie reviews: Stăpânul inelelor: Frăția inelului\n",
      "Saved movie reviews: Fight Club - Sala de lupte\n",
      "Saved movie reviews: Forrest Gump\n",
      "Saved movie reviews: Începutul\n",
      "Saved movie reviews: Stăpânul inelelor: Cele două turnuri\n",
      "Saved movie reviews: Războiul stelelor - Episodul V: Imperiul contraatacă\n",
      "Saved movie reviews: Matrix\n",
      "Saved movie reviews: Băieți buni\n",
      "Saved movie reviews: Zbor deasupra unui cuib de cuci\n",
      "Saved movie reviews: Cei șapte samurai\n",
      "Saved movie reviews: Se7en\n",
      "Saved movie reviews: Tăcerea mieilor\n",
      "Saved movie reviews: Orașul zeilor\n",
      "Saved movie reviews: Viața e frumoasă\n",
      "Saved movie reviews: O viață minunată\n",
      "Saved movie reviews: Salvați soldatul Ryan\n",
      "Saved movie reviews: Războiul stelelor - Episodul IV: O nouă speranță\n",
      "Saved movie reviews: Interstellar: Călătorind prin univers\n",
      "Saved movie reviews: Călătoria lui Chihiro\n",
      "Saved movie reviews: Culoarul morții\n",
      "Saved movie reviews: Parazit\n",
      "Saved movie reviews: Omul-Păianjen: Niciun Drum Spre Casă\n",
      "Saved movie reviews: Leon\n",
      "Saved movie reviews: Harakiri\n",
      "Saved movie reviews: Pianistul\n",
      "Saved movie reviews: Terminatorul 2: Ziua judecății\n",
      "Saved movie reviews: Înapoi în viitor\n",
      "Saved movie reviews: The Lion King\n",
      "Saved movie reviews: Psycho\n",
      "Saved movie reviews: Suspecți de serviciu\n",
      "Saved movie reviews: Timpuri noi\n",
      "Saved movie reviews: Cimitirul licuricilor\n",
      "Saved movie reviews: Povestea X a Americii\n",
      "Saved movie reviews: Whiplash\n",
      "Saved movie reviews: Gladiatorul\n",
      "Saved movie reviews: Cârtița\n",
      "Saved movie reviews: Luminile orașului\n",
      "Saved movie reviews: Invincibilii\n",
      "Saved movie reviews: Prestigiul\n",
      "Saved movie reviews: Casablanca\n",
      "Saved movie reviews: Undeva, cândva în Vest\n",
      "Saved movie reviews: În spatele ferestrei\n",
      "Saved movie reviews: Cinema Paradiso\n",
      "Saved movie reviews: Alien\n",
      "Saved movie reviews: Apocalipsul acum\n",
      "Saved movie reviews: Memento\n",
      "Saved movie reviews: Indiana Jones și căutătorii arcei pierdute\n",
      "Saved movie reviews: Dictatorul\n",
      "Saved movie reviews: Django dezlănțuit\n",
      "Saved movie reviews: Viețile altora\n",
      "Saved movie reviews: Cărările gloriei\n",
      "Saved movie reviews: Bulevardul amurgului\n",
      "Saved movie reviews: WALL-E\n",
      "Saved movie reviews: Răzbunătorii: Războiul infinitului\n",
      "Saved movie reviews: Omul-Păianjen: În lumea păianjenului\n",
      "Saved movie reviews: Martorul acuzării\n",
      "Saved movie reviews: Strălucirea\n",
      "Saved movie reviews: Dr. Strangelove sau cum am învățat să nu mă mai tem și să iubesc bomba\n",
      "Saved movie reviews: Prințesa Mononoke\n",
      "Saved movie reviews: Căinţă şi răzbunare\n",
      "Saved movie reviews: Joker\n",
      "Saved movie reviews: Numele tău\n",
      "Saved movie reviews: Coco\n",
      "Saved movie reviews: Cavalerul negru: Legenda renaște\n",
      "Saved movie reviews: Aliens - Misiune de pedeapsă\n",
      "Saved movie reviews: A fost odată în America\n",
      "Saved movie reviews: Răzbunătorii: Sfârșitul jocului\n",
      "Saved movie reviews: Capernaum - Haos și speranță\n",
      "Saved movie reviews: Submarinul\n",
      "Saved movie reviews: Cerul și iadul\n",
      "Saved movie reviews: 3 idioți\n",
      "Saved movie reviews: Povestea jucăriilor\n",
      "Saved movie reviews: Amadeus\n",
      "Saved movie reviews: Frumusețe americană\n",
      "Saved movie reviews: Ticăloși fără glorie\n",
      "Saved movie reviews: Inimă neînfricată\n",
      "Saved movie reviews: Good Will Hunting\n",
      "Saved movie reviews: Hamilton\n",
      "Saved movie reviews: Vino si vezi\n",
      "Saved movie reviews: Războiul stelelor - Episodul VI: Întoarcerea lui Jedi\n",
      "Saved movie reviews: Odiseea spațială 2001\n",
      "Saved movie reviews: Profesioniștii crimei\n",
      "Saved movie reviews: Ca stelele pe Pământ\n",
      "Saved movie reviews: Amețeala\n",
      "Saved movie reviews: M - Un oraș își caută ucigașul\n",
      "Saved movie reviews: Vânătoarea\n",
      "Saved movie reviews: Cetățeanul Kane\n",
      "Saved movie reviews: Cântând în ploaie\n",
      "Saved movie reviews: Requiem pentru un vis\n",
      "Saved movie reviews: La nord, prin nord-vest\n",
      "Saved movie reviews: A trăi\n",
      "Saved movie reviews: Strălucirea eternă a minții neprihănite\n",
      "Saved movie reviews: Hoți de biciclete\n",
      "Saved movie reviews: Lawrence al Arabiei\n",
      "Saved movie reviews: Piciul\n",
      "Saved movie reviews: Incendii\n",
      "Saved movie reviews: Glonţ cu cămaşă metalică\n",
      "Saved movie reviews: Dangal\n",
      "Saved movie reviews: Apartamentul\n",
      "Saved movie reviews: Asigurare de moarte\n",
      "Saved movie reviews: Metropolis\n",
      "Saved movie reviews: Portocala mecanică\n",
      "Saved movie reviews: Șoferul de taxi\n",
      "Saved movie reviews: The Father\n",
      "Saved movie reviews: Nader și Simin, o despărțire\n",
      "Saved movie reviews: Cacealmaua\n",
      "Saved movie reviews: Scarface\n",
      "Saved movie reviews: Unde dai și unde crapă\n",
      "Saved movie reviews: 1917: Speranță și moarte\n",
      "Saved movie reviews: Amélie\n",
      "Saved movie reviews: Să ucizi o pasăre cântătoare\n",
      "Saved movie reviews: Povestea jucăriilor 3\n",
      "Saved movie reviews: Pentru câțiva dolari în plus\n",
      "Saved movie reviews: Deasupra tuturor\n",
      "Saved movie reviews: Indiana Jones și ultima cruciadă\n",
      "Saved movie reviews: Pather Panchali\n",
      "Saved movie reviews: Obsesia\n",
      "Saved movie reviews: L.A. Confidential\n",
      "Saved movie reviews: Haos\n",
      "Saved movie reviews: Greu de ucis\n",
      "Saved movie reviews: Garda de corp\n",
      "Saved movie reviews: Green Book: O prietenie pe viață\n",
      "Saved movie reviews: Ultimele zile ale lui Hitler\n",
      "Saved movie reviews: Rashomon\n",
      "Saved movie reviews: Totul despre Eva\n",
      "Saved movie reviews: Monty Python și Sfântul Graal\n",
      "Saved movie reviews: Unora le place jazzul\n",
      "Saved movie reviews: Batman - Începuturi\n",
      "Saved movie reviews: Necruțătorul\n",
      "Saved movie reviews: Copiii paradisului\n",
      "Saved movie reviews: Jai Bhim\n",
      "Saved movie reviews: Lupul de pe Wall Street\n",
      "Saved movie reviews: Castelul umblător al lui Howl\n",
      "Saved movie reviews: Procesul de la Nürnberg\n",
      "Saved movie reviews: Va curge sânge\n",
      "Saved movie reviews: Casino\n",
      "Saved movie reviews: Marea evadare\n",
      "Saved movie reviews: Comoara din Sierra Madre\n",
      "Saved movie reviews: Labirintul lui Pan\n",
      "Saved movie reviews: O minte sclipitoare\n",
      "Saved movie reviews: Secretul\n",
      "Saved movie reviews: Taurul furios\n",
      "Saved movie reviews: Cartierul chinezesc\n",
      "Saved movie reviews: Insula Shutter\n",
      "Saved movie reviews: Vecinul meu Totoro\n",
      "Saved movie reviews: Jocuri, poturi și focuri de armă\n",
      "Saved movie reviews: Nu există țară pentru bătrâni\n",
      "Saved movie reviews: Klaus\n",
      "Saved movie reviews: Cu C de la crimă\n",
      "Saved movie reviews: Creatura\n",
      "Saved movie reviews: Goana după aur\n",
      "Saved movie reviews: Trei panouri publicitare lângă Ebbing, Missouri\n",
      "Saved movie reviews: Omul elefant\n",
      "Saved movie reviews: A șaptea pecete\n",
      "Saved movie reviews: Al șaselea simț\n",
      "Saved movie reviews: Jurassic Park\n",
      "Saved movie reviews: Truman Show\n",
      "Saved movie reviews: Dersu Uzala\n",
      "Saved movie reviews: Fragii sălbatici\n",
      "Saved movie reviews: Al treilea om\n",
      "Saved movie reviews: Amintiri despre crime\n",
      "Saved movie reviews: V de la Vendetta\n",
      "Saved movie reviews: Vânătorul de recompense\n",
      "Saved movie reviews: Trainspotting - Din viață scapă cine poate\n",
      "Saved movie reviews: Fargo\n",
      "Saved movie reviews: Podul de pe râul Kwai\n",
      "Saved movie reviews: Întors pe dos\n",
      "Saved movie reviews: Kill Bill: Volumul 1\n",
      "Saved movie reviews: În căutarea lui Nemo\n",
      "Saved movie reviews: Războinicul\n",
      "Saved movie reviews: Pe aripile vântului\n",
      "Saved movie reviews: Poveste din Tokyo\n",
      "Saved movie reviews: Pe chei\n",
      "Saved movie reviews: Tatăl meu și fiul meu\n",
      "Saved movie reviews: Prizonieri\n",
      "Saved movie reviews: Povești trăsnite\n",
      "Saved movie reviews: Hotel Grand Budapest\n",
      "Saved movie reviews: Călăuza\n",
      "Saved movie reviews: Vânătorul de cerbi\n",
      "Saved movie reviews: Gran Torino\n",
      "Saved movie reviews: Mecanicul Generalei\n",
      "Saved movie reviews: Sherlock junior\n",
      "Saved movie reviews: Persona\n",
      "Saved movie reviews: Înainte de răsărit\n",
      "Saved movie reviews: Prinde-mă! Dacă poți!\n",
      "Saved movie reviews: Mary și Max\n",
      "Saved movie reviews: Barry Lyndon\n",
      "Saved movie reviews: Domnul Smith merge la Washington\n",
      "Saved movie reviews: În numele tatălui\n",
      "Saved movie reviews: Fără armă în linia întâi\n",
      "Saved movie reviews: Fata dispărută\n",
      "Saved movie reviews: Camera\n",
      "Saved movie reviews: Z\n",
      "Saved movie reviews: Andhadhun\n",
      "Saved movie reviews: Marea provocare: Le Mans '66\n",
      "Saved movie reviews: Patimile Ioanei d'Arc\n",
      "Saved movie reviews: 12 ani de sclavie\n",
      "Saved movie reviews: A fi sau a nu fi\n",
      "Saved movie reviews: Marele Lebowski\n",
      "Saved movie reviews: Dune: Part One\n",
      "Saved movie reviews: Cercul poeților dispăruți\n",
      "Saved movie reviews: Harry Potter și Talismanele Morții: Partea a II-a\n",
      "Saved movie reviews: Ben-Hur\n",
      "Saved movie reviews: Cum să îți dresezi dragonul\n",
      "Saved movie reviews: Mad Max: Drumul furiei\n",
      "Saved movie reviews: O fată de milioane\n",
      "Saved movie reviews: Sonată de toamnă\n",
      "Saved movie reviews: Salariul groazei\n",
      "Saved movie reviews: Prietenie\n",
      "Saved movie reviews: Logan\n",
      "Saved movie reviews: Rețeaua\n",
      "Saved movie reviews: Slujnica\n",
      "Saved movie reviews: Gangs of Wasseypur\n",
      "Saved movie reviews: Ura\n",
      "Saved movie reviews: Koe no katachi\n",
      "Saved movie reviews: Hachiko: Povestea unui câine\n",
      "Saved movie reviews: Luke, mână rece\n",
      "Saved movie reviews: Cele 400 de lovituri\n",
      "Saved movie reviews: Plutonul\n",
      "Saved movie reviews: Spotlight\n",
      "Saved movie reviews: Compania monștrilor\n",
      "Saved movie reviews: Rebecca\n",
      "Saved movie reviews: O iubire imposibilă\n",
      "Saved movie reviews: Viața lui Brian\n",
      "Saved movie reviews: Banditul\n",
      "Saved movie reviews: Hotel Rwanda\n",
      "Saved movie reviews: Rush: Rivalitate și adrenalină\n",
      "Saved movie reviews: Kimetsu no Yaiba: Mugen Ressha-Hen\n",
      "Saved movie reviews: Rocky\n",
      "Saved movie reviews: Iubiri și câini\n",
      "Saved movie reviews: În sălbăticie\n",
      "Saved movie reviews: Nausicaa\n",
      "Saved movie reviews: Drishyam\n",
      "Saved movie reviews: Înainte de apus\n",
      "Saved movie reviews: S-a întâmplat într-o noapte\n",
      "Saved movie reviews: Andrei Rubliov\n",
      "Saved movie reviews: Miracol în celula 7\n",
      "Saved movie reviews: Shin seiki Evangelion Gekijô-ban: Air/Magokoro wo, kimi ni\n",
      "Saved movie reviews: Hera Pheri\n",
      "Saved movie reviews: 96\n",
      "Saved movie reviews: Bătălia pentru Alger\n"
     ]
    }
   ],
   "source": [
    "def parse_review_page(html_review):\n",
    "    reviews_tags = html_review.findAll(\"div\", attrs={\"class\": \"imdb-user-review\"})\n",
    "    reviews = []\n",
    "    for review_tag in reviews_tags:\n",
    "        title = review_tag.find(\"a\", attrs={\"class\": \"title\"}).text\n",
    "        text = review_tag.find(\"div\", attrs={\"class\": \"text\"}).text\n",
    "        try:\n",
    "            rating = review_tag.find(\"span\", attrs={\"class\": \"rating-other-user-rating\"}).find(\"span\").text\n",
    "        except:\n",
    "            rating = 0\n",
    "        data = review_tag.find(\"span\", attrs={\"class\": \"review-date\"}).text\n",
    "        username = review_tag.find(\"span\", attrs={\"class\": \"display-name-link\"}).find(\"a\").text\n",
    "        reviews.append({\n",
    "            \"title\": title,\n",
    "            \"text\": text,\n",
    "            \"data\": data,\n",
    "            \"rating\": rating,\n",
    "            \"username\": username,\n",
    "            \"movie\": movie['movie']\n",
    "        })\n",
    "    return reviews\n",
    "\n",
    "reviews = list()\n",
    "for movie in movies:\n",
    "    html_review = parse_html_from_link(movie['reviews_link'])\n",
    "    reviews.extend(parse_review_page(html_review))\n",
    "    print(f\"Saved movie reviews: {movie['movie']}\")"
   ]
  },
  {
   "cell_type": "markdown",
   "metadata": {
    "id": "RhcG_zFK6AFE"
   },
   "source": [
    "3. Creati un dataset de recenzii, pentru fiecare recenzie stocati:\n",
    " * filmul caruia ii apartine\n",
    " * titlul recenziei\n",
    " * textul recenziei\n",
    " * ratingul\n",
    " * data\n",
    " * utilizator\n",
    "\n",
    " Salvati datasetul intr-un fisier JSON."
   ]
  },
  {
   "cell_type": "code",
   "execution_count": null,
   "metadata": {
    "id": "4BYOWe4C6wz3"
   },
   "outputs": [],
   "source": [
    "import json\n",
    "with open(\"reviews.json\", \"w\") as f:\n",
    "    f.write(json.dumps(reviews))"
   ]
  },
  {
   "cell_type": "markdown",
   "metadata": {
    "id": "NtSpO-Ss6yF_"
   },
   "source": [
    "4. Pe o pagina cu recenzii putem gasi un numar mic de astfel de date. Butonul de \"Load more\" de la final, cand este apasat,\n",
    "produce un request care returneaza HTML-ul urmatoarelor recenzii.\n",
    "Folosind aceasta logica colectati automat pentru fiecare film un numar mai mare de recenzii."
   ]
  },
  {
   "cell_type": "code",
   "execution_count": null,
   "metadata": {
    "id": "aO3K690x7m4I"
   },
   "outputs": [],
   "source": [
    "reviews = list()\n",
    "for movie in movies:\n",
    "    html_review = parse_html_from_link(movie['reviews_link'])\n",
    "    limit_pages = 5\n",
    "    while html_review is not None and limit_pages > 0:\n",
    "        reviews.extend(parse_review_page(html_review))\n",
    "        pagination_key = html_review.find(\"div\", attrs={\"class\": \"load-more-data\"}).attrs['data-key']\n",
    "        html_review = parse_html_from_link(f\"https://www.imdb.com/title/{movie['movie_id']}/reviews/_ajax?ref_=undefined&paginationKey={pagination_key}\")\n",
    "        limit_pages -= 1\n",
    "    print(f\"Saved movie extended reviews (5 pages): {movie['movie']}\")\n",
    "\n",
    "with open(\"reviews_extended.json\", \"w\") as f:\n",
    "    f.write(json.dumps(reviews))\n"
   ]
  }
 ],
 "metadata": {
  "colab": {
   "collapsed_sections": [],
   "name": "lab1_draft",
   "provenance": []
  },
  "kernelspec": {
   "name": "python395jvsc74a57bd0e667ee2f417072daf1b2e3a6bedd52bbbc661e4f1f42aa6f34fdbdae2ae4f0ef",
   "language": "python",
   "display_name": "Python 3.9.5 64-bit"
  },
  "language_info": {
   "codemirror_mode": {
    "name": "ipython",
    "version": 3
   },
   "file_extension": ".py",
   "mimetype": "text/x-python",
   "name": "python",
   "nbconvert_exporter": "python",
   "pygments_lexer": "ipython3",
   "version": "3.9.5"
  }
 },
 "nbformat": 4,
 "nbformat_minor": 1
}