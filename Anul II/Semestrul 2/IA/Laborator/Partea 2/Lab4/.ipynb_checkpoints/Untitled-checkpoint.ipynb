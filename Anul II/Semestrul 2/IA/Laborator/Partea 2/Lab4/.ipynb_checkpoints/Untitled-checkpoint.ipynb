{
 "cells": [
  {
   "cell_type": "code",
   "execution_count": 5,
   "id": "5eda6d2d",
   "metadata": {},
   "outputs": [],
   "source": [
    "import numpy as np"
   ]
  },
  {
   "cell_type": "code",
   "execution_count": 6,
   "id": "5e4b4241",
   "metadata": {},
   "outputs": [],
   "source": [
    "def normalize_data(train_data, test_data, type_=None):\n",
    "    # standard, l1, l2\n",
    "    # N X F\n",
    "    if type_ == 'standard':\n",
    "        mean_train = np.mean(train_data, axis=0)\n",
    "        std_train = np.std(train_data, axis=0)\n",
    "        scaled_train_data = (train_data - mean_train) / std_train\n",
    "        scaled_test_data = (test_data - mean_train) / std_train\n",
    "    elif type_ == 'l1':\n",
    "        norm_train = np.sum(np.abs(train_data), axis=1, keepdis=True) + 10 ** -8\n",
    "        scaled_train_data = train_data / norm_train\n",
    "        norm_test = np.sum(np.abs(test_data), axis=1, keepdims=True) + 10 ** -8\n",
    "        scaled_test_data = test_data / norm_test\n",
    "    elif type_ == 'l2':\n",
    "        norm_train = np.sqrt(np.sum(train_data ** 2, axis=1, keepdims=True)) + 10 ** -8\n",
    "        scaled_train_data = train_data / norm_train\n",
    "        norm_test = np.sum(np.abs(test_data ** 2), axis=1, keepdims=True) + 10 ** -8\n",
    "        scaled_test_data = test_data / norm_test\n",
    "    else:\n",
    "        raise Exception(\"Type not found\")"
   ]
  },
  {
   "cell_type": "code",
   "execution_count": 12,
   "id": "2b21bad1",
   "metadata": {},
   "outputs": [],
   "source": [
    "class BagOfWords:\n",
    "    def __init__(self):\n",
    "        self.vocabulary = {} # word: id\n",
    "        self.voc_len = 0\n",
    "        self.words = []\n",
    "        \n",
    "    def build_vocabulary(self, data):\n",
    "        for sentence in data:\n",
    "            for word in sentence:\n",
    "                if word not in self.vocabulary:\n",
    "                    self.vocabulary[word] = len(self.vocabulary)\n",
    "                    self.words.append(word)\n",
    "            self.voc_len = len(self.vocabulary)\n",
    "            \n",
    "    def get_features(self, data):\n",
    "        features = np.zeros((len(data), self.voc_len))\n",
    "        \n",
    "        for id_sen, sentence in enumerate(data):\n",
    "            for word in sentence:\n",
    "                if word in self.vocabulary:\n",
    "                    features[id_sen, self.vocabulary[word]] += 1\n",
    "        return features\n",
    "                    "
   ]
  },
  {
   "cell_type": "code",
   "execution_count": 13,
   "id": "7f622bd5",
   "metadata": {},
   "outputs": [],
   "source": [
    "l = [['ana', 'are', 'mere'], 'add', 'ss', 'sssssss', []]"
   ]
  },
  {
   "cell_type": "code",
   "execution_count": null,
   "id": "810fc363",
   "metadata": {},
   "outputs": [],
   "source": []
  }
 ],
 "metadata": {
  "kernelspec": {
   "display_name": "Python 3",
   "language": "python",
   "name": "python3"
  },
  "language_info": {
   "codemirror_mode": {
    "name": "ipython",
    "version": 3
   },
   "file_extension": ".py",
   "mimetype": "text/x-python",
   "name": "python",
   "nbconvert_exporter": "python",
   "pygments_lexer": "ipython3",
   "version": "3.9.1"
  }
 },
 "nbformat": 4,
 "nbformat_minor": 5
}
