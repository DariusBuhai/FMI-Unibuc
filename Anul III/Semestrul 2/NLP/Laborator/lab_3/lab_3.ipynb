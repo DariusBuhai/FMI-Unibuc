{
 "cells": [
  {
   "cell_type": "markdown",
   "id": "4fc86a84",
   "metadata": {
    "id": "4fc86a84"
   },
   "source": [
    "## Lab 3. Text classification using Bag-of-Words representation"
   ]
  },
  {
   "cell_type": "code",
   "execution_count": 1,
   "id": "58ea606b",
   "metadata": {
    "id": "58ea606b"
   },
   "outputs": [],
   "source": [
    "import matplotlib.pyplot as plt\n",
    "import numpy as np\n",
    "import seaborn as sns\n",
    "from sklearn import preprocessing, metrics\n",
    "from sklearn.datasets import make_classification\n",
    "from sklearn.feature_extraction.text import CountVectorizer, TfidfVectorizer\n",
    "from sklearn.model_selection import train_test_split\n",
    "from sklearn.tree import DecisionTreeClassifier"
   ]
  },
  {
   "cell_type": "markdown",
   "id": "8db25202",
   "metadata": {
    "id": "8db25202"
   },
   "source": [
    "### 1. Bag-of-Words"
   ]
  },
  {
   "cell_type": "markdown",
   "id": "ee75112f",
   "metadata": {
    "id": "ee75112f"
   },
   "source": [
    "Am vazut in laboratorul trecut cum putem folosi diverse tehnici pentru a reduce un text la o lista de cuvinte (tokens). Am vazut cum putem elimina cuvintele care au o incarcatura semantica redusa (stopwords) si cum putem normaliza tokenii, aducandu-i la o forma unica pentru inlfexiuni diferite ale acestora (lematizare, stemming).\n",
    "\n",
    "Pentru a antrena un model de Machine Learning avem nevoie sa mai facem cativa pasi. Aceste reprezentari determinate anterior (liste de tokens) trebuie traduse in reprezentari numerice vectoriale (fiecarui text ii vom asocia un vector, iar toti vectorii corespunzatori textelor vor avea aceeasi dimensiune)."
   ]
  },
  {
   "cell_type": "markdown",
   "id": "a3168a61",
   "metadata": {
    "id": "a3168a61"
   },
   "source": [
    "O astfel de metoda este reprezentarea textelor folosind tehnica Bag-of-Words. Aceasta metoda porneste de la un vocabular de cuvinte, un sir $[w_1, w_2, \\ldots, w_n]$, unde $w_i$ reprezinta un cuvant din vocabular. Vocabularul poate fi stabilit de la inceput sau determinat pe baza listelor preprocesate de tokeni (putem defini vocabularul ca cei mai frecventi $n$ tokens din aceste liste).\n",
    "\n",
    "Un text (lista de tokens) poate fi acum transformat intr-un vector de dimensiune $n$: $(a_1, \\ldots, a_n)$ unde $a_i=1$ daca cuvantul $w_i$ apare cel putin o data in text, respectiv $a_i=0$ altfel. Aceasta reprezentare o mai numim si Bag-of-Words binar.\n",
    "\n",
    "O altfel de reprezentare asemanatoare poate fi bazata pe frecvente, $a_i$ reprezinta numarul de aparitii ale cuvantului $w_i$ in text."
   ]
  },
  {
   "cell_type": "code",
   "execution_count": 2,
   "id": "ae68493f",
   "metadata": {
    "id": "ae68493f"
   },
   "outputs": [],
   "source": [
    "# exemplu texte (procesate ca liste de tokens)\n",
    "texts = [\n",
    "    [\"love\", \"fun\", \"fun\", \"play\", \"happy\", \"sad\"],\n",
    "    [\"love\", \"happy\", \"love\", \"love\", \"tears\"],\n",
    "    [\"sad\", \"tears\", \"tears\"],\n",
    "]\n",
    "\n",
    "# exemplu vocabular\n",
    "vocab = [\"love\", \"fun\", \"tears\", \"sad\", \"happy\"]"
   ]
  },
  {
   "cell_type": "code",
   "execution_count": 3,
   "id": "26baa2df",
   "metadata": {
    "id": "26baa2df"
   },
   "outputs": [],
   "source": [
    "# reprezentare BoW binar\n",
    "repr_bin = [\n",
    "    [1, 1, 0, 1, 1],\n",
    "    [1, 0, 1, 0, 1],\n",
    "    [0, 0, 1, 1, 0],\n",
    "]"
   ]
  },
  {
   "cell_type": "code",
   "execution_count": 4,
   "id": "49ed4c0d",
   "metadata": {
    "id": "49ed4c0d"
   },
   "outputs": [],
   "source": [
    "# reprezentare BoW pe baza de frecvente\n",
    "repr_fr = [\n",
    "    [1, 2, 0, 1, 1],\n",
    "    [3, 0, 1, 0, 1],\n",
    "    [0, 0, 2, 1, 0],\n",
    "]"
   ]
  },
  {
   "cell_type": "markdown",
   "id": "8ffb1a37",
   "metadata": {
    "id": "8ffb1a37"
   },
   "source": [
    "Aceasta logica poate fi implementata usor, dar aceasta poate fi regasita (impreuna cu alte detalii interesante) in clasa [CountVectorizer](https://scikit-learn.org/stable/modules/generated/sklearn.feature_extraction.text.CountVectorizer.html) din scikit-learn.\n",
    "\n",
    "Intr-un obiect de acest tip putem incorpora si logica de preprocesare+tokenizare a textelor."
   ]
  },
  {
   "cell_type": "code",
   "execution_count": 5,
   "id": "8985a53b",
   "metadata": {
    "id": "8985a53b"
   },
   "outputs": [],
   "source": [
    "texts = [\n",
    "    \"Love fun fun Play Happy sad\",\n",
    "    \"love happy Love love tears\",\n",
    "    \"sad Tears tears\",\n",
    "]"
   ]
  },
  {
   "cell_type": "markdown",
   "id": "3371bc70",
   "metadata": {
    "id": "3371bc70"
   },
   "source": [
    "Implementam o preprocesare rudimentara a acestor texte, transformam toate majusculele in litere mici, iar pentru tokenizare dam split dupa spatiu. In cazul in care lucrati cu texte mai complexe, in acesti pasi includem ce am discutat in laboratorul anterior (eliminare de punctuatie, tokenizare, eliminare de stopwords, lematizare, stemming etc.)."
   ]
  },
  {
   "cell_type": "code",
   "execution_count": 6,
   "id": "761b3404",
   "metadata": {
    "id": "761b3404",
    "outputId": "f1baf3fd-3817-4672-cf87-5be47d11f1a3"
   },
   "outputs": [
    {
     "name": "stdout",
     "output_type": "stream",
     "text": [
      "['love', 'fun', 'fun', 'play', 'happy', 'sad']\n"
     ]
    }
   ],
   "source": [
    "def dummy_preprocess(text):\n",
    "    return text.lower()\n",
    "\n",
    "def dummy_tokenize(text):\n",
    "    return text.split(\" \")\n",
    "\n",
    "test_preprocess = dummy_preprocess(texts[0])\n",
    "test_tokens = dummy_tokenize(test_preprocess)\n",
    "print(test_tokens)"
   ]
  },
  {
   "cell_type": "code",
   "execution_count": 7,
   "id": "72a62d4f",
   "metadata": {
    "id": "72a62d4f",
    "outputId": "e377416f-168b-41a5-874a-8edc98c71c80"
   },
   "outputs": [
    {
     "name": "stdout",
     "output_type": "stream",
     "text": [
      "['fun', 'happy', 'love', 'sad', 'tears']\n",
      "(3, 5)\n",
      "<class 'scipy.sparse._csr.csr_matrix'>\n",
      "[[1 1 1 1 0]\n",
      " [0 1 1 0 1]\n",
      " [0 0 0 1 1]]\n"
     ]
    }
   ],
   "source": [
    "cv = CountVectorizer(\n",
    "    preprocessor=dummy_preprocess,  # metoda de preprocesare a textelor\n",
    "    tokenizer=dummy_tokenize,       # metoda de tokenizare\n",
    "    token_pattern=None,             # nu avem nevoie de acest argument intrucat avem propria metoda de tokenizare\n",
    "    max_features=5,                 # dimensiunea vocabularului care va fi determinat\n",
    "    binary=True,                    # BoW binar\n",
    ")\n",
    "\n",
    "# metoda `fit` este folosita in acest caz pentru a determina vocabularul\n",
    "# (pastrand cei mai frecventi `max_features` tokens din textele procesate)\n",
    "cv.fit(texts)\n",
    "\n",
    "print(sorted(list(cv.vocabulary_.keys())))\n",
    "\n",
    "# calculeaza reprezentarile textelor (feature vectors)\n",
    "features = cv.transform(texts)\n",
    "print(features.shape)\n",
    "print(type(features))\n",
    "print(features.toarray())  # convertim la numpy array"
   ]
  },
  {
   "cell_type": "code",
   "execution_count": 8,
   "id": "84022c67",
   "metadata": {
    "id": "84022c67",
    "outputId": "abbf274c-5828-42eb-9aa6-5699750e36b2"
   },
   "outputs": [
    {
     "name": "stdout",
     "output_type": "stream",
     "text": [
      "['fun', 'happy', 'love', 'sad', 'tears']\n",
      "(3, 5)\n",
      "<class 'scipy.sparse._csr.csr_matrix'>\n",
      "[[2 1 1 1 0]\n",
      " [0 1 3 0 1]\n",
      " [0 0 0 1 2]]\n"
     ]
    }
   ],
   "source": [
    "cv = CountVectorizer(\n",
    "    preprocessor=dummy_preprocess, \n",
    "    tokenizer=dummy_tokenize,       \n",
    "    token_pattern=None,             \n",
    "    max_features=5,                 \n",
    "    binary=False,                   # BoW bazat pe frecvente\n",
    ")\n",
    "\n",
    "cv.fit(texts)\n",
    "\n",
    "print(sorted(list(cv.vocabulary_.keys())))\n",
    "\n",
    "# calculeaza reprezentarile textelor (feature vectors)\n",
    "features = cv.transform(texts)\n",
    "print(features.shape)\n",
    "print(type(features))\n",
    "print(features.toarray())  # convertim la numpy array"
   ]
  },
  {
   "cell_type": "markdown",
   "id": "af3e5de5",
   "metadata": {
    "id": "af3e5de5"
   },
   "source": [
    "O alternativa a acestor reprezentari este numararea n-gramelor.\n",
    "\n",
    "Sa luam spre exemplu fraza \"I am not happy\". Metoda de mai devreme ne reda reprezentarea acestei fraza ca o multime de cuvinte (indiferent de ordinea lor). Astfel, aceasta reprezentare indica prezenta cuvantului \"happy\", ceea ce ar face un model sa interpreteze textul intr-un cadru pozitiv. Dar vedem clar ca nu este aceasta situatia. Daca in loc de tokeni simpli (unigrame) am numara secvente de cate 2 tokeni consecutivi (bigrame), am putea identifica prezenta bigramei (\"not\", \"happy\") care intuim ca nu ar avea ce cauta intr-un text cu sentiment pozitiv."
   ]
  },
  {
   "cell_type": "code",
   "execution_count": 9,
   "id": "1fe4c428",
   "metadata": {
    "id": "1fe4c428",
    "outputId": "f8baf33c-2bea-48f5-ac5a-3881572a9b4c"
   },
   "outputs": [
    {
     "name": "stdout",
     "output_type": "stream",
     "text": [
      "['fun fun', 'fun play', 'happy love', 'happy sad', 'love fun']\n",
      "(3, 5)\n",
      "<class 'scipy.sparse._csr.csr_matrix'>\n",
      "[[1 1 0 1 1]\n",
      " [0 0 1 0 0]\n",
      " [0 0 0 0 0]]\n"
     ]
    }
   ],
   "source": [
    "cv = CountVectorizer(\n",
    "    preprocessor=dummy_preprocess, \n",
    "    tokenizer=dummy_tokenize,       \n",
    "    token_pattern=None,             \n",
    "    max_features=5,                 \n",
    "    ngram_range=(2, 2),                   # construim un vocabular de bigrame\n",
    ")\n",
    "\n",
    "cv.fit(texts)\n",
    "\n",
    "print(sorted(list(cv.vocabulary_.keys())))\n",
    "\n",
    "# calculeaza reprezentarile textelor (feature vectors)\n",
    "features = cv.transform(texts)\n",
    "print(features.shape)\n",
    "print(type(features))\n",
    "print(features.toarray())  # convertim la numpy array"
   ]
  },
  {
   "cell_type": "markdown",
   "id": "d83fd48c",
   "metadata": {
    "id": "d83fd48c"
   },
   "source": [
    "### 2. Feature Scaling"
   ]
  },
  {
   "cell_type": "markdown",
   "id": "134e5179",
   "metadata": {
    "id": "134e5179"
   },
   "source": [
    "#### Standard Scaling\n",
    "\n",
    "Avand determinati feature vectorii se pune urmatoarea problema: stiind ca un feature reprezinta frecventa unui cuvant din vocabular in texte, iar pentru anumite cuvinte in mod natural aceasta frecventa este mai mare (Zipf's Law), faptul ca anumite feature-uri au valoare absoluta mai mare decat alta poate influenta diversi algoritmi de ML sa trateze acele feature-uri cu mai multa importanta (ceea ce de multe ori nu este corect).\n",
    "\n",
    "Prin Standard Scaling presupunem ca fiecare feature corespunde cate unei variabile aleatoare distribuita normal. Putem deci estima pentru fiecare astfel de variabila media si deviatia standard, apoi prin procesul de standardizare putem reduce valorile feature-ului corespunzator la o distributie normala de medie $0$ si varianta $1$."
   ]
  },
  {
   "cell_type": "code",
   "execution_count": 10,
   "id": "e9791f91",
   "metadata": {
    "id": "e9791f91",
    "outputId": "a163e5e3-a5a2-4914-8ff2-e61aa266a609"
   },
   "outputs": [
    {
     "name": "stdout",
     "output_type": "stream",
     "text": [
      "media = [1.         0.         0.33333333]\n",
      "std = [0.81649658 0.81649658 1.24721913]\n",
      "[[ 0.         -1.22474487  1.33630621]\n",
      " [ 1.22474487  0.         -0.26726124]\n",
      " [-1.22474487  1.22474487 -1.06904497]]\n",
      "[[-2.44948974  1.22474487 -0.26726124]]\n"
     ]
    }
   ],
   "source": [
    "x_train = np.array([[1, -1, 2], [2, 0, 0], [0, 1, -1]], dtype=np.float64)\n",
    "x_test = np.array([[-1, 1, 0]], dtype=np.float64)\n",
    " \n",
    "# clasa folosita pentru standardizare\n",
    "scaler = preprocessing.StandardScaler()\n",
    "\n",
    "# calculam media si deviatia standard pentru feature vectorii de antrenare\n",
    "scaler.fit(x_train)\n",
    "\n",
    "print('media =', scaler.mean_)  \n",
    "print('std =', scaler.scale_) \n",
    "\n",
    "# scalam vectorii de train\n",
    "scaled_x_train = scaler.transform(x_train)\n",
    "print(scaled_x_train)  \n",
    "\n",
    "# scalam vectorii de test\n",
    "# (folosim media si std determinate din train, datele de test nu sunt folosite pentru a determina hiperparametrii)\n",
    "scaled_x_test = scaler.transform(x_test)\n",
    "print(scaled_x_test)     "
   ]
  },
  {
   "cell_type": "markdown",
   "id": "b35243cb",
   "metadata": {
    "id": "b35243cb"
   },
   "source": [
    "#### Normalizare L1 si L2\n",
    "\n",
    "Acest mod de normalizare este mai simplu intrucat nu mai necesita determinarea unor parametrii. Fiecare feature vector este impartit prin norma sa (L1 sau L2), obtinand astfel ca toti vectorii corespunzatoari textelor sa aiba norma 1.\n",
    "\n",
    "$$x{\\_}scaled_1 = \\frac{X}{\\mid\\mid X \\mid\\mid_1}, \\mid\\mid X \\mid\\mid_1 = \\sum_{i=1}^{i=n}\\mid x_i \\mid $$\n",
    "$$x{\\_}scaled_2 = \\frac{X}{\\mid\\mid X \\mid\\mid_2}, \\mid\\mid X \\mid\\mid_2 = \\sqrt{\\sum_{i=1}^{i=n} x_i ^ 2 }$$"
   ]
  },
  {
   "cell_type": "code",
   "execution_count": 11,
   "id": "47ad1e98",
   "metadata": {
    "id": "47ad1e98",
    "outputId": "cbc06736-4bc6-440d-e4d6-9df6966ef01b"
   },
   "outputs": [
    {
     "name": "stdout",
     "output_type": "stream",
     "text": [
      "[[ 0.25 -0.25  0.5 ]\n",
      " [ 1.    0.    0.  ]\n",
      " [ 0.    0.5  -0.5 ]]\n",
      "[[-0.5  0.5  0. ]]\n"
     ]
    }
   ],
   "source": [
    "x_train = np.array([[1, -1, 2], [2, 0, 0], [0, 1, -1]], dtype=np.float64)\n",
    "x_test = np.array([[-1, 1, 0]], dtype=np.float64)\n",
    "\n",
    "# clasa folosita pentru normalizare\n",
    "scaler = preprocessing.Normalizer(norm='l1') \n",
    "# scaler = preprocessing.Normalizer(norm='l2')\n",
    "\n",
    "# `fit` aici nu face absolut nimic\n",
    "scaler.fit(x_train)\n",
    "\n",
    "# scalam vectorii de train\n",
    "scaled_x_train = scaler.transform(x_train)\n",
    "print(scaled_x_train)  \n",
    "\n",
    "# scalam vectorii de test\n",
    "scaled_x_test = scaler.transform(x_test)\n",
    "print(scaled_x_test)  "
   ]
  },
  {
   "cell_type": "markdown",
   "id": "641c1c37",
   "metadata": {
    "id": "641c1c37"
   },
   "source": [
    "### 3. Tf-Idf"
   ]
  },
  {
   "cell_type": "markdown",
   "id": "cbc92232",
   "metadata": {
    "id": "cbc92232"
   },
   "source": [
    "O alta metoda de normalizare a feature-urilor pentru reprezentarea Bag-of-Words este **Tf-Idf**.\n",
    "\n",
    "**Term Frequency (TF)** numara pentru un token si un document de cate ori apare tokenul respectiv in document.\n",
    "\n",
    "O varianta de calcul pentru un token $t$ si un document $d$ ar fi: $\\textrm{tf}(t, d) = log(1 + \\textrm{frecv}(t, d))$.\n",
    "\n",
    "**Inverse Document Frequency (IDF)** iluestreaza cat de comun sau rar este un cuvant intr-un intreg corpus (multime de texte). Astfel, cu cat aceasta valoare se apropie de $0$ tokenul respectiv este mai comun.\n",
    "\n",
    "Pentru un token $t$, o multime de $N$ documente $D$, putem calcula IDF astfel: $\\textrm{idf}(t, D) = \\log(\\frac{N}{|\\{d \\in D: t \\textrm{ apare in } d\\}|})$.\n",
    "\n",
    "**TF-IDF** combina cele doua formule:\n",
    "$$\\textrm{tfidf}(t, d, D) = \\textrm{tf}(t, d) \\cdot \\textrm{idf}(t, D)$$.\n",
    "\n",
    "Mai multe informatii [aici](https://ro.wikipedia.org/wiki/Tf%E2%80%93idf)."
   ]
  },
  {
   "cell_type": "code",
   "execution_count": 12,
   "id": "53971e83",
   "metadata": {
    "id": "53971e83",
    "outputId": "f9e8d610-3e52-457b-8bcf-6b19c10c29e2"
   },
   "outputs": [
    {
     "name": "stdout",
     "output_type": "stream",
     "text": [
      "['fun', 'happy', 'love', 'sad', 'tears']\n",
      "(3, 5)\n",
      "<class 'scipy.sparse._csr.csr_matrix'>\n",
      "[[0.83513325 0.31757018 0.31757018 0.31757018 0.        ]\n",
      " [0.         0.30151134 0.90453403 0.         0.30151134]\n",
      " [0.         0.         0.         0.4472136  0.89442719]]\n"
     ]
    }
   ],
   "source": [
    "# exemplu TfidfVectorizer\n",
    "\n",
    "cv = TfidfVectorizer(\n",
    "    preprocessor=dummy_preprocess, \n",
    "    tokenizer=dummy_tokenize,       \n",
    "    token_pattern=None,             \n",
    "    max_features=5,\n",
    ")\n",
    "\n",
    "cv.fit(texts)\n",
    "\n",
    "print(sorted(list(cv.vocabulary_.keys())))\n",
    "\n",
    "# calculeaza reprezentarile textelor (feature vectors)\n",
    "features = cv.transform(texts)\n",
    "print(features.shape)\n",
    "print(type(features))\n",
    "print(features.toarray())  # convertim la numpy array"
   ]
  },
  {
   "cell_type": "markdown",
   "id": "40b81a88",
   "metadata": {
    "id": "40b81a88"
   },
   "source": [
    "### 4. Clasificare folosind Scikit-Learn"
   ]
  },
  {
   "cell_type": "code",
   "execution_count": 13,
   "id": "b788ead5",
   "metadata": {
    "id": "b788ead5",
    "outputId": "e7962242-96d8-4f0f-fcc9-a4089b6e3adf"
   },
   "outputs": [
    {
     "name": "stdout",
     "output_type": "stream",
     "text": [
      "(800, 10) (800,)\n",
      "(200, 10) (200,)\n"
     ]
    }
   ],
   "source": [
    "# generam o problema \"dummy\" de clasificare:\n",
    "# - 1000 de feature vectori de dimensiune 10 (din care doar 5 sunt relevanti pentru clasificare)\n",
    "# - fiecarui vector ii este asociat un label (0, 1 sau 2)\n",
    "X, y = make_classification(\n",
    "    n_samples=1000, n_classes=3, n_features=10, n_informative=5, n_redundant=5, random_state=42\n",
    ")\n",
    "\n",
    "X_train, X_test, y_train, y_test = train_test_split(X, y, test_size=0.2, random_state=42)\n",
    "\n",
    "print(X_train.shape, y_train.shape)\n",
    "print(X_test.shape, y_test.shape)"
   ]
  },
  {
   "cell_type": "markdown",
   "id": "8a620a91",
   "metadata": {
    "id": "8a620a91"
   },
   "source": [
    "Vom folosi pentru clasificare un decision tree (mai multe detalii [aici](https://en.wikipedia.org/wiki/Decision_tree_learning))"
   ]
  },
  {
   "cell_type": "code",
   "execution_count": 14,
   "id": "50b6a114",
   "metadata": {
    "id": "50b6a114"
   },
   "outputs": [],
   "source": [
    "# initializam un astfel de algoritm cu anumiti hiperparametri\n",
    "clf = DecisionTreeClassifier(max_depth=3, min_samples_split=5)\n",
    "\n",
    "# antrenam folosind datele de train\n",
    "clf.fit(X_train, y_train)\n",
    "\n",
    "# folosim modelul pentru a prezice labelurile de test\n",
    "y_test_predict = clf.predict(X_test)"
   ]
  },
  {
   "cell_type": "markdown",
   "id": "d47f75d0",
   "metadata": {
    "id": "d47f75d0"
   },
   "source": [
    "### 5. Metrici"
   ]
  },
  {
   "cell_type": "markdown",
   "id": "50aa802f",
   "metadata": {
    "id": "50aa802f"
   },
   "source": [
    "Avem mai multe metrici pe care le putem folosi pentru a determina performanta unui astfel de model. Pornim de la cazul simplu al unei probleme de clasificare binara (0/1)."
   ]
  },
  {
   "cell_type": "code",
   "execution_count": 15,
   "id": "48d28a94",
   "metadata": {
    "id": "48d28a94"
   },
   "outputs": [],
   "source": [
    "y_true    = [0, 0, 0, 1, 1, 1, 1]\n",
    "y_predict = [0, 1, 0, 0, 1, 1, 0]"
   ]
  },
  {
   "cell_type": "markdown",
   "id": "2195e9eb",
   "metadata": {
    "id": "2195e9eb"
   },
   "source": [
    "Definim:\n",
    " * TP (true positive): numarul de labeluri 1 prezise corect\n",
    " * FP (false positive): numarul de labeluri 1 prezise incorect\n",
    " * TN (true negative): numarul de labeluri 0 prezise corect\n",
    " * FN (false negative): numarul de labeluri 0 prezise incorect\n",
    " \n",
    "Acuratetea se calculeaza dupa formula:\n",
    "$$\\frac{TP+TN}{TP+FP+TN+FN}$$\n",
    "\n",
    "Cu alte cuvinte cate labeluri au fost prezise corect din totalul de predictii."
   ]
  },
  {
   "cell_type": "code",
   "execution_count": 16,
   "id": "b101b4a6",
   "metadata": {
    "id": "b101b4a6",
    "outputId": "e970be4e-1343-4b22-81bf-a5c9763603bb"
   },
   "outputs": [
    {
     "name": "stdout",
     "output_type": "stream",
     "text": [
      "Accuracy: 0.5714285714285714\n"
     ]
    }
   ],
   "source": [
    "print(\"Accuracy:\", metrics.accuracy_score(y_true, y_predict))"
   ]
  },
  {
   "cell_type": "markdown",
   "id": "6746be29",
   "metadata": {
    "id": "6746be29"
   },
   "source": [
    "Acuratetea nu este mereu metrica preferabila. In cazul unei probleme dezechilibrate (imbalanced) in care $99\\%$ din obiecte au labelul $0$ si doar $1\\%$ au labelul $1$, un clasificator care prezice doar labelul $0$ pentru toate exemplele ar avea acuratete $99\\%$! Daca problema ar fi fost detectare de spam, sau detectarea simptomelor asociate unui anumit tip de cancer, un astfel de model nu ar fi considerat unul performant.\n",
    "\n",
    "Introducem astfel alte cateva metrici:\n",
    " * P (precision): $\\frac{TP}{TP+FP}$ (dintre toate predictiile 1, cate sunt corecte?)\n",
    " * R (recall): $\\frac{TP}{TP+FN}$ (dintre toate obiectele din clasa 1, cate am reusit sa prezicem corect?)\n",
    " * F1: $\\frac{2PR}{P+R}$ (media armonica intre precision si recall)"
   ]
  },
  {
   "cell_type": "code",
   "execution_count": 17,
   "id": "2fa6fa30",
   "metadata": {
    "id": "2fa6fa30",
    "outputId": "4cd51f21-34dc-4409-efbe-8841fb3c1ef4"
   },
   "outputs": [
    {
     "name": "stdout",
     "output_type": "stream",
     "text": [
      "Precision: 0.6666666666666666\n",
      "Recall: 0.5\n",
      "F1: 0.5714285714285715\n"
     ]
    }
   ],
   "source": [
    "print(\"Precision:\", metrics.precision_score(y_true, y_predict))\n",
    "print(\"Recall:\", metrics.recall_score(y_true, y_predict))\n",
    "print(\"F1:\", metrics.f1_score(y_true, y_predict))"
   ]
  },
  {
   "cell_type": "markdown",
   "id": "62475112",
   "metadata": {
    "id": "62475112"
   },
   "source": [
    "In cazul problemelor de clasificare de tip multi-class (mai mult de 2 clase). Acuratetea pastreaza acelasi sens de \"cate predictii sunt corecte din totalul predictiilor\".\n",
    "\n",
    "Precision, Recall si F1 se calculeaza intr-o maniera one-vs-rest. Astfel fixand o anumita clasa, transformam labelurile in $1$ daca labelul original corespunde clasei fixate si $0$ altfel. Putem acum calcula aceste metrici in cazul binar. Rezultatele obtinute pentru fiecare astfel de fixare sunt acumulate si rezultatul final este media acestora (calculata ca medie aritmetica - macro, sau ca medie ponderata - weighted in care ponderile sunt date de numarul de exemple din clasa respectiva)."
   ]
  },
  {
   "cell_type": "code",
   "execution_count": 18,
   "id": "a83260f9",
   "metadata": {
    "id": "a83260f9",
    "outputId": "bf4ad367-4025-4511-8e64-4baca9d14cf1"
   },
   "outputs": [
    {
     "name": "stdout",
     "output_type": "stream",
     "text": [
      "Accuracy: 0.7\n",
      "F1 (macro): 0.6935607271177741\n",
      "F1 (weighted): 0.6932996310177518\n"
     ]
    }
   ],
   "source": [
    "# calculam acuratete si F1 pentru clasificarea de mai devreme\n",
    "print(\"Accuracy:\", metrics.accuracy_score(y_test, y_test_predict))\n",
    "print(\"F1 (macro):\", metrics.f1_score(y_test, y_test_predict, average=\"macro\"))\n",
    "print(\"F1 (weighted):\", metrics.f1_score(y_test, y_test_predict, average=\"weighted\"))"
   ]
  },
  {
   "cell_type": "code",
   "execution_count": 19,
   "id": "707cad42",
   "metadata": {
    "id": "707cad42",
    "outputId": "9b63015e-01df-4dba-ee4a-311280633d4b"
   },
   "outputs": [
    {
     "name": "stdout",
     "output_type": "stream",
     "text": [
      "              precision    recall  f1-score   support\n",
      "\n",
      "           0       0.78      0.74      0.76        68\n",
      "           1       0.67      0.86      0.75        65\n",
      "           2       0.65      0.51      0.57        67\n",
      "\n",
      "    accuracy                           0.70       200\n",
      "   macro avg       0.70      0.70      0.69       200\n",
      "weighted avg       0.70      0.70      0.69       200\n",
      "\n"
     ]
    }
   ],
   "source": [
    "print(metrics.classification_report(y_test, y_test_predict))"
   ]
  },
  {
   "cell_type": "markdown",
   "id": "67b30fd0",
   "metadata": {
    "id": "67b30fd0"
   },
   "source": [
    "O vizualizare utila este si matricea de confuzie in care numaram $A[i][j]$ cate obiecte din clasa $i$ au fost prezise ca facand parte din clasa $j$."
   ]
  },
  {
   "cell_type": "code",
   "execution_count": 20,
   "id": "d922431f",
   "metadata": {
    "id": "d922431f",
    "outputId": "4defa47b-0626-458f-dbf7-c92f11e49d69"
   },
   "outputs": [
    {
     "name": "stdout",
     "output_type": "stream",
     "text": [
      "[[50  7 11]\n",
      " [ 2 56  7]\n",
      " [12 21 34]]\n"
     ]
    }
   ],
   "source": [
    "cm = metrics.confusion_matrix(y_test, y_test_predict)\n",
    "print(cm)"
   ]
  },
  {
   "cell_type": "code",
   "execution_count": 21,
   "id": "9760e755",
   "metadata": {
    "id": "9760e755",
    "outputId": "cc63d7cf-6759-4220-ad59-6ec9ad200f81"
   },
   "outputs": [
    {
     "data": {
      "text/plain": [
       "<AxesSubplot:>"
      ]
     },
     "execution_count": 21,
     "metadata": {},
     "output_type": "execute_result"
    },
    {
     "data": {
      "image/png": "[encoded data removed]",
      "text/plain": [
       "<Figure size 432x288 with 2 Axes>"
      ]
     },
     "metadata": {
      "needs_background": "light"
     },
     "output_type": "display_data"
    }
   ],
   "source": [
    "sns.heatmap(cm, annot=True)"
   ]
  },
  {
   "cell_type": "markdown",
   "id": "78e9b02d",
   "metadata": {
    "id": "78e9b02d"
   },
   "source": [
    "### 6. Importanta feature-urilor"
   ]
  },
  {
   "cell_type": "markdown",
   "id": "d893d1dd",
   "metadata": {
    "id": "d893d1dd"
   },
   "source": [
    "Intuitiv anumite feature-uri sunt mai importante decat altele cand vine vorba de clasificare. Prezenta cuvantului \"happy\" sau \"sad\" ne poate oferi informatii despre sentimentul unui text, pe cand cuvantul \"car\", nu."
   ]
  },
  {
   "cell_type": "code",
   "execution_count": 22,
   "id": "e0b88cc5",
   "metadata": {
    "id": "e0b88cc5",
    "outputId": "b4e8d50d-a950-4ffd-93b2-7dab27f9181a"
   },
   "outputs": [
    {
     "name": "stdout",
     "output_type": "stream",
     "text": [
      "Feature: 0, Score: 0.11837956006934854\n",
      "Feature: 1, Score: 0.0\n",
      "Feature: 2, Score: 0.4172424563910119\n",
      "Feature: 3, Score: 0.039030730202152863\n",
      "Feature: 4, Score: 0.0\n",
      "Feature: 5, Score: 0.21084131505634365\n",
      "Feature: 6, Score: 0.0\n",
      "Feature: 7, Score: 0.04661388817258808\n",
      "Feature: 8, Score: 0.06021961536405184\n",
      "Feature: 9, Score: 0.10767243474450318\n"
     ]
    },
    {
     "data": {
      "image/png": "[encoded data removed]",
      "text/plain": [
       "<Figure size 432x288 with 1 Axes>"
      ]
     },
     "metadata": {
      "needs_background": "light"
     },
     "output_type": "display_data"
    }
   ],
   "source": [
    "# pentru decision tree avem urmatoare metoda pentru a extrage aceasta importanta\n",
    "importance = clf.feature_importances_\n",
    "for i,v in enumerate(importance):\n",
    "    print(f\"Feature: {i}, Score: {v}\")\n",
    "\n",
    "plt.bar([x for x in range(len(importance))], importance)\n",
    "plt.show()"
   ]
  },
  {
   "cell_type": "markdown",
   "id": "6056deb9",
   "metadata": {
    "id": "6056deb9"
   },
   "source": [
    "Pentru alte modele exista diverse alte moduri de a extrage importanta feature-urilor (ex. logistic regression, SVM linear, Random Forest etc.), insa pentru altele este mult mai complicat sau chiar imposibil (ex. SVM cu kernel rbf)."
   ]
  },
  {
   "cell_type": "markdown",
   "id": "975369b0",
   "metadata": {
    "id": "975369b0"
   },
   "source": [
    "# TASK:\n",
    "\n",
    "### Deadline: 17 martie ora 23:59.\n",
    "### Formular pentru trimiterea temei: https://forms.gle/isPikzbiBdNm7AhA6"
   ]
  },
  {
   "cell_type": "markdown",
   "id": "edcb71b7",
   "metadata": {
    "id": "edcb71b7"
   },
   "source": [
    "Vom folosi urmatorul dataset: https://www.kaggle.com/rmisra/news-category-dataset (headline-uri de stiri etichetate conform unei liste de categorii).\n",
    "\n",
    "1. (optional) Intrucat setul de date contine multe categorii, puteti pastra exemplele din 4-5 clase (selectate de catre voi) si sa rezolvati problema de clasificare doar pentru aceste exemple\n",
    "2. Incercati mai multe metode de preprocesare si tokenizare a textelor pentru a obtine reprezentari de tip Bag-of-Words (stergeti/nu stergeti stop words, lematizati sau aplicati stemming, pastrati sau eliminati punctuatia, normalizati folosind standardizare, L1, L2 sau Tf-Idf). Implementati **3** astfel de combinatii.\n",
    "3. Impartiti setul de date in 80% train, 20% test, iar pentru fiecare metoda de preprocesare antrenati un model ales de voi (diferit de Decision Tree) pe datele de train\n",
    "4. Evaluati modelul pe datele de test, determinand acuratete, precizie, recall, f1, si stabiliti care metoda de procesare a textelor a adus rezultate mai bune.\n",
    "5. Determinati pentru acest caz care au fost top 10 cele mai importante feature-uri (cuvinte).\n",
    "6. Folosind aceasta metoda de procesare a textelor, antrenati alte doua modele diferite la alegere si comparati performanta cu modelul original.\n",
    "7. Pentru cel mai bun model afisati metricile la nivel de clasa (classification report) si matricea de confuzie."
   ]
  }
 ],
 "metadata": {
  "colab": {
   "collapsed_sections": [],
   "name": "lab_3.ipynb",
   "provenance": []
  },
  "kernelspec": {
   "display_name": "lab-nlp-an3",
   "language": "python",
   "name": "lab-nlp-an3"
  },
  "language_info": {
   "codemirror_mode": {
    "name": "ipython",
    "version": 3
   },
   "file_extension": ".py",
   "mimetype": "text/x-python",
   "name": "python",
   "nbconvert_exporter": "python",
   "pygments_lexer": "ipython3",
   "version": "3.8.10"
  }
 },
 "nbformat": 4,
 "nbformat_minor": 5
}
