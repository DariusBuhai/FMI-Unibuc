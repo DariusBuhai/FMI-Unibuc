{
 "cells": [
  {
   "cell_type": "markdown",
   "source": [
    "# TASK:\n",
    "\n",
    "### Deadline: 17 martie ora 23:59.\n",
    "### Formular pentru trimiterea temei: https://forms.gle/isPikzbiBdNm7AhA6"
   ],
   "metadata": {
    "collapsed": false,
    "pycharm": {
     "name": "#%% md\n"
    }
   }
  },
  {
   "cell_type": "markdown",
   "source": [
    "Vom folosi urmatorul dataset: https://www.kaggle.com/rmisra/news-category-dataset (headline-uri de stiri etichetate conform unei liste de categorii).\n",
    "\n",
    "1. (optional) Intrucat setul de date contine multe categorii, puteti pastra exemplele din 4-5 clase (selectate de catre voi) si sa rezolvati problema de clasificare doar pentru aceste exemple\n",
    "2. Incercati mai multe metode de preprocesare si tokenizare a textelor pentru a obtine reprezentari de tip Bag-of-Words (stergeti/nu stergeti stop words, lematizati sau aplicati stemming, pastrati sau eliminati punctuatia, normalizati folosind standardizare, L1, L2 sau Tf-Idf). Implementati **3** astfel de combinatii.\n",
    "3. Impartiti setul de date in 80% train, 20% test, iar pentru fiecare metoda de preprocesare antrenati un model ales de voi (diferit de Decision Tree) pe datele de train\n",
    "4. Evaluati modelul pe datele de test, determinand acuratete, precizie, recall, f1, si stabiliti care metoda de procesare a textelor a adus rezultate mai bune.\n",
    "5. Determinati pentru acest caz care au fost top 10 cele mai importante feature-uri (cuvinte).\n",
    "6. Folosind aceasta metoda de procesare a textelor, antrenati alte doua modele diferite la alegere si comparati performanta cu modelul original.\n",
    "7. Pentru cel mai bun model afisati metricile la nivel de clasa (classification report) si matricea de confuzie."
   ],
   "metadata": {
    "collapsed": false,
    "pycharm": {
     "name": "#%% md\n"
    }
   }
  },
  {
   "cell_type": "code",
   "execution_count": 32,
   "outputs": [],
   "source": [
    "from sys import platform, path\n",
    "if platform == \"linux\" or platform == \"linux2\":\n",
    "    path.append('/home/dariusbuhai/python/lib/python3.9/site-packages')\n",
    "import json"
   ],
   "metadata": {
    "collapsed": false,
    "pycharm": {
     "name": "#%%\n"
    }
   }
  },
  {
   "cell_type": "code",
   "execution_count": 33,
   "outputs": [],
   "source": [
    "# Load categories\n",
    "categories = dict()\n",
    "with open(\"data/News_Category_Dataset_v2.json\", \"r\") as f:\n",
    "    while True:\n",
    "        line = f.readline()\n",
    "        if line is None or line == '':\n",
    "            break\n",
    "        line_json = json.loads(line)\n",
    "        if line_json['category'] not in categories:\n",
    "            categories[line_json['category']] = [line_json]\n",
    "        else:\n",
    "            categories[line_json['category']].append(line_json)"
   ],
   "metadata": {
    "collapsed": false,
    "pycharm": {
     "name": "#%%\n"
    }
   }
  },
  {
   "cell_type": "markdown",
   "source": [
    "1. (optional) Intrucat setul de date contine multe categorii, puteti pastra exemplele din 4-5 clase (selectate de catre voi) si sa rezolvati problema de clasificare doar pentru aceste exemple"
   ],
   "metadata": {
    "collapsed": false,
    "pycharm": {
     "name": "#%% md\n"
    }
   }
  },
  {
   "cell_type": "code",
   "execution_count": 34,
   "outputs": [],
   "source": [
    "categories = {x:categories[x] for x in list(categories.keys())[:5]}"
   ],
   "metadata": {
    "collapsed": false,
    "pycharm": {
     "name": "#%%\n"
    }
   }
  },
  {
   "cell_type": "code",
   "execution_count": 35,
   "outputs": [],
   "source": [
    "import string\n",
    "import re\n",
    "import spacy\n",
    "from nltk.stem.snowball import SnowballStemmer\n",
    "\n",
    "nlp = spacy.load(\"en_core_web_md\")\n",
    "stemmer = SnowballStemmer(language='english')\n",
    "\n",
    "def preprocess(word: str, use_steam=False):\n",
    "    word = word.lower()\n",
    "    if not use_steam:\n",
    "        return word\n",
    "    return stemmer.stem(word)\n",
    "\n",
    "def tokenize(text: str, remove_punctuation=False, remove_stop_words=False, use_lemma=False):\n",
    "    text = re.sub(r'http\\S+', '', text)\n",
    "    if remove_punctuation:\n",
    "        text = text.translate(str.maketrans('', '', string.punctuation))\n",
    "    doc = nlp(text)\n",
    "    if remove_stop_words:\n",
    "        actual_doc = []\n",
    "        for token in doc:\n",
    "            if token.text not in nlp.Defaults.stop_words and token.text != ' ':\n",
    "                actual_doc.append(token)\n",
    "        doc = actual_doc\n",
    "    if use_lemma:\n",
    "        return [token.lemma for token in doc]\n",
    "    return [token.text for token in doc]"
   ],
   "metadata": {
    "collapsed": false,
    "pycharm": {
     "name": "#%%\n"
    }
   }
  },
  {
   "cell_type": "markdown",
   "source": [
    "2. Incercati mai multe metode de preprocesare si tokenizare a textelor pentru a obtine reprezentari de tip Bag-of-Words (stergeti/nu stergeti stop words, lematizati sau aplicati stemming, pastrati sau eliminati punctuatia, normalizati folosind standardizare, L1, L2 sau Tf-Idf). Implementati **3** astfel de combinatii."
   ],
   "metadata": {
    "collapsed": false,
    "pycharm": {
     "name": "#%% md\n"
    }
   }
  },
  {
   "cell_type": "code",
   "execution_count": 36,
   "outputs": [],
   "source": [
    "import numpy as np\n",
    "from sklearn import preprocessing, metrics\n",
    "from sklearn.feature_extraction.text import CountVectorizer, TfidfVectorizer\n",
    "\n",
    "def create_features(method=\"M1\"):\n",
    "    cv = None\n",
    "    if method == \"M1\":\n",
    "        cv = CountVectorizer(\n",
    "            preprocessor=lambda x: preprocess(x, re),\n",
    "            tokenizer=lambda x: tokenize(x, remove_punctuation=True, use_lemma=True),\n",
    "            token_pattern=None,\n",
    "            max_features=10\n",
    "        )\n",
    "    elif method == \"M2\":\n",
    "        cv = CountVectorizer(\n",
    "            preprocessor=lambda x: preprocess(x),\n",
    "            tokenizer=lambda x: tokenize(x, remove_punctuation=True, remove_stop_words=True, use_lemma=True),\n",
    "            token_pattern=None,\n",
    "            max_features=10\n",
    "        )\n",
    "    elif method == \"M3\":\n",
    "        cv = TfidfVectorizer(\n",
    "            preprocessor=lambda x: preprocess(x, use_steam=True),\n",
    "            tokenizer=lambda x: tokenize(x, remove_punctuation=True, remove_stop_words=True),\n",
    "            token_pattern=None,\n",
    "            max_features=10\n",
    "        )\n",
    "    X, y = None, None\n",
    "    idx = 0\n",
    "    for category in categories:\n",
    "        texts = [x['headline'] for x in categories[category]]\n",
    "        cv.fit(texts)\n",
    "        features = cv.transform(texts)\n",
    "        if method in [\"M1\", \"M2\"]:\n",
    "            scaler = preprocessing.Normalizer(norm=('l1' if method == \"M1\" else \"l2\"))\n",
    "            scaler.fit(features)\n",
    "            features = scaler.transform(features)\n",
    "        features = features.toarray()\n",
    "        features = np.array(features, dtype=np.float64)\n",
    "        if X is None:\n",
    "            X = features\n",
    "        else:\n",
    "            X = np.concatenate((features, X), axis=0)\n",
    "        results = np.array([idx for _ in range(features.shape[0])])\n",
    "        if y is None:\n",
    "            y = results\n",
    "        else:\n",
    "            y = np.concatenate((y, results))\n",
    "        idx += 1\n",
    "    return X, y"
   ],
   "metadata": {
    "collapsed": false,
    "pycharm": {
     "name": "#%%\n"
    }
   }
  },
  {
   "cell_type": "code",
   "execution_count": 31,
   "outputs": [
    {
     "ename": "KeyboardInterrupt",
     "evalue": "",
     "output_type": "error",
     "traceback": [
      "\u001B[0;31m---------------------------------------------------------------------------\u001B[0m",
      "\u001B[0;31mKeyboardInterrupt\u001B[0m                         Traceback (most recent call last)",
      "\u001B[0;32m<ipython-input-31-9e67df226ce8>\u001B[0m in \u001B[0;36m<module>\u001B[0;34m\u001B[0m\n\u001B[0;32m----> 1\u001B[0;31m \u001B[0mX1\u001B[0m\u001B[0;34m,\u001B[0m \u001B[0my1\u001B[0m \u001B[0;34m=\u001B[0m \u001B[0mcreate_features\u001B[0m\u001B[0;34m(\u001B[0m\u001B[0;34m\"M1\"\u001B[0m\u001B[0;34m)\u001B[0m\u001B[0;34m\u001B[0m\u001B[0;34m\u001B[0m\u001B[0m\n\u001B[0m\u001B[1;32m      2\u001B[0m \u001B[0mprint\u001B[0m\u001B[0;34m(\u001B[0m\u001B[0mX1\u001B[0m\u001B[0;34m.\u001B[0m\u001B[0mshape\u001B[0m\u001B[0;34m,\u001B[0m \u001B[0my1\u001B[0m\u001B[0;34m.\u001B[0m\u001B[0mshape\u001B[0m\u001B[0;34m)\u001B[0m\u001B[0;34m\u001B[0m\u001B[0;34m\u001B[0m\u001B[0m\n\u001B[1;32m      3\u001B[0m \u001B[0mX2\u001B[0m\u001B[0;34m,\u001B[0m \u001B[0my2\u001B[0m \u001B[0;34m=\u001B[0m \u001B[0mcreate_features\u001B[0m\u001B[0;34m(\u001B[0m\u001B[0;34m\"M2\"\u001B[0m\u001B[0;34m)\u001B[0m\u001B[0;34m\u001B[0m\u001B[0;34m\u001B[0m\u001B[0m\n\u001B[1;32m      4\u001B[0m \u001B[0mprint\u001B[0m\u001B[0;34m(\u001B[0m\u001B[0mX2\u001B[0m\u001B[0;34m.\u001B[0m\u001B[0mshape\u001B[0m\u001B[0;34m,\u001B[0m \u001B[0my2\u001B[0m\u001B[0;34m.\u001B[0m\u001B[0mshape\u001B[0m\u001B[0;34m)\u001B[0m\u001B[0;34m\u001B[0m\u001B[0;34m\u001B[0m\u001B[0m\n\u001B[1;32m      5\u001B[0m \u001B[0mX3\u001B[0m\u001B[0;34m,\u001B[0m \u001B[0my3\u001B[0m \u001B[0;34m=\u001B[0m \u001B[0mcreate_features\u001B[0m\u001B[0;34m(\u001B[0m\u001B[0;34m\"M3\"\u001B[0m\u001B[0;34m)\u001B[0m\u001B[0;34m\u001B[0m\u001B[0;34m\u001B[0m\u001B[0m\n",
      "\u001B[0;32m<ipython-input-30-554bde70fc4a>\u001B[0m in \u001B[0;36mcreate_features\u001B[0;34m(method)\u001B[0m\n\u001B[1;32m     30\u001B[0m     \u001B[0;32mfor\u001B[0m \u001B[0mcategory\u001B[0m \u001B[0;32min\u001B[0m \u001B[0mcategories\u001B[0m\u001B[0;34m:\u001B[0m\u001B[0;34m\u001B[0m\u001B[0;34m\u001B[0m\u001B[0m\n\u001B[1;32m     31\u001B[0m         \u001B[0mtexts\u001B[0m \u001B[0;34m=\u001B[0m \u001B[0;34m[\u001B[0m\u001B[0mx\u001B[0m\u001B[0;34m[\u001B[0m\u001B[0;34m'headline'\u001B[0m\u001B[0;34m]\u001B[0m \u001B[0;32mfor\u001B[0m \u001B[0mx\u001B[0m \u001B[0;32min\u001B[0m \u001B[0mcategories\u001B[0m\u001B[0;34m[\u001B[0m\u001B[0mcategory\u001B[0m\u001B[0;34m]\u001B[0m\u001B[0;34m]\u001B[0m\u001B[0;34m\u001B[0m\u001B[0;34m\u001B[0m\u001B[0m\n\u001B[0;32m---> 32\u001B[0;31m         \u001B[0mcv\u001B[0m\u001B[0;34m.\u001B[0m\u001B[0mfit\u001B[0m\u001B[0;34m(\u001B[0m\u001B[0mtexts\u001B[0m\u001B[0;34m)\u001B[0m\u001B[0;34m\u001B[0m\u001B[0;34m\u001B[0m\u001B[0m\n\u001B[0m\u001B[1;32m     33\u001B[0m         \u001B[0mfeatures\u001B[0m \u001B[0;34m=\u001B[0m \u001B[0mcv\u001B[0m\u001B[0;34m.\u001B[0m\u001B[0mtransform\u001B[0m\u001B[0;34m(\u001B[0m\u001B[0mtexts\u001B[0m\u001B[0;34m)\u001B[0m\u001B[0;34m\u001B[0m\u001B[0;34m\u001B[0m\u001B[0m\n\u001B[1;32m     34\u001B[0m         \u001B[0;32mif\u001B[0m \u001B[0mmethod\u001B[0m \u001B[0;32min\u001B[0m \u001B[0;34m[\u001B[0m\u001B[0;34m\"M1\"\u001B[0m\u001B[0;34m,\u001B[0m \u001B[0;34m\"M2\"\u001B[0m\u001B[0;34m]\u001B[0m\u001B[0;34m:\u001B[0m\u001B[0;34m\u001B[0m\u001B[0;34m\u001B[0m\u001B[0m\n",
      "\u001B[0;32m~/python/lib/python3.9/site-packages/sklearn/feature_extraction/text.py\u001B[0m in \u001B[0;36mfit\u001B[0;34m(self, raw_documents, y)\u001B[0m\n\u001B[1;32m   1281\u001B[0m         \"\"\"\n\u001B[1;32m   1282\u001B[0m         \u001B[0mself\u001B[0m\u001B[0;34m.\u001B[0m\u001B[0m_warn_for_unused_params\u001B[0m\u001B[0;34m(\u001B[0m\u001B[0;34m)\u001B[0m\u001B[0;34m\u001B[0m\u001B[0;34m\u001B[0m\u001B[0m\n\u001B[0;32m-> 1283\u001B[0;31m         \u001B[0mself\u001B[0m\u001B[0;34m.\u001B[0m\u001B[0mfit_transform\u001B[0m\u001B[0;34m(\u001B[0m\u001B[0mraw_documents\u001B[0m\u001B[0;34m)\u001B[0m\u001B[0;34m\u001B[0m\u001B[0;34m\u001B[0m\u001B[0m\n\u001B[0m\u001B[1;32m   1284\u001B[0m         \u001B[0;32mreturn\u001B[0m \u001B[0mself\u001B[0m\u001B[0;34m\u001B[0m\u001B[0;34m\u001B[0m\u001B[0m\n\u001B[1;32m   1285\u001B[0m \u001B[0;34m\u001B[0m\u001B[0m\n",
      "\u001B[0;32m~/python/lib/python3.9/site-packages/sklearn/feature_extraction/text.py\u001B[0m in \u001B[0;36mfit_transform\u001B[0;34m(self, raw_documents, y)\u001B[0m\n\u001B[1;32m   1328\u001B[0m                     \u001B[0;32mbreak\u001B[0m\u001B[0;34m\u001B[0m\u001B[0;34m\u001B[0m\u001B[0m\n\u001B[1;32m   1329\u001B[0m \u001B[0;34m\u001B[0m\u001B[0m\n\u001B[0;32m-> 1330\u001B[0;31m         \u001B[0mvocabulary\u001B[0m\u001B[0;34m,\u001B[0m \u001B[0mX\u001B[0m \u001B[0;34m=\u001B[0m \u001B[0mself\u001B[0m\u001B[0;34m.\u001B[0m\u001B[0m_count_vocab\u001B[0m\u001B[0;34m(\u001B[0m\u001B[0mraw_documents\u001B[0m\u001B[0;34m,\u001B[0m \u001B[0mself\u001B[0m\u001B[0;34m.\u001B[0m\u001B[0mfixed_vocabulary_\u001B[0m\u001B[0;34m)\u001B[0m\u001B[0;34m\u001B[0m\u001B[0;34m\u001B[0m\u001B[0m\n\u001B[0m\u001B[1;32m   1331\u001B[0m \u001B[0;34m\u001B[0m\u001B[0m\n\u001B[1;32m   1332\u001B[0m         \u001B[0;32mif\u001B[0m \u001B[0mself\u001B[0m\u001B[0;34m.\u001B[0m\u001B[0mbinary\u001B[0m\u001B[0;34m:\u001B[0m\u001B[0;34m\u001B[0m\u001B[0;34m\u001B[0m\u001B[0m\n",
      "\u001B[0;32m~/python/lib/python3.9/site-packages/sklearn/feature_extraction/text.py\u001B[0m in \u001B[0;36m_count_vocab\u001B[0;34m(self, raw_documents, fixed_vocab)\u001B[0m\n\u001B[1;32m   1199\u001B[0m         \u001B[0;32mfor\u001B[0m \u001B[0mdoc\u001B[0m \u001B[0;32min\u001B[0m \u001B[0mraw_documents\u001B[0m\u001B[0;34m:\u001B[0m\u001B[0;34m\u001B[0m\u001B[0;34m\u001B[0m\u001B[0m\n\u001B[1;32m   1200\u001B[0m             \u001B[0mfeature_counter\u001B[0m \u001B[0;34m=\u001B[0m \u001B[0;34m{\u001B[0m\u001B[0;34m}\u001B[0m\u001B[0;34m\u001B[0m\u001B[0;34m\u001B[0m\u001B[0m\n\u001B[0;32m-> 1201\u001B[0;31m             \u001B[0;32mfor\u001B[0m \u001B[0mfeature\u001B[0m \u001B[0;32min\u001B[0m \u001B[0manalyze\u001B[0m\u001B[0;34m(\u001B[0m\u001B[0mdoc\u001B[0m\u001B[0;34m)\u001B[0m\u001B[0;34m:\u001B[0m\u001B[0;34m\u001B[0m\u001B[0;34m\u001B[0m\u001B[0m\n\u001B[0m\u001B[1;32m   1202\u001B[0m                 \u001B[0;32mtry\u001B[0m\u001B[0;34m:\u001B[0m\u001B[0;34m\u001B[0m\u001B[0;34m\u001B[0m\u001B[0m\n\u001B[1;32m   1203\u001B[0m                     \u001B[0mfeature_idx\u001B[0m \u001B[0;34m=\u001B[0m \u001B[0mvocabulary\u001B[0m\u001B[0;34m[\u001B[0m\u001B[0mfeature\u001B[0m\u001B[0;34m]\u001B[0m\u001B[0;34m\u001B[0m\u001B[0;34m\u001B[0m\u001B[0m\n",
      "\u001B[0;32m~/python/lib/python3.9/site-packages/sklearn/feature_extraction/text.py\u001B[0m in \u001B[0;36m_analyze\u001B[0;34m(doc, analyzer, tokenizer, ngrams, preprocessor, decoder, stop_words)\u001B[0m\n\u001B[1;32m    113\u001B[0m             \u001B[0mdoc\u001B[0m \u001B[0;34m=\u001B[0m \u001B[0mpreprocessor\u001B[0m\u001B[0;34m(\u001B[0m\u001B[0mdoc\u001B[0m\u001B[0;34m)\u001B[0m\u001B[0;34m\u001B[0m\u001B[0;34m\u001B[0m\u001B[0m\n\u001B[1;32m    114\u001B[0m         \u001B[0;32mif\u001B[0m \u001B[0mtokenizer\u001B[0m \u001B[0;32mis\u001B[0m \u001B[0;32mnot\u001B[0m \u001B[0;32mNone\u001B[0m\u001B[0;34m:\u001B[0m\u001B[0;34m\u001B[0m\u001B[0;34m\u001B[0m\u001B[0m\n\u001B[0;32m--> 115\u001B[0;31m             \u001B[0mdoc\u001B[0m \u001B[0;34m=\u001B[0m \u001B[0mtokenizer\u001B[0m\u001B[0;34m(\u001B[0m\u001B[0mdoc\u001B[0m\u001B[0;34m)\u001B[0m\u001B[0;34m\u001B[0m\u001B[0;34m\u001B[0m\u001B[0m\n\u001B[0m\u001B[1;32m    116\u001B[0m         \u001B[0;32mif\u001B[0m \u001B[0mngrams\u001B[0m \u001B[0;32mis\u001B[0m \u001B[0;32mnot\u001B[0m \u001B[0;32mNone\u001B[0m\u001B[0;34m:\u001B[0m\u001B[0;34m\u001B[0m\u001B[0;34m\u001B[0m\u001B[0m\n\u001B[1;32m    117\u001B[0m             \u001B[0;32mif\u001B[0m \u001B[0mstop_words\u001B[0m \u001B[0;32mis\u001B[0m \u001B[0;32mnot\u001B[0m \u001B[0;32mNone\u001B[0m\u001B[0;34m:\u001B[0m\u001B[0;34m\u001B[0m\u001B[0;34m\u001B[0m\u001B[0m\n",
      "\u001B[0;32m<ipython-input-30-554bde70fc4a>\u001B[0m in \u001B[0;36m<lambda>\u001B[0;34m(x)\u001B[0m\n\u001B[1;32m      8\u001B[0m         cv = CountVectorizer(\n\u001B[1;32m      9\u001B[0m             \u001B[0mpreprocessor\u001B[0m\u001B[0;34m=\u001B[0m\u001B[0;32mlambda\u001B[0m \u001B[0mx\u001B[0m\u001B[0;34m:\u001B[0m \u001B[0mpreprocess\u001B[0m\u001B[0;34m(\u001B[0m\u001B[0mx\u001B[0m\u001B[0;34m,\u001B[0m \u001B[0mre\u001B[0m\u001B[0;34m)\u001B[0m\u001B[0;34m,\u001B[0m\u001B[0;34m\u001B[0m\u001B[0;34m\u001B[0m\u001B[0m\n\u001B[0;32m---> 10\u001B[0;31m             \u001B[0mtokenizer\u001B[0m\u001B[0;34m=\u001B[0m\u001B[0;32mlambda\u001B[0m \u001B[0mx\u001B[0m\u001B[0;34m:\u001B[0m \u001B[0mtokenize\u001B[0m\u001B[0;34m(\u001B[0m\u001B[0mx\u001B[0m\u001B[0;34m,\u001B[0m \u001B[0mremove_punctuation\u001B[0m\u001B[0;34m=\u001B[0m\u001B[0;32mTrue\u001B[0m\u001B[0;34m,\u001B[0m \u001B[0muse_lemma\u001B[0m\u001B[0;34m=\u001B[0m\u001B[0;32mTrue\u001B[0m\u001B[0;34m)\u001B[0m\u001B[0;34m,\u001B[0m\u001B[0;34m\u001B[0m\u001B[0;34m\u001B[0m\u001B[0m\n\u001B[0m\u001B[1;32m     11\u001B[0m             \u001B[0mtoken_pattern\u001B[0m\u001B[0;34m=\u001B[0m\u001B[0;32mNone\u001B[0m\u001B[0;34m,\u001B[0m\u001B[0;34m\u001B[0m\u001B[0;34m\u001B[0m\u001B[0m\n\u001B[1;32m     12\u001B[0m             \u001B[0mmax_features\u001B[0m\u001B[0;34m=\u001B[0m\u001B[0;36m10\u001B[0m\u001B[0;34m\u001B[0m\u001B[0;34m\u001B[0m\u001B[0m\n",
      "\u001B[0;32m<ipython-input-29-218df8d13e26>\u001B[0m in \u001B[0;36mtokenize\u001B[0;34m(text, remove_punctuation, remove_stop_words, use_lemma)\u001B[0m\n\u001B[1;32m     17\u001B[0m     \u001B[0;32mif\u001B[0m \u001B[0mremove_punctuation\u001B[0m\u001B[0;34m:\u001B[0m\u001B[0;34m\u001B[0m\u001B[0;34m\u001B[0m\u001B[0m\n\u001B[1;32m     18\u001B[0m         \u001B[0mtext\u001B[0m \u001B[0;34m=\u001B[0m \u001B[0mtext\u001B[0m\u001B[0;34m.\u001B[0m\u001B[0mtranslate\u001B[0m\u001B[0;34m(\u001B[0m\u001B[0mstr\u001B[0m\u001B[0;34m.\u001B[0m\u001B[0mmaketrans\u001B[0m\u001B[0;34m(\u001B[0m\u001B[0;34m''\u001B[0m\u001B[0;34m,\u001B[0m \u001B[0;34m''\u001B[0m\u001B[0;34m,\u001B[0m \u001B[0mstring\u001B[0m\u001B[0;34m.\u001B[0m\u001B[0mpunctuation\u001B[0m\u001B[0;34m)\u001B[0m\u001B[0;34m)\u001B[0m\u001B[0;34m\u001B[0m\u001B[0;34m\u001B[0m\u001B[0m\n\u001B[0;32m---> 19\u001B[0;31m     \u001B[0mdoc\u001B[0m \u001B[0;34m=\u001B[0m \u001B[0mnlp\u001B[0m\u001B[0;34m(\u001B[0m\u001B[0mtext\u001B[0m\u001B[0;34m)\u001B[0m\u001B[0;34m\u001B[0m\u001B[0;34m\u001B[0m\u001B[0m\n\u001B[0m\u001B[1;32m     20\u001B[0m     \u001B[0;32mif\u001B[0m \u001B[0mremove_stop_words\u001B[0m\u001B[0;34m:\u001B[0m\u001B[0;34m\u001B[0m\u001B[0;34m\u001B[0m\u001B[0m\n\u001B[1;32m     21\u001B[0m         \u001B[0mactual_doc\u001B[0m \u001B[0;34m=\u001B[0m \u001B[0;34m[\u001B[0m\u001B[0;34m]\u001B[0m\u001B[0;34m\u001B[0m\u001B[0;34m\u001B[0m\u001B[0m\n",
      "\u001B[0;32m~/.local/lib/python3.9/site-packages/spacy/language.py\u001B[0m in \u001B[0;36m__call__\u001B[0;34m(self, text, disable, component_cfg)\u001B[0m\n\u001B[1;32m   1003\u001B[0m         \u001B[0mDOCS\u001B[0m\u001B[0;34m:\u001B[0m \u001B[0mhttps\u001B[0m\u001B[0;34m:\u001B[0m\u001B[0;34m//\u001B[0m\u001B[0mspacy\u001B[0m\u001B[0;34m.\u001B[0m\u001B[0mio\u001B[0m\u001B[0;34m/\u001B[0m\u001B[0mapi\u001B[0m\u001B[0;34m/\u001B[0m\u001B[0mlanguage\u001B[0m\u001B[0;31m#call\u001B[0m\u001B[0;34m\u001B[0m\u001B[0;34m\u001B[0m\u001B[0m\n\u001B[1;32m   1004\u001B[0m         \"\"\"\n\u001B[0;32m-> 1005\u001B[0;31m         \u001B[0mdoc\u001B[0m \u001B[0;34m=\u001B[0m \u001B[0mself\u001B[0m\u001B[0;34m.\u001B[0m\u001B[0m_ensure_doc\u001B[0m\u001B[0;34m(\u001B[0m\u001B[0mtext\u001B[0m\u001B[0;34m)\u001B[0m\u001B[0;34m\u001B[0m\u001B[0;34m\u001B[0m\u001B[0m\n\u001B[0m\u001B[1;32m   1006\u001B[0m         \u001B[0;32mif\u001B[0m \u001B[0mcomponent_cfg\u001B[0m \u001B[0;32mis\u001B[0m \u001B[0;32mNone\u001B[0m\u001B[0;34m:\u001B[0m\u001B[0;34m\u001B[0m\u001B[0;34m\u001B[0m\u001B[0m\n\u001B[1;32m   1007\u001B[0m             \u001B[0mcomponent_cfg\u001B[0m \u001B[0;34m=\u001B[0m \u001B[0;34m{\u001B[0m\u001B[0;34m}\u001B[0m\u001B[0;34m\u001B[0m\u001B[0;34m\u001B[0m\u001B[0m\n",
      "\u001B[0;32m~/.local/lib/python3.9/site-packages/spacy/language.py\u001B[0m in \u001B[0;36m_ensure_doc\u001B[0;34m(self, doc_like)\u001B[0m\n\u001B[1;32m   1093\u001B[0m             \u001B[0;32mreturn\u001B[0m \u001B[0mdoc_like\u001B[0m\u001B[0;34m\u001B[0m\u001B[0;34m\u001B[0m\u001B[0m\n\u001B[1;32m   1094\u001B[0m         \u001B[0;32mif\u001B[0m \u001B[0misinstance\u001B[0m\u001B[0;34m(\u001B[0m\u001B[0mdoc_like\u001B[0m\u001B[0;34m,\u001B[0m \u001B[0mstr\u001B[0m\u001B[0;34m)\u001B[0m\u001B[0;34m:\u001B[0m\u001B[0;34m\u001B[0m\u001B[0;34m\u001B[0m\u001B[0m\n\u001B[0;32m-> 1095\u001B[0;31m             \u001B[0;32mreturn\u001B[0m \u001B[0mself\u001B[0m\u001B[0;34m.\u001B[0m\u001B[0mmake_doc\u001B[0m\u001B[0;34m(\u001B[0m\u001B[0mdoc_like\u001B[0m\u001B[0;34m)\u001B[0m\u001B[0;34m\u001B[0m\u001B[0;34m\u001B[0m\u001B[0m\n\u001B[0m\u001B[1;32m   1096\u001B[0m         \u001B[0;32mraise\u001B[0m \u001B[0mValueError\u001B[0m\u001B[0;34m(\u001B[0m\u001B[0mErrors\u001B[0m\u001B[0;34m.\u001B[0m\u001B[0mE866\u001B[0m\u001B[0;34m.\u001B[0m\u001B[0mformat\u001B[0m\u001B[0;34m(\u001B[0m\u001B[0mtype\u001B[0m\u001B[0;34m=\u001B[0m\u001B[0mtype\u001B[0m\u001B[0;34m(\u001B[0m\u001B[0mdoc_like\u001B[0m\u001B[0;34m)\u001B[0m\u001B[0;34m)\u001B[0m\u001B[0;34m)\u001B[0m\u001B[0;34m\u001B[0m\u001B[0;34m\u001B[0m\u001B[0m\n\u001B[1;32m   1097\u001B[0m \u001B[0;34m\u001B[0m\u001B[0m\n",
      "\u001B[0;32m~/.local/lib/python3.9/site-packages/spacy/language.py\u001B[0m in \u001B[0;36mmake_doc\u001B[0;34m(self, text)\u001B[0m\n\u001B[1;32m   1086\u001B[0m                 \u001B[0mErrors\u001B[0m\u001B[0;34m.\u001B[0m\u001B[0mE088\u001B[0m\u001B[0;34m.\u001B[0m\u001B[0mformat\u001B[0m\u001B[0;34m(\u001B[0m\u001B[0mlength\u001B[0m\u001B[0;34m=\u001B[0m\u001B[0mlen\u001B[0m\u001B[0;34m(\u001B[0m\u001B[0mtext\u001B[0m\u001B[0;34m)\u001B[0m\u001B[0;34m,\u001B[0m \u001B[0mmax_length\u001B[0m\u001B[0;34m=\u001B[0m\u001B[0mself\u001B[0m\u001B[0;34m.\u001B[0m\u001B[0mmax_length\u001B[0m\u001B[0;34m)\u001B[0m\u001B[0;34m\u001B[0m\u001B[0;34m\u001B[0m\u001B[0m\n\u001B[1;32m   1087\u001B[0m             )\n\u001B[0;32m-> 1088\u001B[0;31m         \u001B[0;32mreturn\u001B[0m \u001B[0mself\u001B[0m\u001B[0;34m.\u001B[0m\u001B[0mtokenizer\u001B[0m\u001B[0;34m(\u001B[0m\u001B[0mtext\u001B[0m\u001B[0;34m)\u001B[0m\u001B[0;34m\u001B[0m\u001B[0;34m\u001B[0m\u001B[0m\n\u001B[0m\u001B[1;32m   1089\u001B[0m \u001B[0;34m\u001B[0m\u001B[0m\n\u001B[1;32m   1090\u001B[0m     \u001B[0;32mdef\u001B[0m \u001B[0m_ensure_doc\u001B[0m\u001B[0;34m(\u001B[0m\u001B[0mself\u001B[0m\u001B[0;34m,\u001B[0m \u001B[0mdoc_like\u001B[0m\u001B[0;34m:\u001B[0m \u001B[0mUnion\u001B[0m\u001B[0;34m[\u001B[0m\u001B[0mstr\u001B[0m\u001B[0;34m,\u001B[0m \u001B[0mDoc\u001B[0m\u001B[0;34m]\u001B[0m\u001B[0;34m)\u001B[0m \u001B[0;34m->\u001B[0m \u001B[0mDoc\u001B[0m\u001B[0;34m:\u001B[0m\u001B[0;34m\u001B[0m\u001B[0;34m\u001B[0m\u001B[0m\n",
      "\u001B[0;32m~/.local/lib/python3.9/site-packages/spacy/tokenizer.pyx\u001B[0m in \u001B[0;36mspacy.tokenizer.Tokenizer.__call__\u001B[0;34m()\u001B[0m\n",
      "\u001B[0;32m~/.local/lib/python3.9/site-packages/spacy/tokenizer.pyx\u001B[0m in \u001B[0;36mspacy.tokenizer.Tokenizer._tokenize_affixes\u001B[0;34m()\u001B[0m\n",
      "\u001B[0;32m~/.local/lib/python3.9/site-packages/spacy/tokenizer.pyx\u001B[0m in \u001B[0;36mspacy.tokenizer.Tokenizer._tokenize\u001B[0;34m()\u001B[0m\n",
      "\u001B[0;32m~/.local/lib/python3.9/site-packages/spacy/tokenizer.pyx\u001B[0m in \u001B[0;36mspacy.tokenizer.Tokenizer._attach_tokens\u001B[0;34m()\u001B[0m\n",
      "\u001B[0;32m~/.local/lib/python3.9/site-packages/spacy/vocab.pyx\u001B[0m in \u001B[0;36mspacy.vocab.Vocab.get\u001B[0;34m()\u001B[0m\n",
      "\u001B[0;32m~/.local/lib/python3.9/site-packages/spacy/vocab.pyx\u001B[0m in \u001B[0;36mspacy.vocab.Vocab._new_lexeme\u001B[0;34m()\u001B[0m\n",
      "\u001B[0;32m~/.local/lib/python3.9/site-packages/spacy/lang/lex_attrs.py\u001B[0m in \u001B[0;36mis_left_punct\u001B[0;34m(text)\u001B[0m\n\u001B[1;32m     64\u001B[0m \u001B[0;34m\u001B[0m\u001B[0m\n\u001B[1;32m     65\u001B[0m \u001B[0;34m\u001B[0m\u001B[0m\n\u001B[0;32m---> 66\u001B[0;31m \u001B[0;32mdef\u001B[0m \u001B[0mis_left_punct\u001B[0m\u001B[0;34m(\u001B[0m\u001B[0mtext\u001B[0m\u001B[0;34m:\u001B[0m \u001B[0mstr\u001B[0m\u001B[0;34m)\u001B[0m \u001B[0;34m->\u001B[0m \u001B[0mbool\u001B[0m\u001B[0;34m:\u001B[0m\u001B[0;34m\u001B[0m\u001B[0;34m\u001B[0m\u001B[0m\n\u001B[0m\u001B[1;32m     67\u001B[0m     \u001B[0;31m# fmt: off\u001B[0m\u001B[0;34m\u001B[0m\u001B[0;34m\u001B[0m\u001B[0m\n\u001B[1;32m     68\u001B[0m     \u001B[0mleft_punct\u001B[0m \u001B[0;34m=\u001B[0m \u001B[0;34m(\u001B[0m\u001B[0;34m\"(\"\u001B[0m\u001B[0;34m,\u001B[0m \u001B[0;34m\"[\"\u001B[0m\u001B[0;34m,\u001B[0m \u001B[0;34m\"{\"\u001B[0m\u001B[0;34m,\u001B[0m \u001B[0;34m\"<\"\u001B[0m\u001B[0;34m,\u001B[0m \u001B[0;34m'\"'\u001B[0m\u001B[0;34m,\u001B[0m \u001B[0;34m\"'\"\u001B[0m\u001B[0;34m,\u001B[0m \u001B[0;34m\"«\"\u001B[0m\u001B[0;34m,\u001B[0m \u001B[0;34m\"‘\"\u001B[0m\u001B[0;34m,\u001B[0m \u001B[0;34m\"‚\"\u001B[0m\u001B[0;34m,\u001B[0m \u001B[0;34m\"‛\"\u001B[0m\u001B[0;34m,\u001B[0m \u001B[0;34m\"“\"\u001B[0m\u001B[0;34m,\u001B[0m \u001B[0;34m\"„\"\u001B[0m\u001B[0;34m,\u001B[0m \u001B[0;34m\"‟\"\u001B[0m\u001B[0;34m,\u001B[0m \u001B[0;34m\"‹\"\u001B[0m\u001B[0;34m,\u001B[0m \u001B[0;34m\"❮\"\u001B[0m\u001B[0;34m,\u001B[0m \u001B[0;34m\"``\"\u001B[0m\u001B[0;34m)\u001B[0m\u001B[0;34m\u001B[0m\u001B[0;34m\u001B[0m\u001B[0m\n",
      "\u001B[0;31mKeyboardInterrupt\u001B[0m: "
     ]
    }
   ],
   "source": [
    "X1, y1 = create_features(\"M1\")\n",
    "print(X1.shape, y1.shape)\n",
    "X2, y2 = create_features(\"M2\")\n",
    "print(X2.shape, y2.shape)\n",
    "X3, y3 = create_features(\"M3\")\n",
    "print(X3.shape, y3.shape)"
   ],
   "metadata": {
    "collapsed": false,
    "pycharm": {
     "name": "#%%\n"
    }
   }
  },
  {
   "cell_type": "code",
   "execution_count": null,
   "outputs": [],
   "source": [
    "# Dump dataset to pickle\n",
    "import pickle\n",
    "dataset = {\"X1\": X1, \"y1\": y1, \"X2\": X2, \"y2\": y2, \"X3\": X3, \"y3\": y3}\n",
    "pickle.dump(dataset, open(\"data/dataset.pck\", \"wb\" ) )"
   ],
   "metadata": {
    "collapsed": false,
    "pycharm": {
     "name": "#%%\n"
    }
   }
  },
  {
   "cell_type": "code",
   "execution_count": 37,
   "outputs": [],
   "source": [
    "# Load dataset from pickle\n",
    "import pickle\n",
    "dataset = pickle.load(open(\"data/dataset.pck\", \"rb\" ))\n",
    "X1, y1 = dataset['X1'], dataset['y1']\n",
    "X2, y2 = dataset['X2'], dataset['y2']\n",
    "X3, y3 = dataset['X3'], dataset['y3']"
   ],
   "metadata": {
    "collapsed": false,
    "pycharm": {
     "name": "#%%\n"
    }
   }
  },
  {
   "cell_type": "markdown",
   "source": [
    "4. Evaluati modelul pe datele de test, determinand acuratete, precizie, recall, f1, si stabiliti care metoda de procesare a textelor a adus rezultate mai bune."
   ],
   "metadata": {
    "collapsed": false,
    "pycharm": {
     "name": "#%% md\n"
    }
   }
  },
  {
   "cell_type": "code",
   "execution_count": 43,
   "outputs": [],
   "source": [
    "from sklearn.model_selection import train_test_split\n",
    "from sklearn.neighbors import KNeighborsClassifier\n",
    "import seaborn as sns\n",
    "\n",
    "def test_dataset(X, y):\n",
    "    # 3. Impartiti setul de date in 80% train, 20% test, iar pentru fiecare metoda de preprocesare antrenati un model ales de voi (diferit de Decision Tree) pe datele de train\n",
    "    x_train, x_test, y_train, y_test = train_test_split(X, y, test_size=0.2)\n",
    "    rfc = RandomForestClassifier(max_depth=5, n_estimators=10, max_features=10)\n",
    "    rfc.fit(x_train, y_train)\n",
    "    y_test_predict = rfc.predict(x_test)\n",
    "    print(\"Accuracy:\", metrics.accuracy_score(y_test, y_test_predict))\n",
    "    print(\"F1 (macro):\", metrics.f1_score(y_test, y_test_predict, average=\"macro\"))\n",
    "    print(\"F1 (weighted):\", metrics.f1_score(y_test, y_test_predict, average=\"weighted\"))\n",
    "    print()\n",
    "    return rfc"
   ],
   "metadata": {
    "collapsed": false,
    "pycharm": {
     "name": "#%%\n"
    }
   }
  },
  {
   "cell_type": "code",
   "execution_count": 44,
   "outputs": [
    {
     "name": "stdout",
     "output_type": "stream",
     "text": [
      "Accuracy: 0.6261237897648686\n",
      "F1 (macro): 0.24302241016448564\n",
      "F1 (weighted): 0.5524697643565729\n",
      "\n",
      "Accuracy: 0.6604426002766252\n",
      "F1 (macro): 0.2582817540356971\n",
      "F1 (weighted): 0.5846714407862361\n",
      "\n",
      "Accuracy: 0.6531811894882434\n",
      "F1 (macro): 0.2539007648115087\n",
      "F1 (weighted): 0.5766803558377018\n",
      "\n"
     ]
    }
   ],
   "source": [
    "# Accuracy: 0.5668\n",
    "model1_1 = test_dataset(X1, y1)\n",
    "# Best dataset (Accuracy: 0.6497)\n",
    "model1_2 = test_dataset(X2, y2)\n",
    "# Accuracy: 0.6312\n",
    "model1_3 = test_dataset(X3, y3)"
   ],
   "metadata": {
    "collapsed": false,
    "pycharm": {
     "name": "#%%\n"
    }
   }
  },
  {
   "cell_type": "markdown",
   "source": [
    "5. Determinati pentru acest caz care au fost top 10 cele mai importante feature-uri (cuvinte)."
   ],
   "metadata": {
    "collapsed": false,
    "pycharm": {
     "name": "#%% md\n"
    }
   }
  },
  {
   "cell_type": "code",
   "execution_count": 52,
   "outputs": [
    {
     "name": "stdout",
     "output_type": "stream",
     "text": [
      "Feature: 0, Score: 0.00043328906303962236\n",
      "Feature: 1, Score: 0.049882772247104926\n",
      "Feature: 2, Score: 0.0007163693257428726\n",
      "Feature: 3, Score: 0.0005991881906769975\n",
      "Feature: 4, Score: 0.0020803484373651563\n",
      "Feature: 5, Score: 0.02960464042682042\n",
      "Feature: 6, Score: 0.8749224307086783\n",
      "Feature: 7, Score: 0.005093496974764294\n",
      "Feature: 8, Score: 0.01214129780389581\n",
      "Feature: 9, Score: 0.024526166821911687\n"
     ]
    },
    {
     "data": {
      "text/plain": "<Figure size 432x288 with 1 Axes>",
      "image/png": "[encoded data removed]"
     },
     "metadata": {
      "needs_background": "light"
     },
     "output_type": "display_data"
    }
   ],
   "source": [
    "from matplotlib import pyplot as plt\n",
    "importance = model1_2.feature_importances_\n",
    "for i,v in enumerate(importance):\n",
    "    print(f\"Feature: {i}, Score: {v}\")\n",
    "\n",
    "plt.bar([x for x in range(len(importance))], importance)\n",
    "plt.show()"
   ],
   "metadata": {
    "collapsed": false,
    "pycharm": {
     "name": "#%%\n"
    }
   }
  },
  {
   "cell_type": "markdown",
   "source": [
    "6. Folosind aceasta metoda de procesare a textelor, antrenati alte doua modele diferite la alegere si comparati performanta cu modelul original."
   ],
   "metadata": {
    "collapsed": false,
    "pycharm": {
     "name": "#%% md\n"
    }
   }
  },
  {
   "cell_type": "code",
   "execution_count": 54,
   "outputs": [],
   "source": [
    "from sklearn.neural_network import MLPClassifier\n",
    "from sklearn.ensemble import RandomForestClassifier\n",
    "from sklearn.neighbors import KNeighborsClassifier\n",
    "\n",
    "def train_knc(x_train, x_test, y_train, y_test):\n",
    "    knc = KNeighborsClassifier(5)\n",
    "    knc.fit(x_train, y_train)\n",
    "    y_test_predict = knc.predict(x_test)\n",
    "    print(\"K Neighbors Classifier Accuracy:\", metrics.accuracy_score(y_test, y_test_predict))\n",
    "    return knc\n",
    "\n",
    "def train_mlp(x_train, x_test, y_train, y_test):\n",
    "    mlp = MLPClassifier(alpha=1, max_iter=1000)\n",
    "    mlp.fit(x_train, y_train)\n",
    "    y_test_predict = mlp.predict(x_test)\n",
    "    print(\"MLP Classifier Accuracy:\", metrics.accuracy_score(y_test, y_test_predict))\n",
    "    return mlp"
   ],
   "metadata": {
    "collapsed": false,
    "pycharm": {
     "name": "#%%\n"
    }
   }
  },
  {
   "cell_type": "code",
   "execution_count": 56,
   "outputs": [
    {
     "name": "stdout",
     "output_type": "stream",
     "text": [
      "K Neighbors Classifier Accuracy: 0.6502420470262794\n",
      "MLP Classifier Accuracy: 0.6625172890733056\n"
     ]
    }
   ],
   "source": [
    "# 3. Impartiti setul de date in 80% train, 20% test, iar pentru fiecare metoda de preprocesare antrenati un model ales de voi (diferit de Decision Tree) pe datele de train\n",
    "x_train, x_test, y_train, y_test = train_test_split(X2, y2, test_size=0.2)\n",
    "# Accuracy: 0.6502\n",
    "model2 = train_knc(x_train, x_test, y_train, y_test)\n",
    "# Best model: Accuracy: 0.6625\n",
    "model3 = train_mlp(x_train, x_test, y_train, y_test)"
   ],
   "metadata": {
    "collapsed": false,
    "pycharm": {
     "name": "#%%\n"
    }
   }
  },
  {
   "cell_type": "markdown",
   "source": [
    "7. Pentru cel mai bun model afisati metricile la nivel de clasa (classification report) si matricea de confuzie."
   ],
   "metadata": {
    "collapsed": false,
    "pycharm": {
     "name": "#%% md\n"
    }
   }
  },
  {
   "cell_type": "code",
   "execution_count": 57,
   "outputs": [],
   "source": [
    "def print_model_metrics(model, x_test, y_test):\n",
    "    y_test_predict = model.predict(x_test)\n",
    "    print(metrics.classification_report(y_test, y_test_predict, zero_division=True))\n",
    "    cm = metrics.confusion_matrix(y_test, y_test_predict)\n",
    "    sns.heatmap(cm, annot=True)"
   ],
   "metadata": {
    "collapsed": false,
    "pycharm": {
     "name": "#%%\n"
    }
   }
  },
  {
   "cell_type": "code",
   "execution_count": 58,
   "outputs": [
    {
     "name": "stdout",
     "output_type": "stream",
     "text": [
      "              precision    recall  f1-score   support\n",
      "\n",
      "           0       1.00      0.00      0.00       669\n",
      "           1       0.65      0.39      0.49      3211\n",
      "           2       1.00      0.00      0.00       403\n",
      "           3       1.00      0.00      0.00       689\n",
      "           4       0.66      0.97      0.79      6596\n",
      "\n",
      "    accuracy                           0.66     11568\n",
      "   macro avg       0.86      0.27      0.26     11568\n",
      "weighted avg       0.71      0.66      0.59     11568\n",
      "\n"
     ]
    },
    {
     "data": {
      "text/plain": "<Figure size 432x288 with 2 Axes>",
      "image/png": "[encoded data removed]"
     },
     "metadata": {
      "needs_background": "light"
     },
     "output_type": "display_data"
    }
   ],
   "source": [
    "print_model_metrics(model3, x_test, y_test)"
   ],
   "metadata": {
    "collapsed": false,
    "pycharm": {
     "name": "#%%\n"
    }
   }
  },
  {
   "cell_type": "code",
   "execution_count": null,
   "outputs": [],
   "source": [],
   "metadata": {
    "collapsed": false,
    "pycharm": {
     "name": "#%%\n"
    }
   }
  }
 ],
 "metadata": {
  "kernelspec": {
   "display_name": "Python 3",
   "language": "python",
   "name": "python3"
  },
  "language_info": {
   "codemirror_mode": {
    "name": "ipython",
    "version": 2
   },
   "file_extension": ".py",
   "mimetype": "text/x-python",
   "name": "python",
   "nbconvert_exporter": "python",
   "pygments_lexer": "ipython2",
   "version": "2.7.6"
  }
 },
 "nbformat": 4,
 "nbformat_minor": 0
}