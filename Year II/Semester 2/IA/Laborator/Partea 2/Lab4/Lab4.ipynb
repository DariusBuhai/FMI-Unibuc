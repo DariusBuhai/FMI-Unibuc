{
 "cells": [
  {
   "cell_type": "code",
   "execution_count": 5,
   "id": "4fd15f41",
   "metadata": {},
   "outputs": [],
   "source": [
    "import numpy as np"
   ]
  },
  {
   "cell_type": "code",
   "execution_count": 6,
   "id": "a7f0daa0",
   "metadata": {},
   "outputs": [],
   "source": [
    "def normalize_data(train_data, test_data, type_=None):\n",
    "    # standard, l1, l2\n",
    "    # N X F\n",
    "    if type_ == 'standard':\n",
    "        mean_train = np.mean(train_data, axis=0)\n",
    "        std_train = np.std(train_data, axis=0)\n",
    "        scaled_train_data = (train_data - mean_train) / std_train\n",
    "        scaled_test_data = (test_data - mean_train) / std_train\n",
    "    elif type_ == 'l1':\n",
    "        norm_train = np.sum(np.abs(train_data), axis=1, keepdis=True) + 10 ** -8\n",
    "        scaled_train_data = train_data / norm_train\n",
    "        norm_test = np.sum(np.abs(test_data), axis=1, keepdims=True) + 10 ** -8\n",
    "        scaled_test_data = test_data / norm_test\n",
    "    elif type_ == 'l2':\n",
    "        norm_train = np.sqrt(np.sum(train_data ** 2, axis=1, keepdims=True)) + 10 ** -8\n",
    "        scaled_train_data = train_data / norm_train\n",
    "        norm_test = np.sum(np.abs(test_data ** 2), axis=1, keepdims=True) + 10 ** -8\n",
    "        scaled_test_data = test_data / norm_test\n",
    "    else:\n",
    "        raise Exception(\"Type not found\")"
   ]
  },
  {
   "cell_type": "code",
   "execution_count": 12,
   "id": "9f856451",
   "metadata": {},
   "outputs": [],
   "source": [
    "class BagOfWords:\n",
    "    def __init__(self):\n",
    "        self.vocabulary = {} # word: id\n",
    "        self.voc_len = 0\n",
    "        self.words = []\n",
    "        \n",
    "    def build_vocabulary(self, data):\n",
    "        for sentence in data:\n",
    "            for word in sentence:\n",
    "                if word not in self.vocabulary:\n",
    "                    self.vocabulary[word] = len(self.vocabulary)\n",
    "                    self.words.append(word)\n",
    "            self.voc_len = len(self.vocabulary)\n",
    "            \n",
    "    def get_features(self, data):\n",
    "        features = np.zeros((len(data), self.voc_len))\n",
    "        \n",
    "        for id_sen, sentence in enumerate(data):\n",
    "            for word in sentence:\n",
    "                if word in self.vocabulary:\n",
    "                    features[id_sen, self.vocabulary[word]] += 1\n",
    "        return features\n",
    "                    "
   ]
  },
  {
   "cell_type": "code",
   "execution_count": 13,
   "id": "042f8664",
   "metadata": {},
   "outputs": [],
   "source": [
    "l = [['ana', 'are', 'mere'], 'add', 'ss', 'sssssss', []]"
   ]
  },
  {
   "cell_type": "code",
   "execution_count": 18,
   "id": "8bcf451e",
   "metadata": {},
   "outputs": [],
   "source": [
    "train_sentences = np.load(\"data/training_sentences.npy\", allow_pickle=True)\n",
    "train_labels = np.load(\"data/training_labels.npy\", allow_pickle=True)\n",
    "\n",
    "test_sentences = np.load(\"data/test_sentences.npy\", allow_pickle=True)\n",
    "test_labels = np.load(\"data/test_labels.npy\", allow_pickle=True)"
   ]
  },
  {
   "cell_type": "code",
   "execution_count": 19,
   "id": "870a4902",
   "metadata": {},
   "outputs": [],
   "source": [
    "bag_of_words = BagOfWords()\n",
    "bag_of_words.build_vocabulary(train_sentences)"
   ]
  },
  {
   "cell_type": "code",
   "execution_count": 20,
   "id": "16debffb",
   "metadata": {},
   "outputs": [],
   "source": [
    "train_features = bag_of_words.get_features(train_sentences)"
   ]
  },
  {
   "cell_type": "code",
   "execution_count": 33,
   "id": "b3f9324c",
   "metadata": {},
   "outputs": [],
   "source": [
    "test_features = bag_of_words.get_features(test_sentences)\n",
    "train_features_norm, test_features_norm = normalize_data(train_features, test_features, type_='l2')"
   ]
  },
  {
   "cell_type": "code",
   "execution_count": 34,
   "id": "cb2aba97",
   "metadata": {},
   "outputs": [],
   "source": [
    "from sklearn import svm"
   ]
  },
  {
   "cell_type": "code",
   "execution_count": 35,
   "id": "2abc805e",
   "metadata": {},
   "outputs": [],
   "source": [
    "svm_model = svm.SVC(C=1, kernel='linear')"
   ]
  },
  {
   "cell_type": "code",
   "execution_count": 37,
   "id": "47a808b6",
   "metadata": {},
   "outputs": [
    {
     "data": {
      "text/plain": [
       "SVC(C=1, kernel='linear')"
      ]
     },
     "execution_count": 37,
     "metadata": {},
     "output_type": "execute_result"
    }
   ],
   "source": [
    "svm_model.fit(train_features_norm, train_labels)"
   ]
  },
  {
   "cell_type": "code",
   "execution_count": null,
   "id": "bee01448",
   "metadata": {},
   "outputs": [],
   "source": []
  }
 ],
 "metadata": {
  "kernelspec": {
   "display_name": "Python 3",
   "language": "python",
   "name": "python3"
  },
  "language_info": {
   "codemirror_mode": {
    "name": "ipython",
    "version": 3
   },
   "file_extension": ".py",
   "mimetype": "text/x-python",
   "name": "python",
   "nbconvert_exporter": "python",
   "pygments_lexer": "ipython3",
   "version": "3.9.1"
  }
 },
 "nbformat": 4,
 "nbformat_minor": 5
}
