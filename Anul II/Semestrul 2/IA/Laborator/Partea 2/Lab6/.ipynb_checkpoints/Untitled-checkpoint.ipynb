{
 "cells": [
  {
   "cell_type": "code",
   "execution_count": 5,
   "id": "c27b35aa",
   "metadata": {},
   "outputs": [],
   "source": [
    "import matplotlib.pyplot as plt\n",
    "\n",
    "def compute_y(x, W, bias):\n",
    "    # dreapta de decizie\n",
    "    # [x, y] * [W[0], W[1]] + b = 0\n",
    "    return (-x * W[0] - bias) / (W[1] + 1e-10)\n",
    "\n",
    "\n",
    "def plot_decision_boundary(X, y , W, b, current_x, current_y):\n",
    "    x1 = -0.5\n",
    "    y1 = compute_y(x1, W, b)\n",
    "    x2 = 0.5\n",
    "    y2 = compute_y(x2, W, b)\n",
    "    # sterge continutul ferestrei plt.clf()\n",
    "    # ploteaza multimea de antrenare\n",
    "    color = 'r' \n",
    "    if(current_y == -1):\n",
    "        color = 'b'\n",
    "    plt.ylim((-1, 2))\n",
    "    plt.xlim((-1, 2))\n",
    "    plt.plot(X[y == -1, 0], X[y == -1, 1], 'b+') \n",
    "    plt.plot(X[y == 1, 0], X[y == 1, 1], 'r+')\n",
    "    # ploteaza exemplul curent plt.plot(current_x[0], current_x[1], color+'s') # afisarea dreptei de decizie\n",
    "    plt.plot([x1, x2] ,[y1, y2], 'black') \n",
    "    plt.show(block=False)\n",
    "    plt.pause(0.3)"
   ]
  },
  {
   "cell_type": "code",
   "execution_count": null,
   "id": "415b9beb",
   "metadata": {},
   "outputs": [],
   "source": [
    "num_epochs = 70\n",
    "lr = .1\n",
    "X = np.array([[0, 0], [0, 1], [1, 0], [1, 1]])\n",
    "Y = np.array([-1, 1, 1, 1])\n",
    "W = np.zeros(2)\n",
    "b = 0\n",
    "for e in range(num_epochs):\n",
    "    X, Y = shuffle(X, Y)\n",
    "    for t in range(X.shape[0]):\n",
    "        y_hat = np.dot(X[t], W) + b\n",
    "        loss = ((y_hat - Ypt) ** 2) / 2\n",
    "        acc = (np.sign(np.dot(X, W) + b) == Y).mean()\n",
    "        print(f'epoch = {e}, loss = {loss}, acc = {acc}')\n",
    "        dw = (y_hat - Y[t]) * X[t]\n",
    "        db = y_hat - Y[t]\n",
    "        W = W - lr * dw\n",
    "        b = b - lr * db\n",
    "        plot_decision_boundary(X, Y, W, b, X[t], Y[t])"
   ]
  },
  {
   "cell_type": "code",
   "execution_count": null,
   "id": "d7b328d1",
   "metadata": {},
   "outputs": [],
   "source": []
  }
 ],
 "metadata": {
  "kernelspec": {
   "display_name": "Python 3",
   "language": "python",
   "name": "python3"
  },
  "language_info": {
   "codemirror_mode": {
    "name": "ipython",
    "version": 3
   },
   "file_extension": ".py",
   "mimetype": "text/x-python",
   "name": "python",
   "nbconvert_exporter": "python",
   "pygments_lexer": "ipython3",
   "version": "3.9.5"
  }
 },
 "nbformat": 4,
 "nbformat_minor": 5
}
