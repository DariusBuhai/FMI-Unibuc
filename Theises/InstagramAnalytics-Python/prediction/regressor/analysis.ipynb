{
 "cells": [
  {
   "cell_type": "code",
   "execution_count": 1,
   "outputs": [],
   "source": [
    "from sys import platform, path\n",
    "\n",
    "if platform == \"linux\" or platform == \"linux2\":\n",
    "    path.append('/home/dariusbuhai/python/lib/python3.9/site-packages')\n",
    "if platform == \"darwin\":\n",
    "    path.append('/Library/Frameworks/Python.framework/Versions/3.9/venv/lib/python3.9/site-packages')\n",
    "\n",
    "from prediction.regressor import Regressor\n",
    "from prediction.regressor.regressor_old import Regressor as RegressorOld\n",
    "import numpy as np\n",
    "import matplotlib.pyplot as plt\n",
    "plt.style.use('seaborn-darkgrid')"
   ],
   "metadata": {
    "collapsed": false,
    "pycharm": {
     "name": "#%%\n"
    }
   }
  },
  {
   "cell_type": "code",
   "execution_count": 2,
   "outputs": [],
   "source": [
    "def getOutputDifferences(all_outputs: np.array, all_targets: np.array, multiply_by: np.array) -> dict:\n",
    "    result = {\n",
    "        \"perc_diff\": None,\n",
    "        \"likes_diff\": None\n",
    "    }\n",
    "\n",
    "    diff_pred = (all_outputs - all_targets) * multiply_by\n",
    "    perc_pred = abs((all_targets / all_outputs) * 100)\n",
    "    # Likes difference\n",
    "    total_differences = [0, 0, 0, 0, 0, 0, 0, 0]\n",
    "    differences = [1000, 5000, 10000, 50000, 100000, 200000, 500000, 1000000]\n",
    "    differences_names = ['1K', '5K', '10K', '50K', '100K', '200K', '500K', '1M']\n",
    "    for diff in diff_pred:\n",
    "        idx = 0\n",
    "        for difference_m in differences:\n",
    "            if -difference_m < diff < difference_m:\n",
    "                total_differences[idx] += 1\n",
    "            idx += 1\n",
    "    total_differences.append(diff_pred.shape[0] - total_differences[-1])\n",
    "    differences_names.append('+1M')\n",
    "    result[\"likes_diff\"] = (differences_names, total_differences)\n",
    "    result[\"perc_diff\"] = perc_pred\n",
    "\n",
    "    return result"
   ],
   "metadata": {
    "collapsed": false,
    "pycharm": {
     "name": "#%%\n"
    }
   }
  },
  {
   "cell_type": "code",
   "execution_count": 9,
   "outputs": [],
   "source": [
    "def plotDifferences(x, y, labels, bar_1=\"M1\", bar_2=\"M2\"):\n",
    "    br1 = np.arange(len(labels))\n",
    "    br2 = [x + 0.4 for x in br1]\n",
    "    plt.bar(br1, x, width=0.4, label=bar_1)\n",
    "    plt.bar(br2, y, width=0.4, label=bar_2)\n",
    "    plt.xticks([r + 0.4 for r in range(len(labels))], labels)\n",
    "    plt.legend(loc='upper left')\n",
    "    plt.show()"
   ],
   "metadata": {
    "collapsed": false,
    "pycharm": {
     "name": "#%%\n"
    }
   }
  },
  {
   "cell_type": "code",
   "execution_count": 20,
   "outputs": [],
   "source": [
    "def plotBar(x, labels, bar=\"M2\"):\n",
    "    plt.bar(labels, x, label=bar)\n",
    "    plt.legend(loc='upper left')\n",
    "    plt.show()"
   ],
   "metadata": {
    "collapsed": false,
    "pycharm": {
     "name": "#%%\n"
    }
   }
  },
  {
   "cell_type": "code",
   "execution_count": 5,
   "outputs": [
    {
     "name": "stderr",
     "output_type": "stream",
     "text": [
      "/home/dariusbuhai/Desktop/Projects/InstagramLikesPredictions/prediction/regressor/regressor_old.py:75: FutureWarning: The pandas.np module is deprecated and will be removed from pandas in a future version. Import numpy directly instead.\n",
      "  msk = pd.np.random.rand(len(dataset)) < 0.8\n",
      "/home/dariusbuhai/Desktop/Projects/InstagramLikesPredictions/prediction/regressor/regressor_old.py:78: FutureWarning: The pandas.np module is deprecated and will be removed from pandas in a future version. Import numpy directly instead.\n",
      "  msk2 = pd.np.random.rand(len(dataset2)) < 0.5\n"
     ]
    }
   ],
   "source": [
    "regressor_old = RegressorOld()"
   ],
   "metadata": {
    "collapsed": false,
    "pycharm": {
     "name": "#%%\n"
    }
   }
  },
  {
   "cell_type": "code",
   "execution_count": 6,
   "outputs": [
    {
     "name": "stdout",
     "output_type": "stream",
     "text": [
      "Loaded best model!\n",
      "Test accuracy: \n",
      "MSE:  0.001301814921599128\n",
      "Mean absolute error:  0.018463764285411317\n",
      "R2 score:  -477.81809676997875\n",
      "Loaded best model!\n",
      "Test accuracy: \n",
      "MSE:  0.0021083606606356513\n",
      "Mean absolute error:  0.024689474544239344\n",
      "R2 score:  -1.4214944737651791\n"
     ]
    }
   ],
   "source": [
    "output_differences_old_1, output_differences_old_2 = dict(), dict()\n",
    "if regressor_old.loadModel(\"best_model_0\"):\n",
    "    all_outputs_old, all_targets_old = regressor_old.evaluateModel(regressor_old.test_dl, detailed=True)\n",
    "    output_differences_old_1 = getOutputDifferences(all_outputs_old, all_targets_old, regressor_old.test_ft['followers'])\n",
    "\n",
    "if regressor_old.loadModel(\"best_model_5\"):\n",
    "    all_outputs_old, all_targets_old = regressor_old.evaluateModel(regressor_old.test_dl, detailed=True)\n",
    "    output_differences_old_2 = getOutputDifferences(all_outputs_old, all_targets_old, regressor_old.test_ft['followers'])"
   ],
   "metadata": {
    "collapsed": false,
    "pycharm": {
     "name": "#%%\n"
    }
   }
  },
  {
   "cell_type": "code",
   "execution_count": 12,
   "outputs": [
    {
     "data": {
      "text/plain": "<Figure size 432x288 with 1 Axes>",
      "image/png": "[encoded data removed]"
     },
     "metadata": {
      "needs_background": "light"
     },
     "output_type": "display_data"
    }
   ],
   "source": [
    "plotDifferences(output_differences_old_2['likes_diff'][1], output_differences_old_1['likes_diff'][1], output_differences_old_1['likes_diff'][0], \"M1 - 3 epoci\", \"M1 - 1000 epoci\")"
   ],
   "metadata": {
    "collapsed": false,
    "pycharm": {
     "name": "#%%\n"
    }
   }
  },
  {
   "cell_type": "code",
   "execution_count": 13,
   "outputs": [
    {
     "name": "stderr",
     "output_type": "stream",
     "text": [
      "/home/dariusbuhai/Desktop/Projects/InstagramLikesPredictions/prediction/regressor/__init__.py:88: FutureWarning: The pandas.np module is deprecated and will be removed from pandas in a future version. Import numpy directly instead.\n",
      "  msk = pd.np.random.rand(len(dataset)) < 0.8\n",
      "/home/dariusbuhai/Desktop/Projects/InstagramLikesPredictions/prediction/regressor/__init__.py:91: FutureWarning: The pandas.np module is deprecated and will be removed from pandas in a future version. Import numpy directly instead.\n",
      "  msk2 = pd.np.random.rand(len(dataset2)) < 0.5\n"
     ]
    }
   ],
   "source": [
    "regressor = Regressor()"
   ],
   "metadata": {
    "collapsed": false,
    "pycharm": {
     "name": "#%%\n"
    }
   }
  },
  {
   "cell_type": "code",
   "execution_count": 14,
   "outputs": [
    {
     "name": "stdout",
     "output_type": "stream",
     "text": [
      "Loaded best model!\n",
      "Test accuracy: \n",
      "MSE:  0.7826870982138708\n",
      "Mean absolute error:  0.5097087661773592\n",
      "R2 score:  -1.821720201572762\n",
      "\n"
     ]
    }
   ],
   "source": [
    "output_differences = dict()\n",
    "if regressor.loadModel(\"best_model\"):\n",
    "    all_outputs, all_targets = regressor.evaluateModel(regressor.test_dl, detailed=True)\n",
    "    output_differences = getOutputDifferences(all_outputs, all_targets, regressor.test_ft['mean'])"
   ],
   "metadata": {
    "collapsed": false,
    "pycharm": {
     "name": "#%%\n"
    }
   }
  },
  {
   "cell_type": "code",
   "execution_count": 22,
   "outputs": [
    {
     "data": {
      "text/plain": "<Figure size 432x288 with 1 Axes>",
      "image/png": "[encoded data removed]"
     },
     "metadata": {
      "needs_background": "light"
     },
     "output_type": "display_data"
    },
    {
     "name": "stdout",
     "output_type": "stream",
     "text": [
      "{'perc_diff': array([ 79.80302913, 184.70541074,  81.93135898, ...,  37.39746664,\n",
      "         7.03410866,   3.53572077]), 'likes_diff': (['1K', '5K', '10K', '50K', '100K', '200K', '500K', '1M', '+1M'], [887, 1349, 1893, 6007, 9537, 14332, 21683, 25154, 2187])}\n"
     ]
    }
   ],
   "source": [
    "plotBar(output_differences['likes_diff'][1], output_differences['likes_diff'][0], \"M2 - 500 epoci\")\n",
    "print(output_differences)"
   ],
   "metadata": {
    "collapsed": false,
    "pycharm": {
     "name": "#%%\n"
    }
   }
  },
  {
   "cell_type": "markdown",
   "source": [
    "{'perc_diff': (['.0001', '.0005', '.001', '.01', '.1', '1'], [142, 693, 1406, 14950, 26861, 27461]), 'likes_diff': (['1K', '5K', '10K', '50K', '100K', '200K', '500K', '1M', '+1M'], [47, 185, 410, 2115, 4230, 8567, 17288, 22262, 5199])}"
   ],
   "metadata": {
    "collapsed": false,
    "pycharm": {
     "name": "#%% md\n"
    }
   }
  },
  {
   "cell_type": "code",
   "execution_count": 23,
   "outputs": [
    {
     "data": {
      "text/plain": "<Figure size 432x288 with 1 Axes>",
      "image/png": "[encoded data removed]"
     },
     "metadata": {
      "needs_background": "light"
     },
     "output_type": "display_data"
    }
   ],
   "source": [
    "plotDifferences(output_differences_old_2['likes_diff'][1], output_differences['likes_diff'][1], output_differences['likes_diff'][0], \"M1 - 1000 epoci\", \"M2 - 500 epoci\")"
   ],
   "metadata": {
    "collapsed": false,
    "pycharm": {
     "name": "#%%\n"
    }
   }
  },
  {
   "cell_type": "markdown",
   "source": [
    "Test accuracy:\n",
    "MSE:  0.001235819818950113\n",
    "Mean absolute error:  0.01801587314227801\n",
    "R2 score:  -97.39407233239692"
   ],
   "metadata": {
    "collapsed": false,
    "pycharm": {
     "name": "#%% md\n"
    }
   }
  },
  {
   "cell_type": "code",
   "execution_count": 12,
   "outputs": [
    {
     "name": "stdout",
     "output_type": "stream",
     "text": [
      "125.29423435609337\n"
     ]
    },
    {
     "data": {
      "text/plain": "<Figure size 432x288 with 1 Axes>",
      "image/png": "[encoded data removed]"
     },
     "metadata": {
      "needs_background": "light"
     },
     "output_type": "display_data"
    }
   ],
   "source": [
    "perc_differences = sorted([x for x in list(output_differences['perc_diff']) if x <= 100]) #sorted(, reverse=False)\n",
    "print(sum([x for x in list(output_differences['perc_diff'])]) / len([x for x in list(output_differences['perc_diff'])]))\n",
    "plt.plot([x for x in range(len(perc_differences))], perc_differences)\n",
    "plt.show()"
   ],
   "metadata": {
    "collapsed": false,
    "pycharm": {
     "name": "#%%\n"
    }
   }
  },
  {
   "cell_type": "code",
   "execution_count": 13,
   "outputs": [
    {
     "name": "stdout",
     "output_type": "stream",
     "text": [
      "Actual likes: 8,679,568.0. Predicted: 9,431,033.624630304\n",
      "Actual likes: 2,916,382.0. Predicted: 8,337,935.624722859\n",
      "Actual likes: 10,179,238.0. Predicted: 9,155,620.311589204\n",
      "Actual likes: 7,402,406.0. Predicted: 5,803,477.1738480115\n",
      "Actual likes: 16,248,054.0. Predicted: 10,967,080.833496956\n",
      "Actual likes: 4,741,142.0. Predicted: 5,066,884.753819872\n",
      "Actual likes: 10,398,740.0. Predicted: 3,479,554.444000191\n",
      "Actual likes: 13,157,877.0. Predicted: 8,726,794.983380293\n",
      "Actual likes: 4,099,582.0. Predicted: 4,687,636.278011638\n",
      "Actual likes: 6,724,414.0. Predicted: 6,076,847.711805673\n"
     ]
    }
   ],
   "source": [
    "from prediction.regressor import formatThousands\n",
    "\n",
    "for i in range(0, 10):\n",
    "    likes = regressor.predict(regressor.test_ft.iloc[i])\n",
    "    print(f\"Actual likes: {formatThousands(regressor.test_ft.iloc[i]['likes'])}. Predicted: {formatThousands(likes * regressor.test_ft.iloc[i]['mean'])}\")"
   ],
   "metadata": {
    "collapsed": false,
    "pycharm": {
     "name": "#%%\n"
    }
   }
  }
 ],
 "metadata": {
  "kernelspec": {
   "display_name": "Python 3",
   "language": "python",
   "name": "python3"
  },
  "language_info": {
   "codemirror_mode": {
    "name": "ipython",
    "version": 2
   },
   "file_extension": ".py",
   "mimetype": "text/x-python",
   "name": "python",
   "nbconvert_exporter": "python",
   "pygments_lexer": "ipython2",
   "version": "2.7.6"
  }
 },
 "nbformat": 4,
 "nbformat_minor": 0
}