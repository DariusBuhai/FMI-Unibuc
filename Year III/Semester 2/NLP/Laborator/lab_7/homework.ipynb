{
  "nbformat": 4,
  "nbformat_minor": 0,
  "metadata": {
    "colab": {
      "name": "task7.ipynb",
      "provenance": []
    },
    "kernelspec": {
      "name": "python3",
      "display_name": "Python 3"
    },
    "language_info": {
      "name": "python"
    }
  },
  "cells": [
    {
      "cell_type": "code",
      "execution_count": 1,
      "metadata": {
        "colab": {
          "base_uri": "https://localhost:8080/"
        },
        "id": "0K4sQG1RvaTC",
        "outputId": "17635858-f81c-45a0-d74d-746ea32e153c"
      },
      "outputs": [
        {
          "output_type": "stream",
          "name": "stdout",
          "text": [
            "[nltk_data] Downloading package wordnet to /root/nltk_data...\n",
            "[nltk_data]   Unzipping corpora/wordnet.zip.\n"
          ]
        }
      ],
      "source": [
        "import nltk\n",
        "nltk.download('wordnet')\n",
        "\n",
        "from nltk.corpus import wordnet as wn"
      ]
    },
    {
      "cell_type": "code",
      "source": [
        "def show_word_synset_definitions(word):\n",
        "    word_synsets = wn.synsets(word)\n",
        "    for syn in word_synsets:\n",
        "        print(syn.definition())\n",
        "\n",
        "show_word_synset_definitions(\"school\")"
      ],
      "metadata": {
        "colab": {
          "base_uri": "https://localhost:8080/"
        },
        "id": "wHxpWPJfvnZQ",
        "outputId": "252fb9a4-b20b-4fc2-ba69-5c682e0504ad"
      },
      "execution_count": 2,
      "outputs": [
        {
          "output_type": "stream",
          "name": "stdout",
          "text": [
            "an educational institution\n",
            "a building where young people receive education\n",
            "the process of being formally educated at a school\n",
            "a body of creative artists or writers or thinkers linked by a similar style or by similar teachers\n",
            "the period of instruction in a school; the time period when school is in session\n",
            "an educational institution's faculty and students\n",
            "a large group of fish\n",
            "educate in or as if in a school\n",
            "teach or refine to be discriminative in taste or judgment\n",
            "swim in or form a large group of fish\n"
          ]
        }
      ]
    },
    {
      "cell_type": "code",
      "source": [
        "def are_synonymous(word1, word2):\n",
        "    word1_synsets = wn.synsets(word1)\n",
        "    word2_synsets = wn.synsets(word2)\n",
        "    \n",
        "    set1 = set(word1_synsets)\n",
        "    set2 = set(word2_synsets)\n",
        "    if set1 & set2:\n",
        "        return True\n",
        "    else:\n",
        "        return False\n",
        "\n",
        "print(are_synonymous(\"strong\", \"firm\"))"
      ],
      "metadata": {
        "colab": {
          "base_uri": "https://localhost:8080/"
        },
        "id": "naaP51_zwp0q",
        "outputId": "f8190c44-c738-4ee0-e42f-6ac5e638dd53"
      },
      "execution_count": 3,
      "outputs": [
        {
          "output_type": "stream",
          "name": "stdout",
          "text": [
            "True\n"
          ]
        }
      ]
    },
    {
      "cell_type": "code",
      "source": [
        "def show_holonyms_meronyms(syn):\n",
        "    print(syn.substance_holonyms())\n",
        "    print(syn.substance_meronyms())\n",
        "\n",
        "show_holonyms_meronyms(wn.synset('air.n.01'))"
      ],
      "metadata": {
        "colab": {
          "base_uri": "https://localhost:8080/"
        },
        "id": "W2iJ62y3ygwv",
        "outputId": "2aa389d6-8e0c-4906-d43c-a1da3ee60460"
      },
      "execution_count": 4,
      "outputs": [
        {
          "output_type": "stream",
          "name": "stdout",
          "text": [
            "[Synset('wind.n.01')]\n",
            "[Synset('argon.n.01'), Synset('krypton.n.01'), Synset('neon.n.01'), Synset('nitrogen.n.01'), Synset('oxygen.n.01'), Synset('xenon.n.01')]\n"
          ]
        }
      ]
    },
    {
      "cell_type": "code",
      "source": [
        "def show_all_hypernyms(syn):\n",
        "    paths = syn.hypernym_paths()\n",
        "    for path in paths:\n",
        "        print(\" -> \".join(n.name() for n in path))\n",
        "\n",
        "show_all_hypernyms(wn.synset('water.n.01'))"
      ],
      "metadata": {
        "colab": {
          "base_uri": "https://localhost:8080/"
        },
        "id": "j1a4Sb7rzJoa",
        "outputId": "41638f0b-f329-40ef-e017-1a14a54c7bc6"
      },
      "execution_count": 5,
      "outputs": [
        {
          "output_type": "stream",
          "name": "stdout",
          "text": [
            "entity.n.01 -> physical_entity.n.01 -> matter.n.03 -> substance.n.01 -> material.n.01 -> chemical.n.01 -> compound.n.02 -> binary_compound.n.01 -> water.n.01\n",
            "entity.n.01 -> abstraction.n.06 -> relation.n.01 -> part.n.01 -> substance.n.01 -> material.n.01 -> chemical.n.01 -> compound.n.02 -> binary_compound.n.01 -> water.n.01\n",
            "entity.n.01 -> physical_entity.n.01 -> matter.n.03 -> fluid.n.02 -> liquid.n.03 -> water.n.01\n"
          ]
        }
      ]
    },
    {
      "cell_type": "code",
      "source": [
        "def lch(syn1, syn2):\n",
        "    lch = syn1.lowest_common_hypernyms(syn2)\n",
        "    for term in lch:\n",
        "        print(term)\n",
        "        print(term.definition())\n",
        "\n",
        "lch(wn.synset('dog.n.01'), wn.synset('cat.n.01'))"
      ],
      "metadata": {
        "colab": {
          "base_uri": "https://localhost:8080/"
        },
        "id": "XiYAEGXs0JBE",
        "outputId": "c96e7a77-93a0-41e1-97f4-5ec5a98dc67d"
      },
      "execution_count": 7,
      "outputs": [
        {
          "output_type": "stream",
          "name": "stdout",
          "text": [
            "Synset('carnivore.n.01')\n",
            "a terrestrial or aquatic flesh-eating mammal\n"
          ]
        }
      ]
    },
    {
      "cell_type": "code",
      "source": [
        "def syn_similarities(syn, syn_list):\n",
        "    return sorted(syn_list, key=lambda x: -x.path_similarity(syn))\n",
        "\n",
        "print(syn_similarities(wn.synset('dog.n.01'), [wn.synset('cat.n.01'), wn.synset('plane.n.01'), wn.synset('cow.n.01')]))"
      ],
      "metadata": {
        "colab": {
          "base_uri": "https://localhost:8080/"
        },
        "id": "6utFOHgM5QkZ",
        "outputId": "d1c1ff2d-9035-44c0-e0d9-854cb1f6e15c"
      },
      "execution_count": 9,
      "outputs": [
        {
          "output_type": "stream",
          "name": "stdout",
          "text": [
            "[Synset('cat.n.01'), Synset('cow.n.01'), Synset('airplane.n.01')]\n"
          ]
        }
      ]
    },
    {
      "cell_type": "code",
      "source": [
        "def show_synonymy_antonyms(word):\n",
        "    anton, synon = [], []\n",
        "\n",
        "    word_synsets = wn.synsets(word)\n",
        "    for syn in word_synsets:\n",
        "        for s in syn.similar_tos():\n",
        "            synon.append(s.name())\n",
        "        for lem in syn.lemmas():\n",
        "            for a in lem.antonyms():\n",
        "                anton.append(a.name())\n",
        "    \n",
        "    print(\"Antonyms\")\n",
        "    print(set(anton))\n",
        "    print(\"Synonyms\")\n",
        "    print(set(synon))\n",
        "\n",
        "show_synonymy_antonyms(\"good\")"
      ],
      "metadata": {
        "colab": {
          "base_uri": "https://localhost:8080/"
        },
        "id": "HeN33jBq5QuK",
        "outputId": "458c4211-73f2-4a2e-f361-4daac161a39d"
      },
      "execution_count": 10,
      "outputs": [
        {
          "output_type": "stream",
          "name": "stdout",
          "text": [
            "Antonyms\n",
            "{'badness', 'evilness', 'ill', 'bad', 'evil'}\n",
            "Synonyms\n",
            "{'skilled.a.01', 'well-behaved.s.01', 'reputable.a.01', 'solid.s.01', 'satisfactory.s.02', 'intellectual.a.02', 'advantageous.a.01', 'fresh.a.01', 'complete.a.01', 'operative.a.01', 'goodish.s.01', 'bang-up.s.01', 'redeeming.s.02', 'fortunate.a.01', 'ample.a.01', 'healthful.a.01', 'white.s.07', 'redemptive.s.02', 'angelic.s.01', 'sound.a.01', 'opportune.a.01', 'discriminating.a.01', 'hot.s.15', 'superb.s.02', 'pleasing.a.01', 'nice.a.01', 'genuine.a.01', 'good_enough.s.01', 'healthy.a.01', 'righteous.a.01', 'close.a.02', 'goody-goody.s.01'}\n"
          ]
        }
      ]
    }
  ]
}