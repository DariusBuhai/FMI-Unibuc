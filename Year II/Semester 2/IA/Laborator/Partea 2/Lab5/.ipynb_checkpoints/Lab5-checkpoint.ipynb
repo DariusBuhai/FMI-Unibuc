{
 "cells": [
  {
   "cell_type": "code",
   "execution_count": 9,
   "id": "329866ca",
   "metadata": {},
   "outputs": [
    {
     "name": "stdout",
     "output_type": "stream",
     "text": [
      "The first 4 samples are:\n",
      "  [[2.0150e+03 4.1000e+04 1.9670e+01 1.5820e+03 1.2620e+02 5.0000e+00\n",
      "  1.0000e+00 0.0000e+00 1.0000e+00 0.0000e+00 0.0000e+00 0.0000e+00\n",
      "  1.0000e+00 0.0000e+00]\n",
      " [2.0110e+03 4.6000e+04 1.8200e+01 1.1990e+03 8.8700e+01 5.0000e+00\n",
      "  1.0000e+00 0.0000e+00 0.0000e+00 1.0000e+00 0.0000e+00 0.0000e+00\n",
      "  1.0000e+00 0.0000e+00]\n",
      " [2.0120e+03 8.7000e+04 2.0770e+01 1.2480e+03 8.8760e+01 7.0000e+00\n",
      "  1.0000e+00 0.0000e+00 1.0000e+00 0.0000e+00 0.0000e+00 0.0000e+00\n",
      "  1.0000e+00 0.0000e+00]\n",
      " [2.0130e+03 8.6999e+04 2.3080e+01 1.4610e+03 6.3100e+01 5.0000e+00\n",
      "  1.0000e+00 0.0000e+00 1.0000e+00 0.0000e+00 0.0000e+00 0.0000e+00\n",
      "  1.0000e+00 0.0000e+00]]\n",
      "The first 4 prices are:\n",
      "  [12.5  4.5  6.   3.5]\n"
     ]
    }
   ],
   "source": [
    "import numpy as np\n",
    "from sklearn.utils import shuffle\n",
    "# load training data\n",
    "training_data = np.load('data/training_data.npy') \n",
    "prices = np.load('data/prices.npy')\n",
    "# print the first 4 samples\n",
    "print('The first 4 samples are:\\n ', training_data[:4]) \n",
    "print('The first 4 prices are:\\n ', prices[:4])\n",
    "# shuffle\n",
    "training_data, prices = shuffle(training_data, prices, random_state=0)"
   ]
  },
  {
   "cell_type": "code",
   "execution_count": 17,
   "id": "f54b35e1",
   "metadata": {},
   "outputs": [],
   "source": [
    "import sklearn.preprocessing as sk\n",
    "from sklearn.metrics import mean_squared_error, mean_absolute_error\n",
    "from sklearn.linear_model import LinearRegression, Ridge"
   ]
  },
  {
   "cell_type": "code",
   "execution_count": 18,
   "id": "8c2ca929",
   "metadata": {},
   "outputs": [],
   "source": [
    "def normalize(train_data, test_data):\n",
    "    scaler = sk.StandardScaler()\n",
    "    scaler.fit(train_data)\n",
    "    scaled_train_data = scaler.transform(train_data)\n",
    "    scaled_test_data = scaler.transform(test_data)\n",
    "    \n",
    "    return scaled_train_data, scaled_test_data"
   ]
  },
  {
   "cell_type": "code",
   "execution_count": 19,
   "id": "4a65ca3e",
   "metadata": {},
   "outputs": [],
   "source": [
    "num_examples_fold = len(prices) // 3"
   ]
  },
  {
   "cell_type": "code",
   "execution_count": 20,
   "id": "84d6300f",
   "metadata": {},
   "outputs": [],
   "source": [
    "train_1, labels_1 = training_data[:num_examples_fold], prices[:num_examples_fold]\n",
    "train_2, labels_2 = training_data[num_examples_fold:2*num_examples_fold], prices[num_examples_fold:2*num_examples_fold]\n",
    "train_3, labels_3 = training_data[num_examples_fold*2:], prices[num_examples_fold*2:]"
   ]
  },
  {
   "cell_type": "code",
   "execution_count": 21,
   "id": "5741ea86",
   "metadata": {},
   "outputs": [
    {
     "name": "stdout",
     "output_type": "stream",
     "text": [
      "(1626, 14) (1626, 14) (1627, 14)\n"
     ]
    }
   ],
   "source": [
    "print(train_1.shape, train_2.shape, train_3.shape)"
   ]
  },
  {
   "cell_type": "code",
   "execution_count": 25,
   "id": "169739f4",
   "metadata": {},
   "outputs": [],
   "source": [
    "def normalize_train_and_eval(model, train_data, train_labels, test_data, test_labels):\n",
    "    scaled_train_data, scaled_test_data = normalize(train_data, test_data)\n",
    "    model.fit(scaled_train_data, train_labels)\n",
    "    predicted_prices = model.predict(scaled_test_data)\n",
    "    return mean_squared_error(test_labels, predicted_prices), mean_absolute_error(test_labels, predicted_prices)\n",
    "    "
   ]
  },
  {
   "cell_type": "code",
   "execution_count": 26,
   "id": "f754638d",
   "metadata": {},
   "outputs": [],
   "source": [
    "linear_model = LinearRegression()\n",
    "mse_1, mae_1 = normalize_train_and_eval(linear_model, train_data=np.concatenate((train_1, train_2)), train_labels=np.concatenate((labels_1, labels_2)), test_data=train_3, test_labels=labels_3)\n",
    "\n",
    "linear_model = LinearRegression()\n",
    "mse_2, mae_2 = normalize_train_and_eval(linear_model, train_data=np.concatenate((train_1, train_3)), train_labels=np.concatenate((labels_1, labels_3)), test_data=train_2, test_labels=labels_2)\n",
    "\n",
    "\n",
    "linear_model = LinearRegression()\n",
    "mse_3, mae_3 = normalize_train_and_eval(linear_model, train_data=np.concatenate((train_2, train_3)), train_labels=np.concatenate((labels_2, labels_3)), test_data=train_1, test_labels=labels_1)"
   ]
  },
  {
   "cell_type": "code",
   "execution_count": 27,
   "id": "72b70eb9",
   "metadata": {},
   "outputs": [
    {
     "name": "stdout",
     "output_type": "stream",
     "text": [
      "1.3195985158284504 3.1674890518188477\n"
     ]
    }
   ],
   "source": [
    "mae = (mae_1 + mae_2 + mae_3) / 3\n",
    "mse = (mse_1 + mse_2 + mse_3) / 3\n",
    "print(mae, mse)"
   ]
  },
  {
   "cell_type": "code",
   "execution_count": 28,
   "id": "23655de9",
   "metadata": {},
   "outputs": [
    {
     "name": "stdout",
     "output_type": "stream",
     "text": [
      "0.44 16.0\n"
     ]
    }
   ],
   "source": [
    "print(prices.min(), prices.max())"
   ]
  },
  {
   "cell_type": "code",
   "execution_count": null,
   "id": "b2b04a5c",
   "metadata": {},
   "outputs": [],
   "source": []
  }
 ],
 "metadata": {
  "kernelspec": {
   "display_name": "Python 3",
   "language": "python",
   "name": "python3"
  },
  "language_info": {
   "codemirror_mode": {
    "name": "ipython",
    "version": 3
   },
   "file_extension": ".py",
   "mimetype": "text/x-python",
   "name": "python",
   "nbconvert_exporter": "python",
   "pygments_lexer": "ipython3",
   "version": "3.7.4"
  }
 },
 "nbformat": 4,
 "nbformat_minor": 5
}
