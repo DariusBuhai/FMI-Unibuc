{
  "cells": [
    {
      "cell_type": "markdown",
      "metadata": {
        "id": "WLRXYoXUuFbV"
      },
      "source": [
        "# Part-of-Speech tagging and Named Entity Recognition"
      ]
    },
    {
      "cell_type": "markdown",
      "metadata": {
        "id": "NWxnXyAWbfDq"
      },
      "source": [
        "In acest laborator vom vorbi despre mai multe tool-uri din modului [Spacy](), impreuna cu alte probleme actuale din NLP.\n",
        "\n"
      ]
    },
    {
      "cell_type": "markdown",
      "metadata": {
        "id": "WUEYIxZdcIb5"
      },
      "source": [
        "In continuare ne vom axa pe exemple pentru limba romana."
      ]
    },
    {
      "cell_type": "code",
      "execution_count": null,
      "metadata": {
        "id": "zvT93Jyuc4uS"
      },
      "outputs": [],
      "source": [
        "! pip install -U spacy\n",
        "! python -m spacy download ro_core_news_sm"
      ]
    },
    {
      "cell_type": "code",
      "execution_count": null,
      "metadata": {
        "id": "-wOmzLyvcvHo"
      },
      "outputs": [],
      "source": [
        "import spacy\n",
        "from spacy.lang.ro.examples import sentences \n",
        "from tabulate import tabulate\n",
        "import os\n",
        "\n",
        "nlp = spacy.load(\"ro_core_news_sm\")"
      ]
    },
    {
      "cell_type": "markdown",
      "metadata": {
        "id": "AoAP5RkMgevp"
      },
      "source": [
        "## Analiza morfologica\n",
        "\n",
        "POS (part of speech) este partea de vorbire la nivel macro.\n",
        "\n",
        " - ADJ: adjective, e.g. big, old, green, incomprehensible, first  \n",
        " - ADP: adposition, e.g. in, to, during  \n",
        " - ADV: adverb, e.g. very, tomorrow, down, where, there  \n",
        " - AUX: auxiliary, e.g. is, has (done), will (do), should (do)  \n",
        " - CONJ: conjunction, e.g. and, or, but  \n",
        " - CCONJ: coordinating conjunction, e.g. and, or, but  \n",
        " - DET: determiner, e.g. a, an, the  \n",
        " - INTJ: interjection, e.g. psst, ouch, bravo, hello  \n",
        " - NOUN: noun, e.g. girl, cat, tree, air, beauty  \n",
        " - NUM: numeral, e.g. 1, 2017, one, seventy-seven, IV, MMXIV  \n",
        " - PART: particle, e.g. ’s, not,  \n",
        " - PRON: pronoun, e.g I, you, he, she, myself, themselves, somebody  \n",
        " - PROPN: proper noun, e.g. Mary, John, London, NATO, HBO  \n",
        " - PUNCT: punctuation, e.g. ., (, ), ?  \n",
        " - SCONJ: subordinating conjunction, e.g. if, while, that  \n",
        " - SYM: symbol, e.g. $, %, §, ©, +, −, ×, ÷, =, :), 😝  \n",
        " - VERB: verb, e.g. run, runs, running, eat, ate, eating  \n",
        " - X: other, e.g. sfpksdpsxmsa  \n",
        " - SPACE: space, e.g.\n",
        "\n",
        "\n",
        "Tag-ul este un pos fine grained, ce poate fi vazut ca o prescurtare a descrierii obtinute din morph."
      ]
    },
    {
      "cell_type": "code",
      "execution_count": null,
      "metadata": {
        "colab": {
          "base_uri": "https://localhost:8080/"
        },
        "id": "Vap6nRZpcIu1",
        "outputId": "d183bf97-31b2-415c-9f18-c583fdcbd641"
      },
      "outputs": [
        {
          "name": "stdout",
          "output_type": "stream",
          "text": [
            "word        pos    tag      morph\n",
            "----------  -----  -------  --------------------------------------------------------------\n",
            "Apple       NOUN   Ncfp-n   Definite=Ind|Gender=Fem|Number=Plur\n",
            "plănuiește  AUX    Vmip3s   Mood=Ind|Number=Sing|Person=3|Tense=Pres|VerbForm=Fin\n",
            "să          PART   Qs       Mood=Sub\n",
            "cumpere     AUX    Vmsp3    Mood=Sub|Person=3|Tense=Pres|VerbForm=Fin\n",
            "o           DET    Tifsr    Case=Acc,Nom|Gender=Fem|Number=Sing|PronType=Ind\n",
            "companie    NOUN   Ncfsrn   Case=Acc,Nom|Definite=Ind|Gender=Fem|Number=Sing\n",
            "britanică   ADJ    Afpfsrn  Case=Acc,Nom|Definite=Ind|Degree=Pos|Gender=Fem|Number=Sing\n",
            "pentru      ADP    Spsa     AdpType=Prep|Case=Acc\n",
            "un          DET    Timsr    Case=Acc,Nom|Gender=Masc|Number=Sing|PronType=Ind\n",
            "miliard     NUM    Mcms-ln  Definite=Ind|Gender=Masc|NumForm=Word|NumType=Card|Number=Sing\n",
            "de          ADP    Spsa     AdpType=Prep|Case=Acc\n",
            "dolari      NOUN   Ncmp-n   Definite=Ind|Gender=Masc|Number=Plur\n"
          ]
        }
      ],
      "source": [
        "doc = nlp(sentences[0])\n",
        "\n",
        "descriptions = []\n",
        "for token in doc:\n",
        "    desc = [token.text, token.pos_, token.tag_, token.morph]\n",
        "    descriptions.append(desc)\n",
        "\n",
        "print(tabulate(descriptions, headers=[\"word\", \"pos\", \"tag\", \"morph\"]))"
      ]
    },
    {
      "cell_type": "markdown",
      "metadata": {
        "id": "oqH778mUgqzU"
      },
      "source": [
        "Foarte util in detectia de mental health disorders. Conform unor studii psihologice oamenii diagnosticati cu depresie tind sa foloseasca mai mult pronumele \"I\", verbe la persoana intai si alte adverbe \"nothing\", \"never\" etc.. Mai multe detalii [aici](https://aclanthology.org/W18-4102.pdf).\n"
      ]
    },
    {
      "cell_type": "markdown",
      "metadata": {
        "id": "PPiyVKr8l3Zp"
      },
      "source": [
        "## Dependency parsing"
      ]
    },
    {
      "cell_type": "code",
      "execution_count": null,
      "metadata": {
        "colab": {
          "base_uri": "https://localhost:8080/",
          "height": 309
        },
        "id": "E2S8FB1ke-mw",
        "outputId": "2c11a643-1e49-48e3-81f1-9b6c2a9628d3"
      },
      "outputs": [
        {
          "data": {
            "text/html": [
              "<span class=\"tex2jax_ignore\"><svg xmlns=\"http://www.w3.org/2000/svg\" xmlns:xlink=\"http://www.w3.org/1999/xlink\" xml:lang=\"ro\" id=\"a91421da1b6a4bc7afcfbfccaae5a821-0\" class=\"displacy\" width=\"1250\" height=\"287.0\" direction=\"ltr\" style=\"max-width: none; height: 287.0px; color: #000000; background: #ffffff; font-family: Arial; direction: ltr\">\n",
              "<text class=\"displacy-token\" fill=\"currentColor\" text-anchor=\"middle\" y=\"197.0\">\n",
              "    <tspan class=\"displacy-word\" fill=\"currentColor\" x=\"50\">Apple</tspan>\n",
              "    <tspan class=\"displacy-tag\" dy=\"2em\" fill=\"currentColor\" x=\"50\">NOUN</tspan>\n",
              "</text>\n",
              "\n",
              "<text class=\"displacy-token\" fill=\"currentColor\" text-anchor=\"middle\" y=\"197.0\">\n",
              "    <tspan class=\"displacy-word\" fill=\"currentColor\" x=\"150\">plănuiește</tspan>\n",
              "    <tspan class=\"displacy-tag\" dy=\"2em\" fill=\"currentColor\" x=\"150\">AUX</tspan>\n",
              "</text>\n",
              "\n",
              "<text class=\"displacy-token\" fill=\"currentColor\" text-anchor=\"middle\" y=\"197.0\">\n",
              "    <tspan class=\"displacy-word\" fill=\"currentColor\" x=\"250\">să</tspan>\n",
              "    <tspan class=\"displacy-tag\" dy=\"2em\" fill=\"currentColor\" x=\"250\">PART</tspan>\n",
              "</text>\n",
              "\n",
              "<text class=\"displacy-token\" fill=\"currentColor\" text-anchor=\"middle\" y=\"197.0\">\n",
              "    <tspan class=\"displacy-word\" fill=\"currentColor\" x=\"350\">cumpere</tspan>\n",
              "    <tspan class=\"displacy-tag\" dy=\"2em\" fill=\"currentColor\" x=\"350\">AUX</tspan>\n",
              "</text>\n",
              "\n",
              "<text class=\"displacy-token\" fill=\"currentColor\" text-anchor=\"middle\" y=\"197.0\">\n",
              "    <tspan class=\"displacy-word\" fill=\"currentColor\" x=\"450\">o</tspan>\n",
              "    <tspan class=\"displacy-tag\" dy=\"2em\" fill=\"currentColor\" x=\"450\">DET</tspan>\n",
              "</text>\n",
              "\n",
              "<text class=\"displacy-token\" fill=\"currentColor\" text-anchor=\"middle\" y=\"197.0\">\n",
              "    <tspan class=\"displacy-word\" fill=\"currentColor\" x=\"550\">companie</tspan>\n",
              "    <tspan class=\"displacy-tag\" dy=\"2em\" fill=\"currentColor\" x=\"550\">NOUN</tspan>\n",
              "</text>\n",
              "\n",
              "<text class=\"displacy-token\" fill=\"currentColor\" text-anchor=\"middle\" y=\"197.0\">\n",
              "    <tspan class=\"displacy-word\" fill=\"currentColor\" x=\"650\">britanică</tspan>\n",
              "    <tspan class=\"displacy-tag\" dy=\"2em\" fill=\"currentColor\" x=\"650\">ADJ</tspan>\n",
              "</text>\n",
              "\n",
              "<text class=\"displacy-token\" fill=\"currentColor\" text-anchor=\"middle\" y=\"197.0\">\n",
              "    <tspan class=\"displacy-word\" fill=\"currentColor\" x=\"750\">pentru</tspan>\n",
              "    <tspan class=\"displacy-tag\" dy=\"2em\" fill=\"currentColor\" x=\"750\">ADP</tspan>\n",
              "</text>\n",
              "\n",
              "<text class=\"displacy-token\" fill=\"currentColor\" text-anchor=\"middle\" y=\"197.0\">\n",
              "    <tspan class=\"displacy-word\" fill=\"currentColor\" x=\"850\">un</tspan>\n",
              "    <tspan class=\"displacy-tag\" dy=\"2em\" fill=\"currentColor\" x=\"850\">DET</tspan>\n",
              "</text>\n",
              "\n",
              "<text class=\"displacy-token\" fill=\"currentColor\" text-anchor=\"middle\" y=\"197.0\">\n",
              "    <tspan class=\"displacy-word\" fill=\"currentColor\" x=\"950\">miliard</tspan>\n",
              "    <tspan class=\"displacy-tag\" dy=\"2em\" fill=\"currentColor\" x=\"950\">NUM</tspan>\n",
              "</text>\n",
              "\n",
              "<text class=\"displacy-token\" fill=\"currentColor\" text-anchor=\"middle\" y=\"197.0\">\n",
              "    <tspan class=\"displacy-word\" fill=\"currentColor\" x=\"1050\">de</tspan>\n",
              "    <tspan class=\"displacy-tag\" dy=\"2em\" fill=\"currentColor\" x=\"1050\">ADP</tspan>\n",
              "</text>\n",
              "\n",
              "<text class=\"displacy-token\" fill=\"currentColor\" text-anchor=\"middle\" y=\"197.0\">\n",
              "    <tspan class=\"displacy-word\" fill=\"currentColor\" x=\"1150\">dolari</tspan>\n",
              "    <tspan class=\"displacy-tag\" dy=\"2em\" fill=\"currentColor\" x=\"1150\">NOUN</tspan>\n",
              "</text>\n",
              "\n",
              "<g class=\"displacy-arrow\">\n",
              "    <path class=\"displacy-arc\" id=\"arrow-a91421da1b6a4bc7afcfbfccaae5a821-0-0\" stroke-width=\"2px\" d=\"M70,152.0 C70,102.0 140.0,102.0 140.0,152.0\" fill=\"none\" stroke=\"currentColor\"/>\n",
              "    <text dy=\"1.25em\" style=\"font-size: 0.8em; letter-spacing: 1px\">\n",
              "        <textPath xlink:href=\"#arrow-a91421da1b6a4bc7afcfbfccaae5a821-0-0\" class=\"displacy-label\" startOffset=\"50%\" side=\"left\" fill=\"currentColor\" text-anchor=\"middle\">nsubj</textPath>\n",
              "    </text>\n",
              "    <path class=\"displacy-arrowhead\" d=\"M70,154.0 L62,142.0 78,142.0\" fill=\"currentColor\"/>\n",
              "</g>\n",
              "\n",
              "<g class=\"displacy-arrow\">\n",
              "    <path class=\"displacy-arc\" id=\"arrow-a91421da1b6a4bc7afcfbfccaae5a821-0-1\" stroke-width=\"2px\" d=\"M270,152.0 C270,102.0 340.0,102.0 340.0,152.0\" fill=\"none\" stroke=\"currentColor\"/>\n",
              "    <text dy=\"1.25em\" style=\"font-size: 0.8em; letter-spacing: 1px\">\n",
              "        <textPath xlink:href=\"#arrow-a91421da1b6a4bc7afcfbfccaae5a821-0-1\" class=\"displacy-label\" startOffset=\"50%\" side=\"left\" fill=\"currentColor\" text-anchor=\"middle\">mark</textPath>\n",
              "    </text>\n",
              "    <path class=\"displacy-arrowhead\" d=\"M270,154.0 L262,142.0 278,142.0\" fill=\"currentColor\"/>\n",
              "</g>\n",
              "\n",
              "<g class=\"displacy-arrow\">\n",
              "    <path class=\"displacy-arc\" id=\"arrow-a91421da1b6a4bc7afcfbfccaae5a821-0-2\" stroke-width=\"2px\" d=\"M170,152.0 C170,52.0 345.0,52.0 345.0,152.0\" fill=\"none\" stroke=\"currentColor\"/>\n",
              "    <text dy=\"1.25em\" style=\"font-size: 0.8em; letter-spacing: 1px\">\n",
              "        <textPath xlink:href=\"#arrow-a91421da1b6a4bc7afcfbfccaae5a821-0-2\" class=\"displacy-label\" startOffset=\"50%\" side=\"left\" fill=\"currentColor\" text-anchor=\"middle\">ccomp</textPath>\n",
              "    </text>\n",
              "    <path class=\"displacy-arrowhead\" d=\"M345.0,154.0 L353.0,142.0 337.0,142.0\" fill=\"currentColor\"/>\n",
              "</g>\n",
              "\n",
              "<g class=\"displacy-arrow\">\n",
              "    <path class=\"displacy-arc\" id=\"arrow-a91421da1b6a4bc7afcfbfccaae5a821-0-3\" stroke-width=\"2px\" d=\"M470,152.0 C470,102.0 540.0,102.0 540.0,152.0\" fill=\"none\" stroke=\"currentColor\"/>\n",
              "    <text dy=\"1.25em\" style=\"font-size: 0.8em; letter-spacing: 1px\">\n",
              "        <textPath xlink:href=\"#arrow-a91421da1b6a4bc7afcfbfccaae5a821-0-3\" class=\"displacy-label\" startOffset=\"50%\" side=\"left\" fill=\"currentColor\" text-anchor=\"middle\">det</textPath>\n",
              "    </text>\n",
              "    <path class=\"displacy-arrowhead\" d=\"M470,154.0 L462,142.0 478,142.0\" fill=\"currentColor\"/>\n",
              "</g>\n",
              "\n",
              "<g class=\"displacy-arrow\">\n",
              "    <path class=\"displacy-arc\" id=\"arrow-a91421da1b6a4bc7afcfbfccaae5a821-0-4\" stroke-width=\"2px\" d=\"M370,152.0 C370,52.0 545.0,52.0 545.0,152.0\" fill=\"none\" stroke=\"currentColor\"/>\n",
              "    <text dy=\"1.25em\" style=\"font-size: 0.8em; letter-spacing: 1px\">\n",
              "        <textPath xlink:href=\"#arrow-a91421da1b6a4bc7afcfbfccaae5a821-0-4\" class=\"displacy-label\" startOffset=\"50%\" side=\"left\" fill=\"currentColor\" text-anchor=\"middle\">obj</textPath>\n",
              "    </text>\n",
              "    <path class=\"displacy-arrowhead\" d=\"M545.0,154.0 L553.0,142.0 537.0,142.0\" fill=\"currentColor\"/>\n",
              "</g>\n",
              "\n",
              "<g class=\"displacy-arrow\">\n",
              "    <path class=\"displacy-arc\" id=\"arrow-a91421da1b6a4bc7afcfbfccaae5a821-0-5\" stroke-width=\"2px\" d=\"M570,152.0 C570,102.0 640.0,102.0 640.0,152.0\" fill=\"none\" stroke=\"currentColor\"/>\n",
              "    <text dy=\"1.25em\" style=\"font-size: 0.8em; letter-spacing: 1px\">\n",
              "        <textPath xlink:href=\"#arrow-a91421da1b6a4bc7afcfbfccaae5a821-0-5\" class=\"displacy-label\" startOffset=\"50%\" side=\"left\" fill=\"currentColor\" text-anchor=\"middle\">amod</textPath>\n",
              "    </text>\n",
              "    <path class=\"displacy-arrowhead\" d=\"M640.0,154.0 L648.0,142.0 632.0,142.0\" fill=\"currentColor\"/>\n",
              "</g>\n",
              "\n",
              "<g class=\"displacy-arrow\">\n",
              "    <path class=\"displacy-arc\" id=\"arrow-a91421da1b6a4bc7afcfbfccaae5a821-0-6\" stroke-width=\"2px\" d=\"M770,152.0 C770,52.0 945.0,52.0 945.0,152.0\" fill=\"none\" stroke=\"currentColor\"/>\n",
              "    <text dy=\"1.25em\" style=\"font-size: 0.8em; letter-spacing: 1px\">\n",
              "        <textPath xlink:href=\"#arrow-a91421da1b6a4bc7afcfbfccaae5a821-0-6\" class=\"displacy-label\" startOffset=\"50%\" side=\"left\" fill=\"currentColor\" text-anchor=\"middle\">case</textPath>\n",
              "    </text>\n",
              "    <path class=\"displacy-arrowhead\" d=\"M770,154.0 L762,142.0 778,142.0\" fill=\"currentColor\"/>\n",
              "</g>\n",
              "\n",
              "<g class=\"displacy-arrow\">\n",
              "    <path class=\"displacy-arc\" id=\"arrow-a91421da1b6a4bc7afcfbfccaae5a821-0-7\" stroke-width=\"2px\" d=\"M870,152.0 C870,102.0 940.0,102.0 940.0,152.0\" fill=\"none\" stroke=\"currentColor\"/>\n",
              "    <text dy=\"1.25em\" style=\"font-size: 0.8em; letter-spacing: 1px\">\n",
              "        <textPath xlink:href=\"#arrow-a91421da1b6a4bc7afcfbfccaae5a821-0-7\" class=\"displacy-label\" startOffset=\"50%\" side=\"left\" fill=\"currentColor\" text-anchor=\"middle\">det</textPath>\n",
              "    </text>\n",
              "    <path class=\"displacy-arrowhead\" d=\"M870,154.0 L862,142.0 878,142.0\" fill=\"currentColor\"/>\n",
              "</g>\n",
              "\n",
              "<g class=\"displacy-arrow\">\n",
              "    <path class=\"displacy-arc\" id=\"arrow-a91421da1b6a4bc7afcfbfccaae5a821-0-8\" stroke-width=\"2px\" d=\"M370,152.0 C370,2.0 950.0,2.0 950.0,152.0\" fill=\"none\" stroke=\"currentColor\"/>\n",
              "    <text dy=\"1.25em\" style=\"font-size: 0.8em; letter-spacing: 1px\">\n",
              "        <textPath xlink:href=\"#arrow-a91421da1b6a4bc7afcfbfccaae5a821-0-8\" class=\"displacy-label\" startOffset=\"50%\" side=\"left\" fill=\"currentColor\" text-anchor=\"middle\">obl</textPath>\n",
              "    </text>\n",
              "    <path class=\"displacy-arrowhead\" d=\"M950.0,154.0 L958.0,142.0 942.0,142.0\" fill=\"currentColor\"/>\n",
              "</g>\n",
              "\n",
              "<g class=\"displacy-arrow\">\n",
              "    <path class=\"displacy-arc\" id=\"arrow-a91421da1b6a4bc7afcfbfccaae5a821-0-9\" stroke-width=\"2px\" d=\"M1070,152.0 C1070,102.0 1140.0,102.0 1140.0,152.0\" fill=\"none\" stroke=\"currentColor\"/>\n",
              "    <text dy=\"1.25em\" style=\"font-size: 0.8em; letter-spacing: 1px\">\n",
              "        <textPath xlink:href=\"#arrow-a91421da1b6a4bc7afcfbfccaae5a821-0-9\" class=\"displacy-label\" startOffset=\"50%\" side=\"left\" fill=\"currentColor\" text-anchor=\"middle\">case</textPath>\n",
              "    </text>\n",
              "    <path class=\"displacy-arrowhead\" d=\"M1070,154.0 L1062,142.0 1078,142.0\" fill=\"currentColor\"/>\n",
              "</g>\n",
              "\n",
              "<g class=\"displacy-arrow\">\n",
              "    <path class=\"displacy-arc\" id=\"arrow-a91421da1b6a4bc7afcfbfccaae5a821-0-10\" stroke-width=\"2px\" d=\"M970,152.0 C970,52.0 1145.0,52.0 1145.0,152.0\" fill=\"none\" stroke=\"currentColor\"/>\n",
              "    <text dy=\"1.25em\" style=\"font-size: 0.8em; letter-spacing: 1px\">\n",
              "        <textPath xlink:href=\"#arrow-a91421da1b6a4bc7afcfbfccaae5a821-0-10\" class=\"displacy-label\" startOffset=\"50%\" side=\"left\" fill=\"currentColor\" text-anchor=\"middle\">nmod</textPath>\n",
              "    </text>\n",
              "    <path class=\"displacy-arrowhead\" d=\"M1145.0,154.0 L1153.0,142.0 1137.0,142.0\" fill=\"currentColor\"/>\n",
              "</g>\n",
              "</svg></span>"
            ],
            "text/plain": [
              "<IPython.core.display.HTML object>"
            ]
          },
          "metadata": {},
          "output_type": "display_data"
        }
      ],
      "source": [
        "from spacy import displacy\n",
        "\n",
        "displacy.render(doc, style=\"dep\", options={\"distance\": 100}, jupyter=True)"
      ]
    },
    {
      "cell_type": "code",
      "execution_count": null,
      "metadata": {
        "colab": {
          "base_uri": "https://localhost:8080/",
          "height": 35
        },
        "id": "lpCpnx3Sha_5",
        "outputId": "71e2b1ae-4863-4f46-e4fe-d1bff69b6bee"
      },
      "outputs": [
        {
          "data": {
            "text/plain": [
              "'clausal complement'"
            ]
          },
          "execution_count": 13,
          "metadata": {},
          "output_type": "execute_result"
        }
      ],
      "source": [
        "# pentru a intelege relatiile\n",
        "spacy.explain('ccomp')"
      ]
    },
    {
      "cell_type": "code",
      "execution_count": null,
      "metadata": {
        "colab": {
          "base_uri": "https://localhost:8080/"
        },
        "id": "xSWn6eEerF5U",
        "outputId": "e3110c86-aef1-4914-9bdb-81ac662c11e5"
      },
      "outputs": [
        {
          "name": "stdout",
          "output_type": "stream",
          "text": [
            "word        dependency    parent      pos    children\n",
            "----------  ------------  ----------  -----  -----------------------\n",
            "Apple       nsubj         plănuiește  AUX    []\n",
            "plănuiește  ROOT          plănuiește  AUX    [Apple, cumpere]\n",
            "să          mark          cumpere     AUX    []\n",
            "cumpere     ccomp         plănuiește  AUX    [să, companie, miliard]\n",
            "o           det           companie    NOUN   []\n",
            "companie    obj           cumpere     AUX    [o, britanică]\n",
            "britanică   amod          companie    NOUN   []\n",
            "pentru      case          miliard     NUM    []\n",
            "un          det           miliard     NUM    []\n",
            "miliard     obl           cumpere     AUX    [pentru, un, dolari]\n",
            "de          case          dolari      NOUN   []\n",
            "dolari      nmod          miliard     NUM    [de]\n"
          ]
        }
      ],
      "source": [
        "# https://spacy.io/usage/linguistic-features\n",
        "\n",
        "dependency_features = []\n",
        "for token in doc:\n",
        "    dependency_features.append([token.text, token.dep_, token.head.text, token.head.pos_, [child for child in token.children]])\n",
        "print(tabulate(dependency_features, headers=[\"word\", \"dependency\", \"parent\", \"pos\", \"children\"]))"
      ]
    },
    {
      "cell_type": "markdown",
      "metadata": {
        "id": "6gMVabv2uFbl"
      },
      "source": [
        "## Lematizare folosind POS\n",
        "\n",
        "Am vazut in al doilea laborator cum putem folosi atat `nltk` cat si `spacy` pentru a extrage lemele (formele de dictionar) ale unor cuvinte.\n",
        "\n",
        "In general, lematizarea din `nltk` nu foloseste informatii despre partea de vorbire, pe cand in `spacy` in pipelineul de preprocesare sunt detectate partile de vorbire si folosite in lematizare. Putem insa sa ne folosim de POS si in cazul `nltk` astfel:"
      ]
    },
    {
      "cell_type": "code",
      "execution_count": null,
      "metadata": {
        "id": "HcvE-7SSuFbl"
      },
      "outputs": [],
      "source": [
        "import nltk\n",
        "nltk.download('wordnet')\n",
        "wl = nltk.WordNetLemmatizer()  # instantiem un lemmatizer"
      ]
    },
    {
      "cell_type": "code",
      "execution_count": null,
      "metadata": {
        "id": "izimRjUPuFbm",
        "outputId": "ec4868c8-5a00-4dd5-a1e9-ce12f3d48e7c"
      },
      "outputs": [
        {
          "name": "stdout",
          "output_type": "stream",
          "text": [
            "being\n",
            "being\n",
            "be\n"
          ]
        }
      ],
      "source": [
        "print(wl.lemmatize(\"being\"))\n",
        "print(wl.lemmatize(\"being\", pos=\"n\"))\n",
        "print(wl.lemmatize(\"being\", pos=\"v\"))"
      ]
    },
    {
      "cell_type": "code",
      "execution_count": null,
      "metadata": {
        "id": "2Z-DkPr5uFbm",
        "outputId": "d8eedf95-ae52-4190-fb1b-53dad02969b4"
      },
      "outputs": [
        {
          "name": "stdout",
          "output_type": "stream",
          "text": [
            "painted\n",
            "paint\n",
            "painted\n"
          ]
        }
      ],
      "source": [
        "print(wl.lemmatize(\"painted\"))\n",
        "print(wl.lemmatize(\"painted\", pos=\"v\"))\n",
        "print(wl.lemmatize(\"painted\", pos=\"a\"))"
      ]
    },
    {
      "cell_type": "markdown",
      "metadata": {
        "id": "LxD_aS7xuFbn"
      },
      "source": [
        "POS in `nltk` sunt:\n",
        "- `n` (noun/substantiv)\n",
        "- `v` (verb)\n",
        "- `a` (adjectiv)\n",
        "- `r` (adverb)."
      ]
    },
    {
      "cell_type": "markdown",
      "metadata": {
        "id": "Ym3miOtlbgmK"
      },
      "source": [
        "# Name Entity Recognition (NER)\n",
        "\n",
        "Un task important de recunoastere a numelor proprii din texte. Fiecare corpus din spacy are o lista de label-uri pe care le putem vizualiza prin apelul de mai jos. \n",
        "\n",
        "**ORG** - companii, agentii, etc. (mai frecvent in corpusul de engleza)  \n",
        "**GPE** - entitati geopolitice precum tari, orase, state, etc.\n",
        "\n"
      ]
    },
    {
      "cell_type": "code",
      "execution_count": null,
      "metadata": {
        "colab": {
          "base_uri": "https://localhost:8080/"
        },
        "id": "njj-ghn9ipxu",
        "outputId": "228c1aad-3ec8-49fa-f83c-72a8550f8d94"
      },
      "outputs": [
        {
          "data": {
            "text/plain": [
              "('DATETIME',\n",
              " 'EVENT',\n",
              " 'FACILITY',\n",
              " 'GPE',\n",
              " 'LANGUAGE',\n",
              " 'LOC',\n",
              " 'MONEY',\n",
              " 'NAT_REL_POL',\n",
              " 'NUMERIC_VALUE',\n",
              " 'ORDINAL',\n",
              " 'ORGANIZATION',\n",
              " 'PERIOD',\n",
              " 'PERSON',\n",
              " 'PRODUCT',\n",
              " 'QUANTITY',\n",
              " 'WORK_OF_ART')"
            ]
          },
          "execution_count": 20,
          "metadata": {},
          "output_type": "execute_result"
        }
      ],
      "source": [
        "nlp.get_pipe(\"ner\").labels"
      ]
    },
    {
      "cell_type": "markdown",
      "metadata": {
        "id": "t6gWU0KjjV8g"
      },
      "source": [
        "Mai jos putem vedea pipeline-ul aplicat pe o propozitie concreta in romana. Rezultatul este o lista de span-uri, fiecare span continand mai multe token-uri. Fiecare token are flag-ul IOB cu urmatoarea semnificatie:\n",
        "\n",
        "I – Token is inside an entity.  \n",
        "O – Token is outside an entity.  \n",
        "B – Token is the beginning of an entity.  "
      ]
    },
    {
      "cell_type": "code",
      "execution_count": null,
      "metadata": {
        "colab": {
          "base_uri": "https://localhost:8080/"
        },
        "id": "SwfraqZcbgyU",
        "outputId": "8a84e076-344f-4011-d7cf-d03e65a898a8"
      },
      "outputs": [
        {
          "name": "stdout",
          "output_type": "stream",
          "text": [
            "Londra este un oraș mare în Regatul Unit :\n",
            "\n",
            "word          position    label    token - IOB\n",
            "------------  ----------  -------  ---------------------\n",
            "Londra        (0, 6)      GPE      Londra - B\n",
            "Regatul Unit  (28, 40)    GPE      Regatul - B; Unit - I\n"
          ]
        }
      ],
      "source": [
        "print(sentences[2], \":\\n\")\n",
        "doc = nlp(sentences[2])\n",
        "entities = []\n",
        "for ent in doc.ents:\n",
        "    ent_description = []\n",
        "    for token in ent:\n",
        "        ent_description.append(f'{token.text} - {token.ent_iob_}')\n",
        "    \n",
        "    entities.append([ent.text, (ent.start_char, ent.end_char), ent.label_, '; '.join(ent_description)])\n",
        "print(tabulate(entities, headers=[\"word\", \"position\", \"label\", \"token - IOB\"]))"
      ]
    },
    {
      "cell_type": "markdown",
      "metadata": {
        "id": "m1A9llhfLyN2"
      },
      "source": [
        "In versiunea 2 de spacy, modelul NER este o retea convolutionala (laborator 4), pe cand in versiunea 3, avem de-a face cu un [transformer](https://arxiv.org/pdf/1706.03762.pdf).  "
      ]
    },
    {
      "cell_type": "code",
      "execution_count": null,
      "metadata": {
        "colab": {
          "base_uri": "https://localhost:8080/"
        },
        "id": "QJ3t6bMELxUT",
        "outputId": "ddc45efc-9875-4d34-b092-d4033ca8863d"
      },
      "outputs": [
        {
          "name": "stdout",
          "output_type": "stream",
          "text": [
            "Layer no 0:\n",
            "extract_features\n",
            "list2ragged\n",
            "with_array(ints-getitem\n",
            "hashembed|ints-getitem\n",
            "hashembed|ints-getitem\n",
            "hashembed|ints-getitem\n",
            "hashembed|ints-getitem\n",
            "hashembed)\n",
            "with_array(maxout\n",
            "layernorm\n",
            "dropout)\n",
            "ragged2list\n",
            "with_array(residual(expand_window\n",
            "maxout\n",
            "layernorm\n",
            "dropout)\n",
            "residual(expand_window\n",
            "maxout\n",
            "layernorm\n",
            "dropout)\n",
            "residual(expand_window\n",
            "maxout\n",
            "layernorm\n",
            "dropout)\n",
            "residual(expand_window\n",
            "maxout\n",
            "layernorm\n",
            "dropout))\n",
            "list2array\n",
            "linear|(64, ?)\n",
            "\n",
            "Layer no 1:\n",
            "precomputable_affine|(64, 64)\n",
            "\n",
            "Layer no 2:\n",
            "linear|(66, 64)\n",
            "\n"
          ]
        }
      ],
      "source": [
        "def get_label(layer):\n",
        "    layer_name = layer.name\n",
        "    nO = layer.get_dim(\"nO\") if layer.has_dim(\"nO\") else \"?\"\n",
        "    nI = layer.get_dim(\"nI\") if layer.has_dim(\"nI\") else \"?\"\n",
        "    return f\"{layer.name}|({nO}, {nI})\".replace('>>', '\\n')\n",
        "\n",
        "ner = nlp.get_pipe('ner')\n",
        "for i, ner_layer in enumerate(ner.model.layers):\n",
        "    print(f\"Layer no {i}:\")\n",
        "    print(get_label(ner_layer))\n",
        "    print()"
      ]
    },
    {
      "cell_type": "code",
      "execution_count": null,
      "metadata": {
        "colab": {
          "base_uri": "https://localhost:8080/"
        },
        "id": "KFp2fWhuTGRv",
        "outputId": "5dbc9170-7670-4646-e221-76488ef5fa7a"
      },
      "outputs": [
        {
          "name": "stdout",
          "output_type": "stream",
          "text": [
            "--2022-04-05 20:12:30--  https://raw.githubusercontent.com/dumitrescustefan/ronec/master/data/train.json\n",
            "Resolving raw.githubusercontent.com (raw.githubusercontent.com)... 185.199.109.133, 185.199.110.133, 185.199.111.133, ...\n",
            "Connecting to raw.githubusercontent.com (raw.githubusercontent.com)|185.199.109.133|:443... connected.\n",
            "HTTP request sent, awaiting response... 200 OK\n",
            "Length: 10753146 (10M) [text/plain]\n",
            "Saving to: ‘train.json’\n",
            "\n",
            "train.json          100%[===================>]  10.25M  25.8MB/s    in 0.4s    \n",
            "\n",
            "2022-04-05 20:12:31 (25.8 MB/s) - ‘train.json’ saved [10753146/10753146]\n",
            "\n"
          ]
        }
      ],
      "source": [
        "!wget https://raw.githubusercontent.com/dumitrescustefan/ronec/master/data/train.json"
      ]
    },
    {
      "cell_type": "code",
      "execution_count": null,
      "metadata": {
        "id": "dtmSt6BeTMqN"
      },
      "outputs": [],
      "source": [
        "import json\n",
        "\n",
        "with open('train.json', 'r') as fin:\n",
        "    ronec = json.load(fin)"
      ]
    },
    {
      "cell_type": "code",
      "execution_count": null,
      "metadata": {
        "id": "0g_KfxYAuFbq",
        "outputId": "40b77f96-6526-4180-8aa6-ea25b40af149"
      },
      "outputs": [
        {
          "name": "stdout",
          "output_type": "stream",
          "text": [
            "dict_keys(['id', 'ner_tags', 'ner_ids', 'tokens', 'space_after'])\n",
            "11865\n",
            "['Vechiul', 'oraș', 'Visoki', 'a', 'fost', 'un', 'faimos', 'castel', 'regal', 'medieval', 'în', 'timpul', 'secolului', 'al', 'XIV', '-lea', ',', 'situat', 'în', 'Visoko', ',', 'Bosnia', 'și', 'Herțegovina', '.']\n",
            "['O', 'O', 'B-GPE', 'O', 'O', 'O', 'O', 'O', 'O', 'O', 'O', 'O', 'B-DATETIME', 'I-DATETIME', 'I-DATETIME', 'I-DATETIME', 'O', 'O', 'O', 'B-GPE', 'O', 'B-GPE', 'I-GPE', 'I-GPE', 'O']\n",
            "[0, 0, 5, 0, 0, 0, 0, 0, 0, 0, 0, 0, 17, 18, 18, 18, 0, 0, 0, 5, 0, 5, 6, 6, 0]\n",
            "[True, True, True, True, True, True, True, True, True, True, True, True, True, True, False, False, True, True, True, True, True, True, True, False, False]\n"
          ]
        }
      ],
      "source": [
        "print(ronec[1].keys())\n",
        "print(ronec[1][\"id\"])\n",
        "print(ronec[1][\"tokens\"])\n",
        "print(ronec[1][\"ner_tags\"])\n",
        "print(ronec[1][\"ner_ids\"])\n",
        "print(ronec[1][\"space_after\"])"
      ]
    },
    {
      "cell_type": "code",
      "execution_count": null,
      "metadata": {
        "id": "iebDxq8wBBGe"
      },
      "outputs": [],
      "source": [
        "import re\n",
        "\n",
        "dataset_max_len = 100  # extragem doar primele 100 de exemple din ronec\n",
        "dataset = []\n",
        "for i, entry in enumerate(ronec):\n",
        "    if i > 100:\n",
        "        break\n",
        "\n",
        "    entities = []\n",
        "    full_text = ''\n",
        "    is_outside = True\n",
        "    for i, (token, ner_tag, is_space) in enumerate(zip(entry['tokens'], entry['ner_tags'], entry['space_after'])):\n",
        "        current_space = ' ' if is_space else ''\n",
        "\n",
        "        if ner_tag.startswith('B-'):\n",
        "            is_outside = False\n",
        "            entity = ''\n",
        "            entity_start = len(full_text)\n",
        "            entity_name = ner_tag.split('-')[-1]\n",
        "\n",
        "        elif ner_tag == 'O' and not is_outside:\n",
        "            is_outside = True\n",
        "            entity_end = len(full_text)\n",
        "            if entity[-1] == ' ':\n",
        "                entity_end -= 1\n",
        "                entity = entity[:-1]\n",
        "            # print(entity_start, entity_end, entity_name, entity)\n",
        "            entities.append((entity_start, entity_end, entity_name))\n",
        "\n",
        "        if not is_outside:\n",
        "           entity += token + current_space\n",
        "        full_text += token + current_space\n",
        "    \n",
        "    dataset.append((full_text, {\n",
        "        \"entities\": entities\n",
        "    }))\n"
      ]
    },
    {
      "cell_type": "code",
      "execution_count": null,
      "metadata": {
        "id": "UbL4s1S9uFbr",
        "outputId": "871d844d-0725-4688-ad16-de43551b61bd"
      },
      "outputs": [
        {
          "name": "stdout",
          "output_type": "stream",
          "text": [
            "('Vechiul oraș Visoki a fost un faimos castel regal medieval în timpul secolului al XIV-lea, situat în Visoko , Bosnia și Herțegovina.', {'entities': [(13, 19, 'GPE'), (69, 89, 'DATETIME'), (101, 107, 'GPE'), (110, 131, 'GPE')]})\n"
          ]
        }
      ],
      "source": [
        "print(dataset[1])"
      ]
    },
    {
      "cell_type": "code",
      "execution_count": null,
      "metadata": {
        "id": "3tRMc1XCjtN8"
      },
      "outputs": [],
      "source": [
        "from sklearn.model_selection import train_test_split\n",
        "import numpy as np\n",
        "\n",
        "train_dataset, test_dataset, _, _ = train_test_split(dataset, np.zeros(len(dataset)), test_size=0.1, random_state=101)"
      ]
    },
    {
      "cell_type": "markdown",
      "metadata": {
        "id": "ocS6Uvj9gXzY"
      },
      "source": [
        "Avand datele impartite pe antrenare si testare, pentru a antrena un nou model NER, avem nevoie de un alt NLP pipeline, caruia ii adaugam o componenta (pipe) de NER, dupa cum urmeaza:"
      ]
    },
    {
      "cell_type": "code",
      "execution_count": null,
      "metadata": {
        "id": "D54Q8iRVVdkP"
      },
      "outputs": [],
      "source": [
        "nlp = spacy.blank('ro')  \n",
        "\n",
        "if 'ner' not in nlp.pipe_names:\n",
        "    ner = nlp.add_pipe('ner', last=True)\n",
        "else:\n",
        "    ner = nlp.get_pipe('ner')"
      ]
    },
    {
      "cell_type": "markdown",
      "metadata": {
        "id": "1oDrqq8XgtJ7"
      },
      "source": [
        "Adaugam label-urile din dataset-ul nostru, respectand formatul initial."
      ]
    },
    {
      "cell_type": "code",
      "execution_count": null,
      "metadata": {
        "id": "dkgEqm-MgkdP"
      },
      "outputs": [],
      "source": [
        "for _, annotations in dataset:\n",
        "    for ent in annotations[\"entities\"]:\n",
        "        ner.add_label(ent[2])"
      ]
    },
    {
      "cell_type": "code",
      "execution_count": null,
      "metadata": {
        "colab": {
          "base_uri": "https://localhost:8080/"
        },
        "id": "-_j3VWhbgP4z",
        "outputId": "0835dc3b-213d-4d11-a3cc-d63b9c1082fe"
      },
      "outputs": [
        {
          "name": "stderr",
          "output_type": "stream",
          "text": [
            " 26%|█████████████                                      | 23/90 [00:00<00:00, 71.19it/s]/home/bogdan/work/FMI/lab_NLP_an3/.env/lib/python3.8/site-packages/spacy/training/iob_utils.py:141: UserWarning: [W030] Some entities could not be aligned in the text \"Dar și producătorul casetei audio intitulată 'Talk...\" with entities \"[(45, 78, 'WORK_OF_ART'), (80, 84, 'DATETIME'), (1...\". Use `spacy.training.offsets_to_biluo_tags(nlp.make_doc(text), entities)` to check the alignment. Misaligned entities ('-') will be ignored during training.\n",
            "  warnings.warn(\n",
            " 42%|█████████████████████▌                             | 38/90 [00:00<00:00, 55.25it/s]/home/bogdan/work/FMI/lab_NLP_an3/.env/lib/python3.8/site-packages/spacy/training/iob_utils.py:141: UserWarning: [W030] Some entities could not be aligned in the text \"Sparta a luat insula de la Argos la începutul seco...\" with entities \"[(0, 6, 'GPE'), (27, 32, 'GPE'), (36, 65, 'DATETIM...\". Use `spacy.training.offsets_to_biluo_tags(nlp.make_doc(text), entities)` to check the alignment. Misaligned entities ('-') will be ignored during training.\n",
            "  warnings.warn(\n",
            " 57%|████████████████████████████▉                      | 51/90 [00:00<00:00, 57.83it/s]/home/bogdan/work/FMI/lab_NLP_an3/.env/lib/python3.8/site-packages/spacy/training/iob_utils.py:141: UserWarning: [W030] Some entities could not be aligned in the text \"Prin sentința civilă nr.2232/08 nov.2006, pronunța...\" with entities \"[(24, 28, 'NUMERIC'), (29, 40, 'DATETIME'), (67, 7...\". Use `spacy.training.offsets_to_biluo_tags(nlp.make_doc(text), entities)` to check the alignment. Misaligned entities ('-') will be ignored during training.\n",
            "  warnings.warn(\n",
            " 72%|████████████████████████████████████▊              | 65/90 [00:01<00:00, 60.06it/s]/home/bogdan/work/FMI/lab_NLP_an3/.env/lib/python3.8/site-packages/spacy/training/iob_utils.py:141: UserWarning: [W030] Some entities could not be aligned in the text \"La data de 07 ianuarie a.c. polițiștii Biroului de...\" with entities \"[(28, 38, 'PERSON'), (74, 80, 'GPE'), (108, 117, '...\". Use `spacy.training.offsets_to_biluo_tags(nlp.make_doc(text), entities)` to check the alignment. Misaligned entities ('-') will be ignored during training.\n",
            "  warnings.warn(\n",
            "/home/bogdan/work/FMI/lab_NLP_an3/.env/lib/python3.8/site-packages/spacy/training/iob_utils.py:141: UserWarning: [W030] Some entities could not be aligned in the text \"Tot în anii 1840 Macaulay a început să scrie princ...\" with entities \"[(17, 25, 'PERSON'), (68, 195, 'WORK_OF_ART'), (21...\". Use `spacy.training.offsets_to_biluo_tags(nlp.make_doc(text), entities)` to check the alignment. Misaligned entities ('-') will be ignored during training.\n",
            "  warnings.warn(\n",
            "/home/bogdan/work/FMI/lab_NLP_an3/.env/lib/python3.8/site-packages/spacy/training/iob_utils.py:141: UserWarning: [W030] Some entities could not be aligned in the text \"Viața fraților și a surorilor din Ierusalim era at...\" with entities \"[(6, 14, 'PERSON'), (20, 29, 'PERSON'), (34, 43, '...\". Use `spacy.training.offsets_to_biluo_tags(nlp.make_doc(text), entities)` to check the alignment. Misaligned entities ('-') will be ignored during training.\n",
            "  warnings.warn(\n",
            " 80%|████████████████████████████████████████▊          | 72/90 [00:01<00:00, 56.54it/s]/home/bogdan/work/FMI/lab_NLP_an3/.env/lib/python3.8/site-packages/spacy/training/iob_utils.py:141: UserWarning: [W030] Some entities could not be aligned in the text \"În februarie 1992, Victor Catan a fost numit în fu...\" with entities \"[(3, 17, 'DATETIME'), (19, 31, 'PERSON'), (59, 75,...\". Use `spacy.training.offsets_to_biluo_tags(nlp.make_doc(text), entities)` to check the alignment. Misaligned entities ('-') will be ignored during training.\n",
            "  warnings.warn(\n",
            " 88%|████████████████████████████████████████████▊      | 79/90 [00:01<00:00, 57.32it/s]/home/bogdan/work/FMI/lab_NLP_an3/.env/lib/python3.8/site-packages/spacy/training/iob_utils.py:141: UserWarning: [W030] Some entities could not be aligned in the text \"Subforumuri: 2.0.x Instalare, actualizare, convers...\" with entities \"[(13, 14, 'NUMERIC'), (15, 16, 'NUMERIC'), (54, 55...\". Use `spacy.training.offsets_to_biluo_tags(nlp.make_doc(text), entities)` to check the alignment. Misaligned entities ('-') will be ignored during training.\n",
            "  warnings.warn(\n",
            "100%|███████████████████████████████████████████████████| 90/90 [00:01<00:00, 58.67it/s]\n"
          ]
        },
        {
          "name": "stdout",
          "output_type": "stream",
          "text": [
            "{'ner': 1181.5347758118269}\n"
          ]
        },
        {
          "name": "stderr",
          "output_type": "stream",
          "text": [
            "100%|███████████████████████████████████████████████████| 90/90 [00:01<00:00, 61.24it/s]\n"
          ]
        },
        {
          "name": "stdout",
          "output_type": "stream",
          "text": [
            "{'ner': 801.6053013760431}\n"
          ]
        },
        {
          "name": "stderr",
          "output_type": "stream",
          "text": [
            "100%|███████████████████████████████████████████████████| 90/90 [00:01<00:00, 62.70it/s]\n"
          ]
        },
        {
          "name": "stdout",
          "output_type": "stream",
          "text": [
            "{'ner': 827.9487372001727}\n"
          ]
        },
        {
          "name": "stderr",
          "output_type": "stream",
          "text": [
            "100%|███████████████████████████████████████████████████| 90/90 [00:01<00:00, 62.27it/s]\n"
          ]
        },
        {
          "name": "stdout",
          "output_type": "stream",
          "text": [
            "{'ner': 724.7852630879058}\n"
          ]
        },
        {
          "name": "stderr",
          "output_type": "stream",
          "text": [
            "100%|███████████████████████████████████████████████████| 90/90 [00:01<00:00, 62.50it/s]\n"
          ]
        },
        {
          "name": "stdout",
          "output_type": "stream",
          "text": [
            "{'ner': 734.9207974973478}\n"
          ]
        },
        {
          "name": "stderr",
          "output_type": "stream",
          "text": [
            "100%|███████████████████████████████████████████████████| 90/90 [00:01<00:00, 62.15it/s]\n"
          ]
        },
        {
          "name": "stdout",
          "output_type": "stream",
          "text": [
            "{'ner': 745.6657571937229}\n"
          ]
        },
        {
          "name": "stderr",
          "output_type": "stream",
          "text": [
            "100%|███████████████████████████████████████████████████| 90/90 [00:01<00:00, 62.93it/s]\n"
          ]
        },
        {
          "name": "stdout",
          "output_type": "stream",
          "text": [
            "{'ner': 727.510632396348}\n"
          ]
        },
        {
          "name": "stderr",
          "output_type": "stream",
          "text": [
            "100%|███████████████████████████████████████████████████| 90/90 [00:01<00:00, 61.59it/s]\n"
          ]
        },
        {
          "name": "stdout",
          "output_type": "stream",
          "text": [
            "{'ner': 501.3484495554456}\n"
          ]
        },
        {
          "name": "stderr",
          "output_type": "stream",
          "text": [
            "100%|███████████████████████████████████████████████████| 90/90 [00:01<00:00, 63.69it/s]\n"
          ]
        },
        {
          "name": "stdout",
          "output_type": "stream",
          "text": [
            "{'ner': 618.776870817176}\n"
          ]
        },
        {
          "name": "stderr",
          "output_type": "stream",
          "text": [
            "100%|███████████████████████████████████████████████████| 90/90 [00:01<00:00, 63.67it/s]\n"
          ]
        },
        {
          "name": "stdout",
          "output_type": "stream",
          "text": [
            "{'ner': 504.23634119202944}\n"
          ]
        },
        {
          "name": "stderr",
          "output_type": "stream",
          "text": [
            "100%|███████████████████████████████████████████████████| 90/90 [00:01<00:00, 62.02it/s]\n"
          ]
        },
        {
          "name": "stdout",
          "output_type": "stream",
          "text": [
            "{'ner': 419.16528772699456}\n"
          ]
        },
        {
          "name": "stderr",
          "output_type": "stream",
          "text": [
            "100%|███████████████████████████████████████████████████| 90/90 [00:01<00:00, 61.67it/s]\n"
          ]
        },
        {
          "name": "stdout",
          "output_type": "stream",
          "text": [
            "{'ner': 396.8310835501449}\n"
          ]
        },
        {
          "name": "stderr",
          "output_type": "stream",
          "text": [
            "100%|███████████████████████████████████████████████████| 90/90 [00:01<00:00, 62.44it/s]\n"
          ]
        },
        {
          "name": "stdout",
          "output_type": "stream",
          "text": [
            "{'ner': 391.1803052886366}\n"
          ]
        },
        {
          "name": "stderr",
          "output_type": "stream",
          "text": [
            "100%|███████████████████████████████████████████████████| 90/90 [00:01<00:00, 63.38it/s]\n"
          ]
        },
        {
          "name": "stdout",
          "output_type": "stream",
          "text": [
            "{'ner': 400.5588174510841}\n"
          ]
        },
        {
          "name": "stderr",
          "output_type": "stream",
          "text": [
            "100%|███████████████████████████████████████████████████| 90/90 [00:01<00:00, 64.18it/s]\n"
          ]
        },
        {
          "name": "stdout",
          "output_type": "stream",
          "text": [
            "{'ner': 342.0960858106352}\n"
          ]
        },
        {
          "name": "stderr",
          "output_type": "stream",
          "text": [
            "100%|███████████████████████████████████████████████████| 90/90 [00:01<00:00, 63.54it/s]\n"
          ]
        },
        {
          "name": "stdout",
          "output_type": "stream",
          "text": [
            "{'ner': 347.43202612341497}\n"
          ]
        },
        {
          "name": "stderr",
          "output_type": "stream",
          "text": [
            "100%|███████████████████████████████████████████████████| 90/90 [00:01<00:00, 63.79it/s]\n"
          ]
        },
        {
          "name": "stdout",
          "output_type": "stream",
          "text": [
            "{'ner': 293.18082599317006}\n"
          ]
        },
        {
          "name": "stderr",
          "output_type": "stream",
          "text": [
            "100%|███████████████████████████████████████████████████| 90/90 [00:01<00:00, 63.11it/s]\n"
          ]
        },
        {
          "name": "stdout",
          "output_type": "stream",
          "text": [
            "{'ner': 286.9998064409175}\n"
          ]
        },
        {
          "name": "stderr",
          "output_type": "stream",
          "text": [
            "100%|███████████████████████████████████████████████████| 90/90 [00:01<00:00, 62.45it/s]\n"
          ]
        },
        {
          "name": "stdout",
          "output_type": "stream",
          "text": [
            "{'ner': 301.4885316039523}\n"
          ]
        },
        {
          "name": "stderr",
          "output_type": "stream",
          "text": [
            "100%|███████████████████████████████████████████████████| 90/90 [00:01<00:00, 62.85it/s]\n"
          ]
        },
        {
          "name": "stdout",
          "output_type": "stream",
          "text": [
            "{'ner': 274.89674339921777}\n"
          ]
        },
        {
          "name": "stderr",
          "output_type": "stream",
          "text": [
            "100%|███████████████████████████████████████████████████| 90/90 [00:01<00:00, 62.57it/s]\n"
          ]
        },
        {
          "name": "stdout",
          "output_type": "stream",
          "text": [
            "{'ner': 240.23716597573883}\n"
          ]
        },
        {
          "name": "stderr",
          "output_type": "stream",
          "text": [
            "100%|███████████████████████████████████████████████████| 90/90 [00:01<00:00, 63.02it/s]\n"
          ]
        },
        {
          "name": "stdout",
          "output_type": "stream",
          "text": [
            "{'ner': 195.60544522869756}\n"
          ]
        },
        {
          "name": "stderr",
          "output_type": "stream",
          "text": [
            "100%|███████████████████████████████████████████████████| 90/90 [00:01<00:00, 62.22it/s]\n"
          ]
        },
        {
          "name": "stdout",
          "output_type": "stream",
          "text": [
            "{'ner': 201.49745555703763}\n"
          ]
        },
        {
          "name": "stderr",
          "output_type": "stream",
          "text": [
            "100%|███████████████████████████████████████████████████| 90/90 [00:01<00:00, 62.03it/s]\n"
          ]
        },
        {
          "name": "stdout",
          "output_type": "stream",
          "text": [
            "{'ner': 224.75290934288023}\n"
          ]
        },
        {
          "name": "stderr",
          "output_type": "stream",
          "text": [
            "100%|███████████████████████████████████████████████████| 90/90 [00:01<00:00, 63.75it/s]\n"
          ]
        },
        {
          "name": "stdout",
          "output_type": "stream",
          "text": [
            "{'ner': 202.53693447975058}\n"
          ]
        },
        {
          "name": "stderr",
          "output_type": "stream",
          "text": [
            "100%|███████████████████████████████████████████████████| 90/90 [00:01<00:00, 63.73it/s]\n"
          ]
        },
        {
          "name": "stdout",
          "output_type": "stream",
          "text": [
            "{'ner': 189.14154204241584}\n"
          ]
        },
        {
          "name": "stderr",
          "output_type": "stream",
          "text": [
            "100%|███████████████████████████████████████████████████| 90/90 [00:01<00:00, 63.07it/s]\n"
          ]
        },
        {
          "name": "stdout",
          "output_type": "stream",
          "text": [
            "{'ner': 142.85049876747675}\n"
          ]
        },
        {
          "name": "stderr",
          "output_type": "stream",
          "text": [
            "100%|███████████████████████████████████████████████████| 90/90 [00:01<00:00, 62.76it/s]\n"
          ]
        },
        {
          "name": "stdout",
          "output_type": "stream",
          "text": [
            "{'ner': 141.2617251973223}\n"
          ]
        },
        {
          "name": "stderr",
          "output_type": "stream",
          "text": [
            "100%|███████████████████████████████████████████████████| 90/90 [00:01<00:00, 63.13it/s]\n"
          ]
        },
        {
          "name": "stdout",
          "output_type": "stream",
          "text": [
            "{'ner': 152.37925487303232}\n"
          ]
        },
        {
          "name": "stderr",
          "output_type": "stream",
          "text": [
            "100%|███████████████████████████████████████████████████| 90/90 [00:01<00:00, 62.41it/s]\n"
          ]
        },
        {
          "name": "stdout",
          "output_type": "stream",
          "text": [
            "{'ner': 132.03920782645545}\n"
          ]
        },
        {
          "name": "stderr",
          "output_type": "stream",
          "text": [
            "100%|███████████████████████████████████████████████████| 90/90 [00:01<00:00, 63.19it/s]\n"
          ]
        },
        {
          "name": "stdout",
          "output_type": "stream",
          "text": [
            "{'ner': 122.7727619228253}\n"
          ]
        },
        {
          "name": "stderr",
          "output_type": "stream",
          "text": [
            "100%|███████████████████████████████████████████████████| 90/90 [00:01<00:00, 63.45it/s]\n"
          ]
        },
        {
          "name": "stdout",
          "output_type": "stream",
          "text": [
            "{'ner': 156.41209384458617}\n"
          ]
        },
        {
          "name": "stderr",
          "output_type": "stream",
          "text": [
            "100%|███████████████████████████████████████████████████| 90/90 [00:01<00:00, 63.49it/s]\n"
          ]
        },
        {
          "name": "stdout",
          "output_type": "stream",
          "text": [
            "{'ner': 183.06184446237165}\n"
          ]
        },
        {
          "name": "stderr",
          "output_type": "stream",
          "text": [
            "100%|███████████████████████████████████████████████████| 90/90 [00:01<00:00, 63.88it/s]\n"
          ]
        },
        {
          "name": "stdout",
          "output_type": "stream",
          "text": [
            "{'ner': 153.12177360984683}\n"
          ]
        },
        {
          "name": "stderr",
          "output_type": "stream",
          "text": [
            "100%|███████████████████████████████████████████████████| 90/90 [00:01<00:00, 63.10it/s]\n"
          ]
        },
        {
          "name": "stdout",
          "output_type": "stream",
          "text": [
            "{'ner': 153.54811442980312}\n"
          ]
        },
        {
          "name": "stderr",
          "output_type": "stream",
          "text": [
            "100%|███████████████████████████████████████████████████| 90/90 [00:01<00:00, 62.18it/s]\n"
          ]
        },
        {
          "name": "stdout",
          "output_type": "stream",
          "text": [
            "{'ner': 108.50568759952498}\n"
          ]
        },
        {
          "name": "stderr",
          "output_type": "stream",
          "text": [
            "100%|███████████████████████████████████████████████████| 90/90 [00:01<00:00, 60.12it/s]\n"
          ]
        },
        {
          "name": "stdout",
          "output_type": "stream",
          "text": [
            "{'ner': 105.43449417853934}\n"
          ]
        },
        {
          "name": "stderr",
          "output_type": "stream",
          "text": [
            "100%|███████████████████████████████████████████████████| 90/90 [00:01<00:00, 57.31it/s]\n"
          ]
        },
        {
          "name": "stdout",
          "output_type": "stream",
          "text": [
            "{'ner': 92.33426662924383}\n"
          ]
        },
        {
          "name": "stderr",
          "output_type": "stream",
          "text": [
            "100%|███████████████████████████████████████████████████| 90/90 [00:01<00:00, 61.03it/s]\n"
          ]
        },
        {
          "name": "stdout",
          "output_type": "stream",
          "text": [
            "{'ner': 106.01666895729988}\n"
          ]
        },
        {
          "name": "stderr",
          "output_type": "stream",
          "text": [
            "100%|███████████████████████████████████████████████████| 90/90 [00:01<00:00, 61.21it/s]\n"
          ]
        },
        {
          "name": "stdout",
          "output_type": "stream",
          "text": [
            "{'ner': 84.00702390839501}\n"
          ]
        },
        {
          "name": "stderr",
          "output_type": "stream",
          "text": [
            "100%|███████████████████████████████████████████████████| 90/90 [00:01<00:00, 60.49it/s]\n"
          ]
        },
        {
          "name": "stdout",
          "output_type": "stream",
          "text": [
            "{'ner': 74.2922000296841}\n"
          ]
        },
        {
          "name": "stderr",
          "output_type": "stream",
          "text": [
            "100%|███████████████████████████████████████████████████| 90/90 [00:01<00:00, 59.14it/s]\n"
          ]
        },
        {
          "name": "stdout",
          "output_type": "stream",
          "text": [
            "{'ner': 76.1999517931766}\n"
          ]
        },
        {
          "name": "stderr",
          "output_type": "stream",
          "text": [
            "100%|███████████████████████████████████████████████████| 90/90 [00:01<00:00, 60.87it/s]\n"
          ]
        },
        {
          "name": "stdout",
          "output_type": "stream",
          "text": [
            "{'ner': 66.56998837326121}\n"
          ]
        },
        {
          "name": "stderr",
          "output_type": "stream",
          "text": [
            "100%|███████████████████████████████████████████████████| 90/90 [00:01<00:00, 56.95it/s]\n"
          ]
        },
        {
          "name": "stdout",
          "output_type": "stream",
          "text": [
            "{'ner': 77.05772172426282}\n"
          ]
        },
        {
          "name": "stderr",
          "output_type": "stream",
          "text": [
            "100%|███████████████████████████████████████████████████| 90/90 [00:01<00:00, 63.17it/s]\n"
          ]
        },
        {
          "name": "stdout",
          "output_type": "stream",
          "text": [
            "{'ner': 76.87117603349651}\n"
          ]
        },
        {
          "name": "stderr",
          "output_type": "stream",
          "text": [
            "100%|███████████████████████████████████████████████████| 90/90 [00:01<00:00, 63.65it/s]\n"
          ]
        },
        {
          "name": "stdout",
          "output_type": "stream",
          "text": [
            "{'ner': 72.55367233416352}\n"
          ]
        },
        {
          "name": "stderr",
          "output_type": "stream",
          "text": [
            "100%|███████████████████████████████████████████████████| 90/90 [00:01<00:00, 62.83it/s]\n"
          ]
        },
        {
          "name": "stdout",
          "output_type": "stream",
          "text": [
            "{'ner': 67.49736627370321}\n"
          ]
        },
        {
          "name": "stderr",
          "output_type": "stream",
          "text": [
            "100%|███████████████████████████████████████████████████| 90/90 [00:01<00:00, 63.86it/s]\n"
          ]
        },
        {
          "name": "stdout",
          "output_type": "stream",
          "text": [
            "{'ner': 75.37810258561656}\n"
          ]
        },
        {
          "name": "stderr",
          "output_type": "stream",
          "text": [
            "100%|███████████████████████████████████████████████████| 90/90 [00:01<00:00, 62.82it/s]\n"
          ]
        },
        {
          "name": "stdout",
          "output_type": "stream",
          "text": [
            "{'ner': 105.86599545038706}\n"
          ]
        },
        {
          "name": "stderr",
          "output_type": "stream",
          "text": [
            "100%|███████████████████████████████████████████████████| 90/90 [00:01<00:00, 62.43it/s]\n"
          ]
        },
        {
          "name": "stdout",
          "output_type": "stream",
          "text": [
            "{'ner': 68.54612415184137}\n"
          ]
        },
        {
          "name": "stderr",
          "output_type": "stream",
          "text": [
            "100%|███████████████████████████████████████████████████| 90/90 [00:01<00:00, 63.86it/s]\n"
          ]
        },
        {
          "name": "stdout",
          "output_type": "stream",
          "text": [
            "{'ner': 70.84073540672891}\n"
          ]
        },
        {
          "name": "stderr",
          "output_type": "stream",
          "text": [
            "100%|███████████████████████████████████████████████████| 90/90 [00:01<00:00, 63.10it/s]\n"
          ]
        },
        {
          "name": "stdout",
          "output_type": "stream",
          "text": [
            "{'ner': 80.18472439039452}\n"
          ]
        },
        {
          "name": "stderr",
          "output_type": "stream",
          "text": [
            "100%|███████████████████████████████████████████████████| 90/90 [00:01<00:00, 62.78it/s]\n"
          ]
        },
        {
          "name": "stdout",
          "output_type": "stream",
          "text": [
            "{'ner': 96.53567907046803}\n"
          ]
        },
        {
          "name": "stderr",
          "output_type": "stream",
          "text": [
            "100%|███████████████████████████████████████████████████| 90/90 [00:01<00:00, 62.96it/s]\n"
          ]
        },
        {
          "name": "stdout",
          "output_type": "stream",
          "text": [
            "{'ner': 76.83972856253392}\n"
          ]
        },
        {
          "name": "stderr",
          "output_type": "stream",
          "text": [
            "100%|███████████████████████████████████████████████████| 90/90 [00:01<00:00, 62.98it/s]\n"
          ]
        },
        {
          "name": "stdout",
          "output_type": "stream",
          "text": [
            "{'ner': 73.79412026177279}\n"
          ]
        },
        {
          "name": "stderr",
          "output_type": "stream",
          "text": [
            "100%|███████████████████████████████████████████████████| 90/90 [00:01<00:00, 62.20it/s]\n"
          ]
        },
        {
          "name": "stdout",
          "output_type": "stream",
          "text": [
            "{'ner': 81.44974892797981}\n"
          ]
        },
        {
          "name": "stderr",
          "output_type": "stream",
          "text": [
            "100%|███████████████████████████████████████████████████| 90/90 [00:01<00:00, 63.61it/s]\n"
          ]
        },
        {
          "name": "stdout",
          "output_type": "stream",
          "text": [
            "{'ner': 81.77177152512445}\n"
          ]
        },
        {
          "name": "stderr",
          "output_type": "stream",
          "text": [
            "100%|███████████████████████████████████████████████████| 90/90 [00:01<00:00, 63.27it/s]\n"
          ]
        },
        {
          "name": "stdout",
          "output_type": "stream",
          "text": [
            "{'ner': 62.93733507466653}\n"
          ]
        },
        {
          "name": "stderr",
          "output_type": "stream",
          "text": [
            "100%|███████████████████████████████████████████████████| 90/90 [00:01<00:00, 61.94it/s]\n"
          ]
        },
        {
          "name": "stdout",
          "output_type": "stream",
          "text": [
            "{'ner': 55.87780243535637}\n"
          ]
        },
        {
          "name": "stderr",
          "output_type": "stream",
          "text": [
            "100%|███████████████████████████████████████████████████| 90/90 [00:01<00:00, 63.89it/s]\n"
          ]
        },
        {
          "name": "stdout",
          "output_type": "stream",
          "text": [
            "{'ner': 66.83137951845814}\n"
          ]
        },
        {
          "name": "stderr",
          "output_type": "stream",
          "text": [
            "100%|███████████████████████████████████████████████████| 90/90 [00:01<00:00, 62.67it/s]\n"
          ]
        },
        {
          "name": "stdout",
          "output_type": "stream",
          "text": [
            "{'ner': 64.77816325641791}\n"
          ]
        },
        {
          "name": "stderr",
          "output_type": "stream",
          "text": [
            "100%|███████████████████████████████████████████████████| 90/90 [00:01<00:00, 63.65it/s]\n"
          ]
        },
        {
          "name": "stdout",
          "output_type": "stream",
          "text": [
            "{'ner': 53.25215070614866}\n"
          ]
        },
        {
          "name": "stderr",
          "output_type": "stream",
          "text": [
            "100%|███████████████████████████████████████████████████| 90/90 [00:01<00:00, 64.13it/s]\n"
          ]
        },
        {
          "name": "stdout",
          "output_type": "stream",
          "text": [
            "{'ner': 64.83613903623694}\n"
          ]
        },
        {
          "name": "stderr",
          "output_type": "stream",
          "text": [
            "100%|███████████████████████████████████████████████████| 90/90 [00:01<00:00, 64.46it/s]\n"
          ]
        },
        {
          "name": "stdout",
          "output_type": "stream",
          "text": [
            "{'ner': 56.99346606405137}\n"
          ]
        },
        {
          "name": "stderr",
          "output_type": "stream",
          "text": [
            "100%|███████████████████████████████████████████████████| 90/90 [00:01<00:00, 64.07it/s]\n"
          ]
        },
        {
          "name": "stdout",
          "output_type": "stream",
          "text": [
            "{'ner': 62.91228973726719}\n"
          ]
        },
        {
          "name": "stderr",
          "output_type": "stream",
          "text": [
            "100%|███████████████████████████████████████████████████| 90/90 [00:01<00:00, 64.11it/s]\n"
          ]
        },
        {
          "name": "stdout",
          "output_type": "stream",
          "text": [
            "{'ner': 48.43098778749137}\n"
          ]
        },
        {
          "name": "stderr",
          "output_type": "stream",
          "text": [
            "100%|███████████████████████████████████████████████████| 90/90 [00:01<00:00, 63.24it/s]\n"
          ]
        },
        {
          "name": "stdout",
          "output_type": "stream",
          "text": [
            "{'ner': 53.92095942479005}\n"
          ]
        },
        {
          "name": "stderr",
          "output_type": "stream",
          "text": [
            "100%|███████████████████████████████████████████████████| 90/90 [00:01<00:00, 63.33it/s]\n"
          ]
        },
        {
          "name": "stdout",
          "output_type": "stream",
          "text": [
            "{'ner': 53.78357638933406}\n"
          ]
        },
        {
          "name": "stderr",
          "output_type": "stream",
          "text": [
            "100%|███████████████████████████████████████████████████| 90/90 [00:01<00:00, 64.55it/s]\n"
          ]
        },
        {
          "name": "stdout",
          "output_type": "stream",
          "text": [
            "{'ner': 53.33410437385484}\n"
          ]
        },
        {
          "name": "stderr",
          "output_type": "stream",
          "text": [
            "100%|███████████████████████████████████████████████████| 90/90 [00:01<00:00, 64.08it/s]\n"
          ]
        },
        {
          "name": "stdout",
          "output_type": "stream",
          "text": [
            "{'ner': 27.965377572618877}\n"
          ]
        },
        {
          "name": "stderr",
          "output_type": "stream",
          "text": [
            "100%|███████████████████████████████████████████████████| 90/90 [00:01<00:00, 64.15it/s]\n"
          ]
        },
        {
          "name": "stdout",
          "output_type": "stream",
          "text": [
            "{'ner': 50.49896344697977}\n"
          ]
        },
        {
          "name": "stderr",
          "output_type": "stream",
          "text": [
            "100%|███████████████████████████████████████████████████| 90/90 [00:01<00:00, 63.44it/s]\n"
          ]
        },
        {
          "name": "stdout",
          "output_type": "stream",
          "text": [
            "{'ner': 45.360862939878615}\n"
          ]
        },
        {
          "name": "stderr",
          "output_type": "stream",
          "text": [
            "100%|███████████████████████████████████████████████████| 90/90 [00:01<00:00, 63.90it/s]\n"
          ]
        },
        {
          "name": "stdout",
          "output_type": "stream",
          "text": [
            "{'ner': 52.893893634961195}\n"
          ]
        },
        {
          "name": "stderr",
          "output_type": "stream",
          "text": [
            "100%|███████████████████████████████████████████████████| 90/90 [00:01<00:00, 64.33it/s]\n"
          ]
        },
        {
          "name": "stdout",
          "output_type": "stream",
          "text": [
            "{'ner': 61.37513790151618}\n"
          ]
        },
        {
          "name": "stderr",
          "output_type": "stream",
          "text": [
            "100%|███████████████████████████████████████████████████| 90/90 [00:01<00:00, 64.70it/s]\n"
          ]
        },
        {
          "name": "stdout",
          "output_type": "stream",
          "text": [
            "{'ner': 30.403984998164933}\n"
          ]
        },
        {
          "name": "stderr",
          "output_type": "stream",
          "text": [
            "100%|███████████████████████████████████████████████████| 90/90 [00:01<00:00, 64.01it/s]\n"
          ]
        },
        {
          "name": "stdout",
          "output_type": "stream",
          "text": [
            "{'ner': 57.978412794466166}\n"
          ]
        },
        {
          "name": "stderr",
          "output_type": "stream",
          "text": [
            "100%|███████████████████████████████████████████████████| 90/90 [00:01<00:00, 64.37it/s]\n"
          ]
        },
        {
          "name": "stdout",
          "output_type": "stream",
          "text": [
            "{'ner': 46.369200881140564}\n"
          ]
        },
        {
          "name": "stderr",
          "output_type": "stream",
          "text": [
            "100%|███████████████████████████████████████████████████| 90/90 [00:01<00:00, 63.77it/s]\n"
          ]
        },
        {
          "name": "stdout",
          "output_type": "stream",
          "text": [
            "{'ner': 32.36672101192212}\n"
          ]
        },
        {
          "name": "stderr",
          "output_type": "stream",
          "text": [
            "100%|███████████████████████████████████████████████████| 90/90 [00:01<00:00, 64.15it/s]\n"
          ]
        },
        {
          "name": "stdout",
          "output_type": "stream",
          "text": [
            "{'ner': 41.520454536109845}\n"
          ]
        },
        {
          "name": "stderr",
          "output_type": "stream",
          "text": [
            "100%|███████████████████████████████████████████████████| 90/90 [00:01<00:00, 63.72it/s]\n"
          ]
        },
        {
          "name": "stdout",
          "output_type": "stream",
          "text": [
            "{'ner': 58.96077919762851}\n"
          ]
        },
        {
          "name": "stderr",
          "output_type": "stream",
          "text": [
            "100%|███████████████████████████████████████████████████| 90/90 [00:01<00:00, 63.95it/s]\n"
          ]
        },
        {
          "name": "stdout",
          "output_type": "stream",
          "text": [
            "{'ner': 22.993251764662805}\n"
          ]
        },
        {
          "name": "stderr",
          "output_type": "stream",
          "text": [
            "100%|███████████████████████████████████████████████████| 90/90 [00:01<00:00, 63.29it/s]\n"
          ]
        },
        {
          "name": "stdout",
          "output_type": "stream",
          "text": [
            "{'ner': 42.433457325507305}\n"
          ]
        },
        {
          "name": "stderr",
          "output_type": "stream",
          "text": [
            "100%|███████████████████████████████████████████████████| 90/90 [00:01<00:00, 61.02it/s]\n"
          ]
        },
        {
          "name": "stdout",
          "output_type": "stream",
          "text": [
            "{'ner': 36.94998522861205}\n"
          ]
        },
        {
          "name": "stderr",
          "output_type": "stream",
          "text": [
            "100%|███████████████████████████████████████████████████| 90/90 [00:01<00:00, 63.17it/s]\n"
          ]
        },
        {
          "name": "stdout",
          "output_type": "stream",
          "text": [
            "{'ner': 56.406846054066875}\n"
          ]
        },
        {
          "name": "stderr",
          "output_type": "stream",
          "text": [
            "100%|███████████████████████████████████████████████████| 90/90 [00:01<00:00, 62.50it/s]\n"
          ]
        },
        {
          "name": "stdout",
          "output_type": "stream",
          "text": [
            "{'ner': 51.772723932251445}\n"
          ]
        },
        {
          "name": "stderr",
          "output_type": "stream",
          "text": [
            "100%|███████████████████████████████████████████████████| 90/90 [00:01<00:00, 64.06it/s]\n"
          ]
        },
        {
          "name": "stdout",
          "output_type": "stream",
          "text": [
            "{'ner': 41.17474803123007}\n"
          ]
        },
        {
          "name": "stderr",
          "output_type": "stream",
          "text": [
            "100%|███████████████████████████████████████████████████| 90/90 [00:01<00:00, 63.75it/s]\n"
          ]
        },
        {
          "name": "stdout",
          "output_type": "stream",
          "text": [
            "{'ner': 48.30316647774861}\n"
          ]
        },
        {
          "name": "stderr",
          "output_type": "stream",
          "text": [
            "100%|███████████████████████████████████████████████████| 90/90 [00:01<00:00, 62.05it/s]\n"
          ]
        },
        {
          "name": "stdout",
          "output_type": "stream",
          "text": [
            "{'ner': 34.82661272345691}\n"
          ]
        },
        {
          "name": "stderr",
          "output_type": "stream",
          "text": [
            "100%|███████████████████████████████████████████████████| 90/90 [00:01<00:00, 60.84it/s]\n"
          ]
        },
        {
          "name": "stdout",
          "output_type": "stream",
          "text": [
            "{'ner': 84.87336883686277}\n"
          ]
        },
        {
          "name": "stderr",
          "output_type": "stream",
          "text": [
            "100%|███████████████████████████████████████████████████| 90/90 [00:01<00:00, 62.65it/s]\n"
          ]
        },
        {
          "name": "stdout",
          "output_type": "stream",
          "text": [
            "{'ner': 43.785750652324126}\n"
          ]
        },
        {
          "name": "stderr",
          "output_type": "stream",
          "text": [
            "100%|███████████████████████████████████████████████████| 90/90 [00:01<00:00, 63.43it/s]\n"
          ]
        },
        {
          "name": "stdout",
          "output_type": "stream",
          "text": [
            "{'ner': 50.80098165140859}\n"
          ]
        },
        {
          "name": "stderr",
          "output_type": "stream",
          "text": [
            "100%|███████████████████████████████████████████████████| 90/90 [00:01<00:00, 62.68it/s]\n"
          ]
        },
        {
          "name": "stdout",
          "output_type": "stream",
          "text": [
            "{'ner': 50.931266070656626}\n"
          ]
        },
        {
          "name": "stderr",
          "output_type": "stream",
          "text": [
            "100%|███████████████████████████████████████████████████| 90/90 [00:01<00:00, 62.24it/s]\n"
          ]
        },
        {
          "name": "stdout",
          "output_type": "stream",
          "text": [
            "{'ner': 34.06663294204342}\n"
          ]
        },
        {
          "name": "stderr",
          "output_type": "stream",
          "text": [
            "100%|███████████████████████████████████████████████████| 90/90 [00:01<00:00, 61.17it/s]\n"
          ]
        },
        {
          "name": "stdout",
          "output_type": "stream",
          "text": [
            "{'ner': 36.80476850701165}\n"
          ]
        },
        {
          "name": "stderr",
          "output_type": "stream",
          "text": [
            "100%|███████████████████████████████████████████████████| 90/90 [00:01<00:00, 61.73it/s]\n"
          ]
        },
        {
          "name": "stdout",
          "output_type": "stream",
          "text": [
            "{'ner': 36.61800770927272}\n"
          ]
        },
        {
          "name": "stderr",
          "output_type": "stream",
          "text": [
            "100%|███████████████████████████████████████████████████| 90/90 [00:01<00:00, 61.78it/s]\n"
          ]
        },
        {
          "name": "stdout",
          "output_type": "stream",
          "text": [
            "{'ner': 41.105597474121325}\n"
          ]
        },
        {
          "name": "stderr",
          "output_type": "stream",
          "text": [
            "100%|███████████████████████████████████████████████████| 90/90 [00:01<00:00, 61.15it/s]\n"
          ]
        },
        {
          "name": "stdout",
          "output_type": "stream",
          "text": [
            "{'ner': 33.31380892522762}\n"
          ]
        },
        {
          "name": "stderr",
          "output_type": "stream",
          "text": [
            "100%|███████████████████████████████████████████████████| 90/90 [00:01<00:00, 61.73it/s]\n"
          ]
        },
        {
          "name": "stdout",
          "output_type": "stream",
          "text": [
            "{'ner': 44.73341953390249}\n"
          ]
        },
        {
          "name": "stderr",
          "output_type": "stream",
          "text": [
            "100%|███████████████████████████████████████████████████| 90/90 [00:01<00:00, 61.75it/s]\n"
          ]
        },
        {
          "name": "stdout",
          "output_type": "stream",
          "text": [
            "{'ner': 41.845683411937436}\n"
          ]
        },
        {
          "name": "stderr",
          "output_type": "stream",
          "text": [
            "100%|███████████████████████████████████████████████████| 90/90 [00:01<00:00, 61.02it/s]"
          ]
        },
        {
          "name": "stdout",
          "output_type": "stream",
          "text": [
            "{'ner': 29.4656435611218}\n"
          ]
        },
        {
          "name": "stderr",
          "output_type": "stream",
          "text": [
            "\n"
          ]
        }
      ],
      "source": [
        "import random\n",
        "from tqdm import tqdm\n",
        "from spacy.training.example import Example\n",
        "n_epochs = 100\n",
        "\n",
        "other_pipes = [pipe for pipe in nlp.pipe_names if pipe != 'ner']\n",
        "with nlp.disable_pipes(*other_pipes):  # Antrenam doar NER-ul     \n",
        "    optimizer = nlp.begin_training()\n",
        "    for epoch in range(n_epochs):\n",
        "        random.shuffle(train_dataset)\n",
        "        losses = {}\n",
        "        for text, annotations in tqdm(train_dataset):\n",
        "            doc = nlp.make_doc(text)\n",
        "            example = Example.from_dict(doc, annotations)\n",
        "            nlp.update(\n",
        "                [example],  \n",
        "                drop=0.35,  \n",
        "                sgd=optimizer,\n",
        "                losses=losses\n",
        "            )\n",
        "        print(losses)"
      ]
    },
    {
      "cell_type": "markdown",
      "metadata": {
        "id": "nR-HWIo2-BZY"
      },
      "source": [
        "Salvam modelul intr-un folder prestabilit, apoi il testam folosind un scorrer din spacyv3. Daca vreti sa folositi spacy2, se procedeaza altfel, precum am citit [aici](https://stackoverflow.com/questions/44827930/evaluation-in-a-spacy-ner-model)."
      ]
    },
    {
      "cell_type": "code",
      "execution_count": null,
      "metadata": {
        "id": "sxHQgO5KjkuF"
      },
      "outputs": [],
      "source": [
        "model_folder = 'trained_ner'\n",
        "if not os.path.exists(model_folder):\n",
        "    os.makedirs(model_folder)\n",
        "nlp.to_disk(model_folder)"
      ]
    },
    {
      "cell_type": "code",
      "execution_count": null,
      "metadata": {
        "colab": {
          "base_uri": "https://localhost:8080/"
        },
        "id": "iKhD9aegiwpR",
        "outputId": "5def2297-2f4e-440b-99cb-f4df6903a399"
      },
      "outputs": [
        {
          "name": "stdout",
          "output_type": "stream",
          "text": [
            "Modelul s-a terminat cu F1 = 0.47457627118644063, precizia = 0.509090909090909 si recall-ul = 0.4444444444444444 \n",
            "Iar pentru fiecare clasa:\n",
            "{\n",
            "    \"GPE\": {\n",
            "        \"p\": 0.5833333333333334,\n",
            "        \"r\": 0.5833333333333334,\n",
            "        \"f\": 0.5833333333333334\n",
            "    },\n",
            "    \"DATETIME\": {\n",
            "        \"p\": 0.6363636363636364,\n",
            "        \"r\": 0.6363636363636364,\n",
            "        \"f\": 0.6363636363636364\n",
            "    },\n",
            "    \"MONEY\": {\n",
            "        \"p\": 0.0,\n",
            "        \"r\": 0.0,\n",
            "        \"f\": 0.0\n",
            "    },\n",
            "    \"PERSON\": {\n",
            "        \"p\": 0.4782608695652174,\n",
            "        \"r\": 0.39285714285714285,\n",
            "        \"f\": 0.4313725490196078\n",
            "    },\n",
            "    \"NAT_REL_POL\": {\n",
            "        \"p\": 0.5,\n",
            "        \"r\": 0.25,\n",
            "        \"f\": 0.3333333333333333\n",
            "    },\n",
            "    \"ORG\": {\n",
            "        \"p\": 0.0,\n",
            "        \"r\": 0.0,\n",
            "        \"f\": 0.0\n",
            "    },\n",
            "    \"ORDINAL\": {\n",
            "        \"p\": 0.0,\n",
            "        \"r\": 0.0,\n",
            "        \"f\": 0.0\n",
            "    },\n",
            "    \"WORK_OF_ART\": {\n",
            "        \"p\": 0.0,\n",
            "        \"r\": 0.0,\n",
            "        \"f\": 0.0\n",
            "    },\n",
            "    \"LOC\": {\n",
            "        \"p\": 0.0,\n",
            "        \"r\": 0.0,\n",
            "        \"f\": 0.0\n",
            "    },\n",
            "    \"PERIOD\": {\n",
            "        \"p\": 0.0,\n",
            "        \"r\": 0.0,\n",
            "        \"f\": 0.0\n",
            "    },\n",
            "    \"NUMERIC\": {\n",
            "        \"p\": 1.0,\n",
            "        \"r\": 0.5,\n",
            "        \"f\": 0.6666666666666666\n",
            "    },\n",
            "    \"EVENT\": {\n",
            "        \"p\": 0.0,\n",
            "        \"r\": 0.0,\n",
            "        \"f\": 0.0\n",
            "    }\n",
            "}\n"
          ]
        },
        {
          "name": "stderr",
          "output_type": "stream",
          "text": [
            "/home/bogdan/work/FMI/lab_NLP_an3/.env/lib/python3.8/site-packages/spacy/training/iob_utils.py:141: UserWarning: [W030] Some entities could not be aligned in the text \"Anglia și Tunisia s-au înfruntat la Cupa Mondială ...\" with entities \"[(0, 6, 'GPE'), (10, 17, 'GPE'), (50, 58, 'DATETIM...\". Use `spacy.training.offsets_to_biluo_tags(nlp.make_doc(text), entities)` to check the alignment. Misaligned entities ('-') will be ignored during training.\n",
            "  warnings.warn(\n",
            "/home/bogdan/work/FMI/lab_NLP_an3/.env/lib/python3.8/site-packages/spacy/training/iob_utils.py:141: UserWarning: [W030] Some entities could not be aligned in the text \"Adi Petre a marcat din nou pentru Esbjerg: statist...\" with entities \"[(0, 9, 'PERSON'), (34, 41, 'ORG'), (62, 69, 'PERS...\". Use `spacy.training.offsets_to_biluo_tags(nlp.make_doc(text), entities)` to check the alignment. Misaligned entities ('-') will be ignored during training.\n",
            "  warnings.warn(\n",
            "/home/bogdan/work/FMI/lab_NLP_an3/.env/lib/python3.8/site-packages/spacy/training/iob_utils.py:141: UserWarning: [W030] Some entities could not be aligned in the text \"Dacă în etapa actuală de tratament fără interferon...\" with entities \"[(100, 108, 'DATETIME'), (176, 184, 'PERSON'), (24...\". Use `spacy.training.offsets_to_biluo_tags(nlp.make_doc(text), entities)` to check the alignment. Misaligned entities ('-') will be ignored during training.\n",
            "  warnings.warn(\n"
          ]
        }
      ],
      "source": [
        "from spacy.scorer import Scorer\n",
        "scorer = Scorer()\n",
        "\n",
        "comparing_examples = []\n",
        "for text, anotations in test_dataset:     \n",
        "    pred_value = nlp(text)\n",
        "    example = Example.from_dict(pred_value, anotations)\n",
        "    comparing_examples.append(example)\n",
        "    \n",
        "result = scorer.score(comparing_examples)\n",
        "\n",
        "print(f\"Modelul s-a terminat cu F1 = {result['ents_f']}, precizia = {result['ents_p']} si recall-ul = {result['ents_r']} \\nIar pentru fiecare clasa:\")\n",
        "print(json.dumps(result['ents_per_type'], indent=4))"
      ]
    },
    {
      "cell_type": "markdown",
      "metadata": {
        "id": "4d6gHNqs_Jr6"
      },
      "source": [
        "Alte metrici prin care putem evalua si interpreta un model NER, putem gasi [aici](https://towardsdatascience.com/a-pathbreaking-evaluation-technique-for-named-entity-recognition-ner-93da4406930c)."
      ]
    },
    {
      "cell_type": "markdown",
      "metadata": {
        "id": "Uxl8vqqMJZet"
      },
      "source": [
        "# TASK\n",
        "## Deadline: 21 aprilie ora 23:59.\n",
        "\n",
        "Formular pentru trimiterea temei: https://forms.gle/F3hnh16W8tfuuoXQ6\n",
        "\n",
        "1. Descarcati un text de ~20 de fraze in limba engleza (de exemplu primele 20 de fraze dintr-un articol wikipedia).\n",
        "    - folosind spacy POS-tagging, extrageti separat toate substantivele, toate verbele, toate adjectivele si toate adverbele (afisati cate cuvinte din fiecare tip ati gasit); puteti gasi [aici](https://www.ling.upenn.edu/courses/Fall_2003/ling001/penn_treebank_pos.html) o lista cu tagurile pentru engleza.\n",
        "    - pentru aceste cuvinte extrase, determinati lema folosind nltk wordnet lemmatizer; pentru fiecare cuvant determinati lema atat fara a specifica tipul de parte de vorbire, cat si specificandu-l; pentru ce procent din cuvinte rezultatele pentru cele doua variante sunt diferite.\n",
        "2. Selectati din RONEC un subset mai mare de date si antrenati un model de NER (folosind spacy, ca in laborator). Pentru fiecare clasa afisati precision, recall, f1.\n",
        "    - Care este clasa cu scorul cel mai bun? Dar cea cu scorul cel mai slab?"
      ]
    },
    {
      "cell_type": "code",
      "source": [
        ""
      ],
      "metadata": {
        "id": "imgCXnA7uljg"
      },
      "execution_count": null,
      "outputs": []
    }
  ],
  "metadata": {
    "colab": {
      "collapsed_sections": [],
      "name": "lab_8.ipynb",
      "provenance": []
    },
    "kernelspec": {
      "display_name": "lab-nlp-an3",
      "language": "python",
      "name": "lab-nlp-an3"
    },
    "language_info": {
      "codemirror_mode": {
        "name": "ipython",
        "version": 3
      },
      "file_extension": ".py",
      "mimetype": "text/x-python",
      "name": "python",
      "nbconvert_exporter": "python",
      "pygments_lexer": "ipython3",
      "version": "3.8.10"
    }
  },
  "nbformat": 4,
  "nbformat_minor": 0
}