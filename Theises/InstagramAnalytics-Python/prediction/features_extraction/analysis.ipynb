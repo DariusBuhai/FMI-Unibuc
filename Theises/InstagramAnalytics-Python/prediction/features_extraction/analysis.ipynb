{
 "cells": [
  {
   "cell_type": "code",
   "execution_count": 1,
   "outputs": [],
   "source": [
    "from sys import platform, path\n",
    "if platform == \"linux\" or platform == \"linux2\":\n",
    "    path.append('/home/dariusbuhai/python/lib/python3.10/site-packages')\n",
    "\n",
    "if platform == \"darwin\":\n",
    "    path.append('/Library/Frameworks/Python.framework/Versions/3.9/venv/lib/python3.9/site-packages')"
   ],
   "metadata": {
    "collapsed": false,
    "pycharm": {
     "name": "#%%\n"
    }
   }
  },
  {
   "cell_type": "code",
   "execution_count": 43,
   "outputs": [],
   "source": [
    "import pandas as pd\n",
    "import matplotlib.pyplot as plt\n",
    "\n",
    "posts_features = pd.read_csv(\"../data/posts_features.csv\", na_values='-')\n",
    "posts_features = posts_features.fillna(0)"
   ],
   "metadata": {
    "collapsed": false,
    "pycharm": {
     "name": "#%%\n"
    }
   }
  },
  {
   "cell_type": "code",
   "execution_count": 45,
   "outputs": [
    {
     "name": "stdout",
     "output_type": "stream",
     "text": [
      "32886192.0\n"
     ]
    },
    {
     "data": {
      "text/plain": "<Figure size 432x288 with 1 Axes>",
      "image/png": "[encoded data removed]"
     },
     "metadata": {},
     "output_type": "display_data"
    }
   ],
   "source": [
    "print(max(posts_features['likes']))\n",
    "posts_features_filtered = posts_features[posts_features['likes']>10000]\n",
    "plt.scatter(posts_features_filtered['followers'], posts_features_filtered['likes'])\n",
    "plt.xlabel(\"followers\")\n",
    "plt.ylabel(\"likes\")\n",
    "plt.ticklabel_format(style=\"plain\")\n",
    "plt.show()"
   ],
   "metadata": {
    "collapsed": false,
    "pycharm": {
     "name": "#%%\n"
    }
   }
  },
  {
   "cell_type": "code",
   "execution_count": 4,
   "outputs": [
    {
     "name": "stdout",
     "output_type": "stream",
     "text": [
      "<class 'pandas.core.frame.DataFrame'>\n",
      "RangeIndex: 272407 entries, 0 to 272406\n",
      "Columns: 222 entries, Unnamed: 0 to word: true\n",
      "dtypes: bool(12), float64(9), int64(201)\n",
      "memory usage: 439.6 MB\n"
     ]
    }
   ],
   "source": [
    "posts_features.info()"
   ],
   "metadata": {
    "collapsed": false,
    "pycharm": {
     "name": "#%%\n"
    }
   }
  },
  {
   "cell_type": "code",
   "execution_count": 5,
   "outputs": [
    {
     "data": {
      "text/plain": "          followers         likes  likes/followers     likes/mean  \\\ncount  2.724070e+05  2.724070e+05    272407.000000  272407.000000   \nmean   5.271700e+07  8.649256e+05         0.023747       0.972137   \nstd    6.218644e+07  1.237337e+06         0.033871       0.989218   \nmin    7.300000e+06  0.000000e+00         0.000000       0.000000   \n25%    2.120000e+07  1.988100e+05         0.005074       0.338236   \n50%    3.320000e+07  5.019610e+05         0.013023       0.739555   \n75%    5.470000e+07  1.059776e+06         0.029117       1.300512   \nmax    4.696000e+08  3.288619e+07         1.002107      35.032283   \n\n           comments          faces         smiles  \ncount  2.724070e+05  272407.000000  272407.000000  \nmean   7.686844e+03       0.645960       0.279310  \nstd    6.818749e+04       0.970313       0.588061  \nmin    0.000000e+00       0.000000       0.000000  \n25%    8.950000e+02       0.000000       0.000000  \n50%    2.608000e+03       0.000000       0.000000  \n75%    6.902000e+03       1.000000       0.000000  \nmax    2.340551e+07      28.000000      23.000000  ",
      "text/html": "<div>\n<style scoped>\n    .dataframe tbody tr th:only-of-type {\n        vertical-align: middle;\n    }\n\n    .dataframe tbody tr th {\n        vertical-align: top;\n    }\n\n    .dataframe thead th {\n        text-align: right;\n    }\n</style>\n<table border=\"1\" class=\"dataframe\">\n  <thead>\n    <tr style=\"text-align: right;\">\n      <th></th>\n      <th>followers</th>\n      <th>likes</th>\n      <th>likes/followers</th>\n      <th>likes/mean</th>\n      <th>comments</th>\n      <th>faces</th>\n      <th>smiles</th>\n    </tr>\n  </thead>\n  <tbody>\n    <tr>\n      <th>count</th>\n      <td>2.724070e+05</td>\n      <td>2.724070e+05</td>\n      <td>272407.000000</td>\n      <td>272407.000000</td>\n      <td>2.724070e+05</td>\n      <td>272407.000000</td>\n      <td>272407.000000</td>\n    </tr>\n    <tr>\n      <th>mean</th>\n      <td>5.271700e+07</td>\n      <td>8.649256e+05</td>\n      <td>0.023747</td>\n      <td>0.972137</td>\n      <td>7.686844e+03</td>\n      <td>0.645960</td>\n      <td>0.279310</td>\n    </tr>\n    <tr>\n      <th>std</th>\n      <td>6.218644e+07</td>\n      <td>1.237337e+06</td>\n      <td>0.033871</td>\n      <td>0.989218</td>\n      <td>6.818749e+04</td>\n      <td>0.970313</td>\n      <td>0.588061</td>\n    </tr>\n    <tr>\n      <th>min</th>\n      <td>7.300000e+06</td>\n      <td>0.000000e+00</td>\n      <td>0.000000</td>\n      <td>0.000000</td>\n      <td>0.000000e+00</td>\n      <td>0.000000</td>\n      <td>0.000000</td>\n    </tr>\n    <tr>\n      <th>25%</th>\n      <td>2.120000e+07</td>\n      <td>1.988100e+05</td>\n      <td>0.005074</td>\n      <td>0.338236</td>\n      <td>8.950000e+02</td>\n      <td>0.000000</td>\n      <td>0.000000</td>\n    </tr>\n    <tr>\n      <th>50%</th>\n      <td>3.320000e+07</td>\n      <td>5.019610e+05</td>\n      <td>0.013023</td>\n      <td>0.739555</td>\n      <td>2.608000e+03</td>\n      <td>0.000000</td>\n      <td>0.000000</td>\n    </tr>\n    <tr>\n      <th>75%</th>\n      <td>5.470000e+07</td>\n      <td>1.059776e+06</td>\n      <td>0.029117</td>\n      <td>1.300512</td>\n      <td>6.902000e+03</td>\n      <td>1.000000</td>\n      <td>0.000000</td>\n    </tr>\n    <tr>\n      <th>max</th>\n      <td>4.696000e+08</td>\n      <td>3.288619e+07</td>\n      <td>1.002107</td>\n      <td>35.032283</td>\n      <td>2.340551e+07</td>\n      <td>28.000000</td>\n      <td>23.000000</td>\n    </tr>\n  </tbody>\n</table>\n</div>"
     },
     "execution_count": 5,
     "metadata": {},
     "output_type": "execute_result"
    }
   ],
   "source": [
    "posts_features[['followers', 'likes', 'likes/followers', 'likes/mean', 'comments', 'faces', 'smiles']].describe()"
   ],
   "metadata": {
    "collapsed": false,
    "pycharm": {
     "name": "#%%\n"
    }
   }
  },
  {
   "cell_type": "code",
   "execution_count": 6,
   "outputs": [
    {
     "data": {
      "text/plain": "Index(['likes/mean', 'faces', 'smiles', 'word: happi', 'word: birthday',\n       'word: reel', 'word: bless', 'word: babi', 'word: vida', 'mean'],\n      dtype='object')"
     },
     "execution_count": 6,
     "metadata": {},
     "output_type": "execute_result"
    }
   ],
   "source": [
    "important_features = posts_features.loc[:, ~posts_features.columns.isin(['likes', 'likes/followers', 'comments', 'engagement'])]\n",
    "correlation = important_features.corr(method='pearson')\n",
    "columns = correlation.nlargest(10, 'likes/mean').index\n",
    "columns"
   ],
   "metadata": {
    "collapsed": false,
    "pycharm": {
     "name": "#%%\n"
    }
   }
  },
  {
   "cell_type": "code",
   "execution_count": 7,
   "outputs": [
    {
     "data": {
      "text/plain": "<Figure size 432x288 with 2 Axes>",
      "image/png": "[encoded data removed]"
     },
     "metadata": {},
     "output_type": "display_data"
    }
   ],
   "source": [
    "import numpy as np\n",
    "import seaborn as sns\n",
    "correlation_map = np.corrcoef(important_features[columns].values.astype(float).T)\n",
    "sns.set(font_scale=0.75)\n",
    "heatmap = sns.heatmap(correlation_map, cbar=True, annot=True, square=True, fmt='.2f', yticklabels=columns.values, xticklabels=columns.values)\n",
    "plt.show()"
   ],
   "metadata": {
    "collapsed": false,
    "pycharm": {
     "name": "#%%\n"
    }
   }
  },
  {
   "cell_type": "code",
   "execution_count": 16,
   "outputs": [
    {
     "data": {
      "text/plain": "<Figure size 432x288 with 1 Axes>",
      "image/png": "[encoded data removed]"
     },
     "metadata": {},
     "output_type": "display_data"
    }
   ],
   "source": [
    "sns.histplot(important_features['likes/mean'][important_features['likes/mean']<5], color=\"r\", kde=False)\n",
    "plt.title(\"Distribution of Likes Divided by Mean\")\n",
    "plt.ylabel(\"Occurences\")\n",
    "plt.xlabel(\"Number of Likes / Mean Likes\");"
   ],
   "metadata": {
    "collapsed": false,
    "pycharm": {
     "name": "#%%\n"
    }
   }
  },
  {
   "cell_type": "code",
   "execution_count": 8,
   "outputs": [],
   "source": [
    "X, y = posts_features.loc[:, ~posts_features.columns.isin(['Unnamed: 0', 'likes', 'likes/followers','followers', 'comments', 'engagement', 'likes/mean', 'mean'])], posts_features['likes/mean']"
   ],
   "metadata": {
    "collapsed": false,
    "pycharm": {
     "name": "#%%\n"
    }
   }
  },
  {
   "cell_type": "code",
   "execution_count": 9,
   "outputs": [],
   "source": [
    "from matplotlib import pyplot\n",
    "\n",
    "def plotFeaturesImportance(model):\n",
    "    importance = model.feature_importances_\n",
    "    importance_and_names = list()\n",
    "    # summarize feature importance\n",
    "    for i, v in enumerate(importance):\n",
    "        importance_and_names.append({'name': model.feature_names_in_[i], 'importance': v})\n",
    "    importance_and_names.sort(key=lambda x: x['importance'], reverse=True)\n",
    "    for f in importance_and_names:\n",
    "        print(f\"Feature: {f['name']}, importance: {f['importance']}\")\n",
    "\n",
    "    # plot feature importance\n",
    "    limit_items = 20\n",
    "    pyplot.barh([x['name'] for x in importance_and_names[:limit_items]][::-1], [x['importance'] for x in importance_and_names[:limit_items]][::-1])\n",
    "    pyplot.show()"
   ],
   "metadata": {
    "collapsed": false,
    "pycharm": {
     "name": "#%%\n"
    }
   }
  },
  {
   "cell_type": "code",
   "execution_count": 10,
   "outputs": [
    {
     "name": "stdout",
     "output_type": "stream",
     "text": [
      "Feature: faces, importance: 0.03229945552729712\n",
      "Feature: smiles, importance: 0.030505650451851267\n",
      "Feature: (17, 22), importance: 0.02782300581823638\n",
      "Feature: (12, 17), importance: 0.02261118534530509\n",
      "Feature: Thursday, importance: 0.021317839784769088\n",
      "Feature: Friday, importance: 0.019894899423591274\n",
      "Feature: Tuesday, importance: 0.01980649762469207\n",
      "Feature: Saturday, importance: 0.01961744254251792\n",
      "Feature: Wednesday, importance: 0.01915201965871097\n",
      "Feature: Monday, importance: 0.019023200470695285\n",
      "Feature: (8, 12), importance: 0.017949544289794554\n",
      "Feature: (2, 8), importance: 0.016806902898339\n",
      "Feature: Sunday, importance: 0.016323820021096447\n",
      "Feature: word: love, importance: 0.015802036719741546\n",
      "Feature: word: thi, importance: 0.014947546514970973\n",
      "Feature: word: thank, importance: 0.009251241901395282\n",
      "Feature: word: time, importance: 0.00868640560048905\n",
      "Feature: word: ucl, importance: 0.008504542798358081\n",
      "Feature: word: para, importance: 0.007594194714588147\n",
      "Feature: word: video, importance: 0.0074664378044882315\n",
      "Feature: word: like, importance: 0.00746363798407831\n",
      "Feature: word: look, importance: 0.0068989256205657275\n",
      "Feature: word: todo, importance: 0.0067602591862999635\n",
      "Feature: word: wait, importance: 0.0065759702564939\n",
      "Feature: word: life, importance: 0.00648275983794312\n",
      "Feature: word: famili, importance: 0.006434445453479558\n",
      "Feature: word: esta, importance: 0.00626575652124377\n",
      "Feature: word: gracia, importance: 0.006128894759280528\n",
      "Feature: word: nasa, importance: 0.006121839671470587\n",
      "Feature: word: best, importance: 0.0060958366536752314\n",
      "Feature: word: film, importance: 0.006015671270281123\n",
      "Feature: word: today, importance: 0.0059889557988951105\n",
      "Feature: word: night, importance: 0.005909183182711189\n",
      "Feature: word: song, importance: 0.005778297723446955\n",
      "Feature: word: live, importance: 0.005671386091974535\n",
      "Feature: word: world, importance: 0.005448604300909444\n",
      "Feature: word: dubai, importance: 0.0054178463108017815\n",
      "Feature: word: como, importance: 0.00541621268348182\n",
      "Feature: word: feliz, importance: 0.0053902194713201\n",
      "Feature: word: alway, importance: 0.005272443633272264\n",
      "Feature: word: beauti, importance: 0.00519791338660288\n",
      "Feature: word: onli, importance: 0.005196904140654411\n",
      "Feature: word: friend, importance: 0.005179025238175777\n",
      "Feature: word: good, importance: 0.005098280725860649\n",
      "Feature: word: come, importance: 0.005086662025992518\n",
      "Feature: word: know, importance: 0.004907473099984116\n",
      "Feature: word: repost, importance: 0.004817774182993011\n",
      "Feature: word: everyon, importance: 0.004804021370152622\n",
      "Feature: word: work, importance: 0.004766326591770176\n",
      "Feature: word: style, importance: 0.00474161661161438\n",
      "Feature: word: littl, importance: 0.0047032997804446605\n",
      "Feature: word: feel, importance: 0.004658231265623627\n",
      "Feature: word: final, importance: 0.004603030812518843\n",
      "Feature: word: mai, importance: 0.004569867506486621\n",
      "Feature: word: miss, importance: 0.004508144919477572\n",
      "Feature: word: want, importance: 0.004495452608409726\n",
      "Feature: word: everi, importance: 0.004450405625154038\n",
      "Feature: word: togeth, importance: 0.00438570217024608\n",
      "Feature: word: meet, importance: 0.0043511617299117665\n",
      "Feature: word: team, importance: 0.004326685866425093\n",
      "Feature: word: bless, importance: 0.004319239548936802\n",
      "Feature: word: think, importance: 0.004314884215152636\n",
      "Feature: word: heart, importance: 0.004301070107542729\n",
      "Feature: word: foto, importance: 0.004285879474587886\n",
      "Feature: word: follow, importance: 0.004251855999437692\n",
      "Feature: word: brother, importance: 0.004251574379076783\n",
      "Feature: word: toda, importance: 0.004238471508675737\n",
      "Feature: word: girl, importance: 0.00423209446701248\n",
      "Feature: word: moment, importance: 0.004162901335326981\n",
      "Feature: word: vida, importance: 0.004145023040309557\n",
      "Feature: word: real, importance: 0.004133386417731721\n",
      "Feature: word: special, importance: 0.004049611879468039\n",
      "Feature: word: mundo, importance: 0.003992958633092633\n",
      "Feature: word: gent, importance: 0.0039172055772915175\n",
      "Feature: word: happi, importance: 0.003902149323333673\n",
      "Feature: word: birthday, importance: 0.0038851875561300036\n",
      "Feature: word: est, importance: 0.003845977017749131\n",
      "Feature: word: amaz, importance: 0.0037729785735630783\n",
      "Feature: word: start, importance: 0.0037605102334987077\n",
      "Feature: word: stay, importance: 0.00375083094209201\n",
      "Feature: word: home, importance: 0.0037404310939487006\n",
      "Feature: word: great, importance: 0.0037285570722853023\n",
      "Feature: word: minha, importance: 0.003646198479289736\n",
      "Feature: word: amigo, importance: 0.003633305838548923\n",
      "Feature: word: week, importance: 0.0036240767143159297\n",
      "Feature: word: right, importance: 0.003571335694593819\n",
      "Feature: word: thing, importance: 0.0035150246145866397\n",
      "Feature: word: morn, importance: 0.00350368827780753\n",
      "Feature: word: year, importance: 0.0034810238537603152\n",
      "Feature: word: watch, importance: 0.0034694173621556846\n",
      "Feature: word: vamo, importance: 0.003457258758525079\n",
      "Feature: word: better, importance: 0.003454745427821218\n",
      "Feature: word: post, importance: 0.0034378817393695533\n",
      "Feature: word: proud, importance: 0.003425481469042482\n",
      "Feature: word: veri, importance: 0.0034175653579047805\n",
      "Feature: word: celebr, importance: 0.003414793997036937\n",
      "Feature: word: game, importance: 0.003371702868565059\n",
      "Feature: word: guy, importance: 0.003366515568458949\n",
      "Feature: word: muito, importance: 0.0033657884575067853\n",
      "Feature: word: wear, importance: 0.0033471689469431803\n",
      "Feature: word: hope, importance: 0.0033408977861653674\n",
      "Feature: word: someth, importance: 0.0033106966189445663\n",
      "Feature: word: need, importance: 0.0033050340639442536\n",
      "Feature: word: peopl, importance: 0.003258837750352446\n",
      "Feature: word: day, importance: 0.0032553397110962196\n",
      "Feature: word: link, importance: 0.003233233414431502\n",
      "Feature: word: photo, importance: 0.003226820373874634\n",
      "Feature: word: wish, importance: 0.0032214815544724293\n",
      "Feature: word: babi, importance: 0.0032110812247782856\n",
      "Feature: word: readi, importance: 0.0031898535297049456\n",
      "Feature: word: amor, importance: 0.0031854598958129697\n",
      "Feature: word: movi, importance: 0.0031731496616908233\n",
      "Feature: word: experi, importance: 0.0031695962544594286\n",
      "Feature: word: dream, importance: 0.003169411852422187\n",
      "Feature: word: smile, importance: 0.0031671505399402267\n",
      "Feature: word: danc, importance: 0.0031550247151745712\n",
      "Feature: word: play, importance: 0.00314241960334832\n",
      "Feature: word: star, importance: 0.003089009061657227\n",
      "Feature: word: ess, importance: 0.003079332055670709\n",
      "Feature: word: sempr, importance: 0.003026370170710873\n",
      "Feature: word: everyth, importance: 0.00302616103115694\n",
      "Feature: word: long, importance: 0.003021333183004288\n",
      "Feature: word: favorit, importance: 0.0029719820595976473\n",
      "Feature: word: makeup, importance: 0.0029635966060358723\n",
      "Feature: word: offici, importance: 0.0029401860758934487\n",
      "Feature: word: support, importance: 0.0029396460714277905\n",
      "Feature: word: instagram, importance: 0.002928473860806527\n",
      "Feature: word: releas, importance: 0.002925481960468171\n",
      "Feature: word: season, importance: 0.002905740274692927\n",
      "Feature: word: help, importance: 0.0029054039894760683\n",
      "Feature: word: mani, importance: 0.002896641888832166\n",
      "Feature: word: shot, importance: 0.0028542928676870503\n",
      "Feature: word: essa, importance: 0.0028355237620325763\n",
      "Feature: word: gvlifestyl, importance: 0.002816504637465872\n",
      "Feature: word: inspir, importance: 0.002811684816508027\n",
      "Feature: word: tudo, importance: 0.002806518591502362\n",
      "Feature: word: stop, importance: 0.0027911435310917793\n",
      "Feature: word: befor, importance: 0.0027807074792253086\n",
      "Feature: word: enjoy, importance: 0.002778549688231572\n",
      "Feature: word: stori, importance: 0.0027700642318621064\n",
      "Feature: word: check, importance: 0.0027541759720330432\n",
      "Feature: word: shoot, importance: 0.0027527159522232852\n",
      "Feature: word: soon, importance: 0.002726699339256515\n",
      "Feature: word: forev, importance: 0.0027024035707607233\n",
      "Feature: word: light, importance: 0.0027008705897545197\n",
      "Feature: word: hair, importance: 0.002671299577791545\n",
      "Feature: word: pictur, importance: 0.0026663042679736207\n",
      "Feature: word: siempr, importance: 0.002663060452103307\n",
      "Feature: word: incred, importance: 0.0026551732047312066\n",
      "Feature: word: pari, importance: 0.0026466443094296903\n",
      "Feature: word: anoth, importance: 0.0026072716739841345\n",
      "Feature: word: face, importance: 0.002607026335601669\n",
      "Feature: word: music, importance: 0.002564666772357351\n",
      "Feature: word: bring, importance: 0.0025383106958624738\n",
      "Feature: word: youtub, importance: 0.002530669460409105\n",
      "Feature: word: honor, importance: 0.0025040419332620877\n",
      "Feature: word: excit, importance: 0.0024934712952057775\n",
      "Feature: word: reel, importance: 0.0024638837571961014\n",
      "Feature: word: place, importance: 0.0024353382799990365\n",
      "Feature: word: super, importance: 0.0023858406841242435\n",
      "Feature: word: becaus, importance: 0.002385636822770612\n",
      "Feature: word: grate, importance: 0.0023848932524016143\n",
      "Feature: word: believ, importance: 0.0023834946043537206\n",
      "Feature: word: share, importance: 0.0023284813134599788\n",
      "Feature: word: person, importance: 0.002327594257805157\n",
      "Feature: word: realli, importance: 0.002315005045371821\n",
      "Feature: word: hoje, importance: 0.0023114910362133255\n",
      "Feature: word: footbal, importance: 0.0023018623815310633\n",
      "Feature: word: fan, importance: 0.0022985951037415605\n",
      "Feature: word: cover, importance: 0.0022887094629344584\n",
      "Feature: word: obrigada, importance: 0.002288650343744669\n",
      "Feature: word: tonight, importance: 0.0022650499987452092\n",
      "Feature: word: month, importance: 0.002241987323643921\n",
      "Feature: word: true, importance: 0.0022313201585498635\n",
      "Feature: word: use, importance: 0.0022251547744338352\n",
      "Feature: word: sure, importance: 0.002213837277883671\n",
      "Feature: word: perform, importance: 0.0022059238639791246\n",
      "Feature: word: chang, importance: 0.0022056427786523803\n",
      "Feature: word: citi, importance: 0.002169563080542572\n",
      "Feature: word: happen, importance: 0.0021405924364534205\n",
      "Feature: word: tell, importance: 0.0021197171098519337\n",
      "Feature: word: black, importance: 0.0021136800487978067\n",
      "Feature: word: hard, importance: 0.0020901001766747904\n",
      "Feature: word: away, importance: 0.002082282793881534\n",
      "Feature: word: collect, importance: 0.0020677066121889682\n",
      "Feature: word: million, importance: 0.002066958761003067\n",
      "Feature: word: tour, importance: 0.002050972590210364\n",
      "Feature: word: head, importance: 0.002048230554406946\n",
      "Feature: word: find, importance: 0.0020464288894173417\n",
      "Feature: word: pleas, importance: 0.0020387326639715437\n",
      "Feature: word: india, importance: 0.002016863992991146\n",
      "Feature: word: studio, importance: 0.0019731356279285867\n",
      "Feature: word: fashion, importance: 0.0019675076934197993\n",
      "Feature: word: marvel, importance: 0.0018508133915980621\n",
      "Feature: word: continu, importance: 0.0018440444003649174\n",
      "Feature: word: outfit, importance: 0.0018380113726942282\n",
      "Feature: word: import, importance: 0.0018352498968560687\n",
      "Feature: word: join, importance: 0.0018251852375596033\n",
      "Feature: word: creat, importance: 0.0018085397619181911\n",
      "Feature: word: goal, importance: 0.0017867253364046611\n",
      "Feature: word: episod, importance: 0.0017625469018731365\n",
      "Feature: word: launch, importance: 0.0016833493417484598\n",
      "Feature: word: mufc, importance: 0.0016219015055495903\n",
      "Feature: word: women, importance: 0.0016141613984540428\n",
      "Feature: word: power, importance: 0.0016029247249463776\n",
      "Feature: word: learn, importance: 0.001577960706367946\n",
      "Feature: word: tomorrow, importance: 0.0015229463755391831\n",
      "Feature: word: manutd, importance: 0.0014011069288353396\n",
      "Feature: word: avail, importance: 0.0013376566385173705\n",
      "Feature: word: album, importance: 0.0012987935139567204\n",
      "Feature: word: imag, importance: 0.0011870850006065181\n",
      "Feature: word: nct, importance: 0.001011881955101482\n",
      "Feature: word: space, importance: 0.0004888604059147661\n",
      "Feature: (22, 2), importance: 0.0\n"
     ]
    },
    {
     "data": {
      "text/plain": "<Figure size 432x288 with 1 Axes>",
      "image/png": "[encoded data removed]"
     },
     "metadata": {
      "needs_background": "light"
     },
     "output_type": "display_data"
    }
   ],
   "source": [
    "from sklearn.ensemble import RandomForestRegressor\n",
    "model1 = RandomForestRegressor()\n",
    "model1.fit(X, y)\n",
    "plotFeaturesImportance(model1)"
   ],
   "metadata": {
    "collapsed": false,
    "pycharm": {
     "name": "#%%\n"
    }
   }
  },
  {
   "cell_type": "code",
   "execution_count": 11,
   "outputs": [
    {
     "name": "stdout",
     "output_type": "stream",
     "text": [
      "Feature: faces, importance: 0.03313992513678686\n",
      "Feature: smiles, importance: 0.030565945767243096\n",
      "Feature: (17, 22), importance: 0.026483121858356915\n",
      "Feature: (12, 17), importance: 0.022830673612696174\n",
      "Feature: Saturday, importance: 0.019839661195867844\n",
      "Feature: Wednesday, importance: 0.019517213420801326\n",
      "Feature: Tuesday, importance: 0.018437200399632286\n",
      "Feature: Thursday, importance: 0.01838019771953706\n",
      "Feature: (2, 8), importance: 0.017578033412455427\n",
      "Feature: Monday, importance: 0.017526708567852874\n",
      "Feature: Friday, importance: 0.01649033657799903\n",
      "Feature: word: love, importance: 0.01625519712807099\n",
      "Feature: (8, 12), importance: 0.016116062120101745\n",
      "Feature: Sunday, importance: 0.015498441894218878\n",
      "Feature: word: thi, importance: 0.014318924832485973\n",
      "Feature: word: film, importance: 0.011928354018104192\n",
      "Feature: word: time, importance: 0.01041959220953906\n",
      "Feature: word: ucl, importance: 0.008978255561054667\n",
      "Feature: word: video, importance: 0.00853500498928459\n",
      "Feature: word: esta, importance: 0.008533905769271388\n",
      "Feature: word: life, importance: 0.007991067551882794\n",
      "Feature: word: look, importance: 0.007492719552571544\n",
      "Feature: word: like, importance: 0.007357193230905974\n",
      "Feature: word: thank, importance: 0.00726316206380018\n",
      "Feature: word: gracia, importance: 0.007250451619840215\n",
      "Feature: word: famili, importance: 0.007028779442939433\n",
      "Feature: word: best, importance: 0.006556957846352676\n",
      "Feature: word: nasa, importance: 0.0065411145586539085\n",
      "Feature: word: feliz, importance: 0.006418975055900593\n",
      "Feature: word: night, importance: 0.006037659963715423\n",
      "Feature: word: live, importance: 0.0060300470560424825\n",
      "Feature: word: wait, importance: 0.005869208389544542\n",
      "Feature: word: todo, importance: 0.005860412604896936\n",
      "Feature: word: thing, importance: 0.005630478681020551\n",
      "Feature: word: como, importance: 0.005586238621152897\n",
      "Feature: word: star, importance: 0.005440901670755322\n",
      "Feature: word: dubai, importance: 0.005395746539206908\n",
      "Feature: word: world, importance: 0.005382988775061451\n",
      "Feature: word: everyon, importance: 0.005337501591389003\n",
      "Feature: word: know, importance: 0.005237582012514531\n",
      "Feature: word: para, importance: 0.005126590722080791\n",
      "Feature: word: repost, importance: 0.0050965996603715554\n",
      "Feature: word: need, importance: 0.00488244115278823\n",
      "Feature: word: final, importance: 0.0048807447551395145\n",
      "Feature: word: toda, importance: 0.004857151878887568\n",
      "Feature: word: today, importance: 0.004849795654744211\n",
      "Feature: word: birthday, importance: 0.004821317060444455\n",
      "Feature: word: brother, importance: 0.004812757791590201\n",
      "Feature: word: beauti, importance: 0.004757711971897044\n",
      "Feature: word: onli, importance: 0.004736766452835154\n",
      "Feature: word: mai, importance: 0.00471253884409957\n",
      "Feature: word: heart, importance: 0.004705641048672425\n",
      "Feature: word: littl, importance: 0.004581880563940071\n",
      "Feature: word: vamo, importance: 0.004564348318776718\n",
      "Feature: word: foto, importance: 0.004561808808227949\n",
      "Feature: word: feel, importance: 0.004508737904627789\n",
      "Feature: word: team, importance: 0.0045058938538515905\n",
      "Feature: word: want, importance: 0.004461007199350041\n",
      "Feature: word: friend, importance: 0.0043773385626341005\n",
      "Feature: word: mundo, importance: 0.0043418912249174706\n",
      "Feature: word: special, importance: 0.004270464486240814\n",
      "Feature: word: real, importance: 0.0042665667775634315\n",
      "Feature: word: everi, importance: 0.004231577631684905\n",
      "Feature: word: style, importance: 0.00421940476111631\n",
      "Feature: word: think, importance: 0.004204884055074946\n",
      "Feature: word: gent, importance: 0.00418913539559435\n",
      "Feature: word: come, importance: 0.0041833999937919185\n",
      "Feature: word: befor, importance: 0.004177021051654694\n",
      "Feature: word: miss, importance: 0.004171393447771311\n",
      "Feature: word: celebr, importance: 0.004169916124261151\n",
      "Feature: word: movi, importance: 0.004151426261044465\n",
      "Feature: word: alway, importance: 0.00414900305900915\n",
      "Feature: word: togeth, importance: 0.004139467635160246\n",
      "Feature: word: song, importance: 0.004066370454343513\n",
      "Feature: word: right, importance: 0.004054138129641839\n",
      "Feature: word: stay, importance: 0.004041547829540213\n",
      "Feature: word: amaz, importance: 0.004037186679758898\n",
      "Feature: word: good, importance: 0.003997496658541264\n",
      "Feature: word: bless, importance: 0.003995385589835938\n",
      "Feature: word: start, importance: 0.003978701558941678\n",
      "Feature: word: ess, importance: 0.00397846954224339\n",
      "Feature: word: girl, importance: 0.003961997668240132\n",
      "Feature: word: amigo, importance: 0.003955690461570811\n",
      "Feature: word: home, importance: 0.00394100727249631\n",
      "Feature: word: shot, importance: 0.0039243612790666555\n",
      "Feature: word: work, importance: 0.003897764285952066\n",
      "Feature: word: meet, importance: 0.0038948691728026416\n",
      "Feature: word: peopl, importance: 0.0038583874543451574\n",
      "Feature: word: week, importance: 0.0038413858535064453\n",
      "Feature: word: danc, importance: 0.0037666055665869225\n",
      "Feature: word: game, importance: 0.0037571667518092513\n",
      "Feature: word: wear, importance: 0.0036660856621798074\n",
      "Feature: word: post, importance: 0.0036578214345245642\n",
      "Feature: word: proud, importance: 0.003634700147366955\n",
      "Feature: word: place, importance: 0.0035659290961745425\n",
      "Feature: word: smile, importance: 0.003545379909270227\n",
      "Feature: word: wish, importance: 0.00354181092069999\n",
      "Feature: word: link, importance: 0.003522411641557182\n",
      "Feature: word: true, importance: 0.0035183396300047373\n",
      "Feature: word: mani, importance: 0.003506353339067643\n",
      "Feature: word: favorit, importance: 0.0034674308748244287\n",
      "Feature: word: someth, importance: 0.0034417572069052986\n",
      "Feature: word: sempr, importance: 0.0034407549651687638\n",
      "Feature: word: better, importance: 0.0034372822083577332\n",
      "Feature: word: everyth, importance: 0.0034120519825409402\n",
      "Feature: word: readi, importance: 0.003393836550600574\n",
      "Feature: word: great, importance: 0.003372421096401131\n",
      "Feature: word: est, importance: 0.003269061502991307\n",
      "Feature: word: hope, importance: 0.003245990948719323\n",
      "Feature: word: veri, importance: 0.003225705820262892\n",
      "Feature: word: dream, importance: 0.003208285820943455\n",
      "Feature: word: experi, importance: 0.003193102098717268\n",
      "Feature: word: minha, importance: 0.003133061606959464\n",
      "Feature: word: incred, importance: 0.0031222451851596524\n",
      "Feature: word: watch, importance: 0.003117476276930071\n",
      "Feature: word: babi, importance: 0.003115753083359246\n",
      "Feature: word: inspir, importance: 0.003078016206403685\n",
      "Feature: word: person, importance: 0.0030174073741032897\n",
      "Feature: word: forev, importance: 0.0029992365101003996\n",
      "Feature: word: season, importance: 0.002998592240137299\n",
      "Feature: word: makeup, importance: 0.0029881957412643116\n",
      "Feature: word: pictur, importance: 0.0029805350122847564\n",
      "Feature: word: anoth, importance: 0.0029708047470033178\n",
      "Feature: word: face, importance: 0.0029689231694117564\n",
      "Feature: word: share, importance: 0.002960314849488693\n",
      "Feature: word: muito, importance: 0.002941122428220682\n",
      "Feature: word: stop, importance: 0.002935745310246691\n",
      "Feature: word: play, importance: 0.0029204521611829216\n",
      "Feature: word: use, importance: 0.0028981691464745937\n",
      "Feature: word: soon, importance: 0.002870821926751735\n",
      "Feature: word: head, importance: 0.0028549608833735502\n",
      "Feature: word: excit, importance: 0.002852660134702457\n",
      "Feature: word: moment, importance: 0.002798804870906524\n",
      "Feature: word: enjoy, importance: 0.0027958073890069018\n",
      "Feature: word: sure, importance: 0.00279369338594753\n",
      "Feature: word: day, importance: 0.0027571043138435412\n",
      "Feature: word: year, importance: 0.002750921885115679\n",
      "Feature: word: stori, importance: 0.002708502699880944\n",
      "Feature: word: tudo, importance: 0.002706312817027497\n",
      "Feature: word: music, importance: 0.002691089272341481\n",
      "Feature: word: becaus, importance: 0.0026656920875085754\n",
      "Feature: word: chang, importance: 0.0026610172122595046\n",
      "Feature: word: bring, importance: 0.002656125618846884\n",
      "Feature: word: help, importance: 0.0026483796255985913\n",
      "Feature: word: vida, importance: 0.0026414430705161275\n",
      "Feature: word: pari, importance: 0.0026294022106967178\n",
      "Feature: word: shoot, importance: 0.0026237600398460745\n",
      "Feature: word: light, importance: 0.0026136760031769974\n",
      "Feature: word: morn, importance: 0.0025759305862816414\n",
      "Feature: word: instagram, importance: 0.002570493159612745\n",
      "Feature: word: hard, importance: 0.002569355136144581\n",
      "Feature: word: support, importance: 0.002521280170180099\n",
      "Feature: word: studio, importance: 0.0025081568304251597\n",
      "Feature: word: hoje, importance: 0.002488792144463736\n",
      "Feature: word: offici, importance: 0.00247415693278095\n",
      "Feature: word: tell, importance: 0.002462460584458708\n",
      "Feature: word: releas, importance: 0.002457212347500679\n",
      "Feature: word: happi, importance: 0.002442991046508898\n",
      "Feature: word: continu, importance: 0.0024400412380601033\n",
      "Feature: word: believ, importance: 0.0024255407288704366\n",
      "Feature: word: photo, importance: 0.0024094653155722805\n",
      "Feature: word: creat, importance: 0.0024053271721376605\n",
      "Feature: word: perform, importance: 0.0024037945138161414\n",
      "Feature: word: citi, importance: 0.0024000675602921647\n",
      "Feature: word: follow, importance: 0.0023972266633275822\n",
      "Feature: word: month, importance: 0.0023305910275076913\n",
      "Feature: word: away, importance: 0.002299561676732005\n",
      "Feature: word: cover, importance: 0.0022741826259756043\n",
      "Feature: word: honor, importance: 0.0022711098463620133\n",
      "Feature: word: outfit, importance: 0.0022397539309717187\n",
      "Feature: word: realli, importance: 0.002224094949251025\n",
      "Feature: word: guy, importance: 0.0022040738639750404\n",
      "Feature: word: check, importance: 0.0021958038517175976\n",
      "Feature: word: collect, importance: 0.002186205057666914\n",
      "Feature: word: long, importance: 0.0021848014487535474\n",
      "Feature: word: happen, importance: 0.0021793640874531346\n",
      "Feature: word: find, importance: 0.002173815204295938\n",
      "Feature: word: hair, importance: 0.002170279206459926\n",
      "Feature: word: fan, importance: 0.002146829626670248\n",
      "Feature: word: reel, importance: 0.0021342840866810774\n",
      "Feature: word: tour, importance: 0.0020737801567252572\n",
      "Feature: word: tonight, importance: 0.0020645136611282698\n",
      "Feature: word: youtub, importance: 0.002020239916302301\n",
      "Feature: word: million, importance: 0.001992462533372779\n",
      "Feature: word: obrigada, importance: 0.0019852058232309342\n",
      "Feature: word: siempr, importance: 0.0019365195442597768\n",
      "Feature: word: essa, importance: 0.0018997028776535925\n",
      "Feature: word: gvlifestyl, importance: 0.0018864986151159067\n",
      "Feature: word: grate, importance: 0.0018662972341240405\n",
      "Feature: word: black, importance: 0.001830989978354089\n",
      "Feature: word: pleas, importance: 0.0018102582822058669\n",
      "Feature: word: episod, importance: 0.0017805274754014203\n",
      "Feature: word: learn, importance: 0.0017763723393570564\n",
      "Feature: word: india, importance: 0.0017745306403172078\n",
      "Feature: word: goal, importance: 0.0016839110377657514\n",
      "Feature: word: import, importance: 0.00166900753429055\n",
      "Feature: word: women, importance: 0.0016320515361425377\n",
      "Feature: word: super, importance: 0.0016251602268930183\n",
      "Feature: word: amor, importance: 0.001591130270246794\n",
      "Feature: word: launch, importance: 0.0015778125797298156\n",
      "Feature: word: power, importance: 0.0014878043160247464\n",
      "Feature: word: marvel, importance: 0.0014849510745813537\n",
      "Feature: word: join, importance: 0.0014809439417060122\n",
      "Feature: word: tomorrow, importance: 0.0014707660249444717\n",
      "Feature: word: fashion, importance: 0.0014688951390490494\n",
      "Feature: word: footbal, importance: 0.001451815758376041\n",
      "Feature: word: imag, importance: 0.0013737291889393897\n",
      "Feature: word: mufc, importance: 0.0013620230775390405\n",
      "Feature: word: album, importance: 0.0013404919837008552\n",
      "Feature: word: avail, importance: 0.0011732838400023186\n",
      "Feature: word: manutd, importance: 0.0010934753041793644\n",
      "Feature: word: nct, importance: 0.0008899628915709982\n",
      "Feature: word: space, importance: 0.0004480038839303063\n",
      "Feature: (22, 2), importance: 0.0\n"
     ]
    },
    {
     "data": {
      "text/plain": "<Figure size 432x288 with 1 Axes>",
      "image/png": "[encoded data removed]"
     },
     "metadata": {
      "needs_background": "light"
     },
     "output_type": "display_data"
    }
   ],
   "source": [
    "from sklearn.tree import DecisionTreeRegressor\n",
    "model2 = DecisionTreeRegressor()\n",
    "model2.fit(X, y)\n",
    "plotFeaturesImportance(model2)"
   ],
   "metadata": {
    "collapsed": false,
    "pycharm": {
     "name": "#%%\n"
    }
   }
  }
 ],
 "metadata": {
  "kernelspec": {
   "display_name": "Python 3",
   "language": "python",
   "name": "python3"
  },
  "language_info": {
   "codemirror_mode": {
    "name": "ipython",
    "version": 2
   },
   "file_extension": ".py",
   "mimetype": "text/x-python",
   "name": "python",
   "nbconvert_exporter": "python",
   "pygments_lexer": "ipython2",
   "version": "2.7.6"
  }
 },
 "nbformat": 4,
 "nbformat_minor": 0
}