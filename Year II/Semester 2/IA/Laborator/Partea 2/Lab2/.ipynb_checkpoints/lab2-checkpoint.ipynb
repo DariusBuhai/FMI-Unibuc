{
 "cells": [
  {
   "cell_type": "code",
   "execution_count": 2,
   "id": "civic-collective",
   "metadata": {},
   "outputs": [],
   "source": [
    "import numpy as np\n",
    "import matplotlib.pyplot as plt"
   ]
  },
  {
   "cell_type": "code",
   "execution_count": 7,
   "id": "moral-protest",
   "metadata": {},
   "outputs": [],
   "source": [
    "train_images = np.loadtxt('data/train_images.txt') # incarcam imaginile\n",
    "train_labels = np.array(np.loadtxt('data/train_labels.txt'), dtype=np.int) # incarcam etichetele"
   ]
  },
  {
   "cell_type": "code",
   "execution_count": 15,
   "id": "small-friendly",
   "metadata": {},
   "outputs": [],
   "source": [
    "test_images = np.loadtxt('data/test_images.txt') # incarcam imaginile\n",
    "test_labels = np.array(np.loadtxt('data/test_labels.txt'), dtype=np.int) # incarcam etichetele"
   ]
  },
  {
   "cell_type": "code",
   "execution_count": 8,
   "id": "surface-street",
   "metadata": {},
   "outputs": [
    {
     "data": {
      "image/png": "[encoded data removed]",
      "text/plain": [
       "<Figure size 432x288 with 1 Axes>"
      ]
     },
     "metadata": {
      "needs_background": "light"
     },
     "output_type": "display_data"
    }
   ],
   "source": [
    "image = train_images[-1] # prima imagine # 784\n",
    "image = np.reshape(image, (28, 28))\n",
    "plt.imshow(image.astype(np.uint8), cmap='gray')\n",
    "plt.show()"
   ]
  },
  {
   "cell_type": "code",
   "execution_count": 5,
   "id": "bored-blink",
   "metadata": {},
   "outputs": [],
   "source": [
    "bins = np.linspace(0, 256, num=5) "
   ]
  },
  {
   "cell_type": "code",
   "execution_count": 6,
   "id": "aggressive-removal",
   "metadata": {},
   "outputs": [
    {
     "name": "stdout",
     "output_type": "stream",
     "text": [
      "[  0.  64. 128. 192. 256.]\n"
     ]
    }
   ],
   "source": [
    "print(bins)"
   ]
  },
  {
   "cell_type": "code",
   "execution_count": 13,
   "id": "standing-change",
   "metadata": {},
   "outputs": [
    {
     "data": {
      "text/plain": [
       "array([[1, 4]])"
      ]
     },
     "execution_count": 13,
     "metadata": {},
     "output_type": "execute_result"
    }
   ],
   "source": [
    "np.digitize(np.array([[0, 255]]), bins)"
   ]
  },
  {
   "cell_type": "code",
   "execution_count": 38,
   "id": "adjacent-minneapolis",
   "metadata": {},
   "outputs": [],
   "source": [
    "def values_to_bins(x, bins):\n",
    "    return np.digitize(x, bins) - 1\n",
    "    "
   ]
  },
  {
   "cell_type": "code",
   "execution_count": 36,
   "id": "proved-stone",
   "metadata": {},
   "outputs": [],
   "source": [
    "bins = np.linspace(0, 256, num=5) "
   ]
  },
  {
   "cell_type": "code",
   "execution_count": 39,
   "id": "utility-appraisal",
   "metadata": {},
   "outputs": [],
   "source": [
    "train_images_bins = values_to_bins(train_images, bins)\n",
    "test_images_bins = values_to_bins(test_images, bins)"
   ]
  },
  {
   "cell_type": "code",
   "execution_count": 42,
   "id": "monetary-louisiana",
   "metadata": {},
   "outputs": [
    {
     "data": {
      "text/plain": [
       "3"
      ]
     },
     "execution_count": 42,
     "metadata": {},
     "output_type": "execute_result"
    }
   ],
   "source": [
    "train_images_bins.max()"
   ]
  },
  {
   "cell_type": "code",
   "execution_count": 44,
   "id": "affecting-macro",
   "metadata": {},
   "outputs": [],
   "source": [
    "from sklearn.naive_bayes import MultinomialNB"
   ]
  },
  {
   "cell_type": "code",
   "execution_count": 45,
   "id": "level-character",
   "metadata": {},
   "outputs": [],
   "source": [
    "naive_bayes_model = MultinomialNB()"
   ]
  },
  {
   "cell_type": "code",
   "execution_count": 46,
   "id": "trying-spell",
   "metadata": {},
   "outputs": [
    {
     "data": {
      "text/plain": [
       "MultinomialNB(alpha=1.0, class_prior=None, fit_prior=True)"
      ]
     },
     "execution_count": 46,
     "metadata": {},
     "output_type": "execute_result"
    }
   ],
   "source": [
    "naive_bayes_model.fit(train_images_bins, train_labels)"
   ]
  },
  {
   "cell_type": "code",
   "execution_count": 47,
   "id": "large-middle",
   "metadata": {},
   "outputs": [],
   "source": [
    "predicted_labels = naive_bayes_model.predict(test_images_bins)"
   ]
  },
  {
   "cell_type": "code",
   "execution_count": 48,
   "id": "healthy-chile",
   "metadata": {},
   "outputs": [],
   "source": [
    "# acuratate\n",
    "accuracy = np.mean(predicted_labels == test_labels)"
   ]
  },
  {
   "cell_type": "code",
   "execution_count": 49,
   "id": "accepting-times",
   "metadata": {},
   "outputs": [
    {
     "name": "stdout",
     "output_type": "stream",
     "text": [
      "0.836\n"
     ]
    }
   ],
   "source": [
    "print(accuracy)"
   ]
  },
  {
   "cell_type": "code",
   "execution_count": 50,
   "id": "comparative-remains",
   "metadata": {},
   "outputs": [
    {
     "name": "stdout",
     "output_type": "stream",
     "text": [
      "0.836\n"
     ]
    }
   ],
   "source": [
    "accuracy_2 = naive_bayes_model.score(test_images_bins, test_labels)\n",
    "print(accuracy_2)"
   ]
  },
  {
   "cell_type": "code",
   "execution_count": 52,
   "id": "explicit-carnival",
   "metadata": {},
   "outputs": [
    {
     "name": "stdout",
     "output_type": "stream",
     "text": [
      "num bins = 3 has accuracy 0.830000\n",
      "num bins = 5 has accuracy 0.836000\n",
      "num bins = 7 has accuracy 0.842000\n",
      "num bins = 9 has accuracy 0.842000\n",
      "num bins = 11 has accuracy 0.842000\n"
     ]
    }
   ],
   "source": [
    "for num_bins in [3, 5, 7, 9, 11]:\n",
    "    bins = np.linspace(0, 256, num=num_bins) \n",
    "    train_images_bins = values_to_bins(train_images, bins)\n",
    "    test_images_bins = values_to_bins(test_images, bins)\n",
    "    naive_bayes_model = MultinomialNB()\n",
    "    naive_bayes_model.fit(train_images_bins, train_labels)\n",
    "    accuracy = naive_bayes_model.score(test_images_bins, test_labels)\n",
    "    print('num bins = %d has accuracy %f' % (num_bins, accuracy))"
   ]
  },
  {
   "cell_type": "code",
   "execution_count": 61,
   "id": "novel-glucose",
   "metadata": {},
   "outputs": [],
   "source": [
    "bins = np.linspace(0, 256, num=11) \n",
    "train_images_bins = values_to_bins(train_images, bins)\n",
    "test_images_bins = values_to_bins(test_images, bins)\n",
    "naive_bayes_model = MultinomialNB()\n",
    "naive_bayes_model.fit(train_images_bins, train_labels)\n",
    "predicted_labels = naive_bayes_model.predict(test_images_bins)"
   ]
  },
  {
   "cell_type": "code",
   "execution_count": 68,
   "id": "tribal-settlement",
   "metadata": {},
   "outputs": [],
   "source": [
    "misclassified_indices = np.where(test_labels != predicted_labels)[0]"
   ]
  },
  {
   "cell_type": "code",
   "execution_count": 69,
   "id": "distant-research",
   "metadata": {},
   "outputs": [
    {
     "data": {
      "text/plain": [
       "array([  7,  13,  25,  33,  39,  42,  54,  63,  71,  75,  76,  80,  83,\n",
       "       109, 111, 115, 118, 124, 128, 141, 146, 147, 149, 150, 164, 165,\n",
       "       166, 171, 188, 191, 211, 213, 214, 215, 233, 235, 237, 241, 246,\n",
       "       256, 260, 261, 262, 271, 274, 281, 283, 304, 306, 326, 331, 334,\n",
       "       335, 336, 343, 354, 360, 365, 367, 372, 377, 384, 385, 386, 406,\n",
       "       416, 423, 430, 433, 439, 443, 446, 448, 457, 463, 489, 492, 493,\n",
       "       496], dtype=int64)"
      ]
     },
     "execution_count": 69,
     "metadata": {},
     "output_type": "execute_result"
    }
   ],
   "source": [
    "misclassified_indices"
   ]
  },
  {
   "cell_type": "code",
   "execution_count": 71,
   "id": "timely-houston",
   "metadata": {},
   "outputs": [
    {
     "data": {
      "image/png": "[encoded data removed]",
      "text/plain": [
       "<Figure size 432x288 with 1 Axes>"
      ]
     },
     "metadata": {
      "needs_background": "light"
     },
     "output_type": "display_data"
    },
    {
     "name": "stdout",
     "output_type": "stream",
     "text": [
      "Predicted labels = 8, Correct label = 5\n"
     ]
    },
    {
     "data": {
      "image/png": "[encoded data removed]",
      "text/plain": [
       "<Figure size 432x288 with 1 Axes>"
      ]
     },
     "metadata": {
      "needs_background": "light"
     },
     "output_type": "display_data"
    },
    {
     "name": "stdout",
     "output_type": "stream",
     "text": [
      "Predicted labels = 0, Correct label = 6\n"
     ]
    },
    {
     "data": {
      "image/png": "[encoded data removed]",
      "text/plain": [
       "<Figure size 432x288 with 1 Axes>"
      ]
     },
     "metadata": {
      "needs_background": "light"
     },
     "output_type": "display_data"
    },
    {
     "name": "stdout",
     "output_type": "stream",
     "text": [
      "Predicted labels = 9, Correct label = 4\n"
     ]
    },
    {
     "data": {
      "image/png": "[encoded data removed]",
      "text/plain": [
       "<Figure size 432x288 with 1 Axes>"
      ]
     },
     "metadata": {
      "needs_background": "light"
     },
     "output_type": "display_data"
    },
    {
     "name": "stdout",
     "output_type": "stream",
     "text": [
      "Predicted labels = 9, Correct label = 7\n"
     ]
    },
    {
     "data": {
      "image/png": "[encoded data removed]",
      "text/plain": [
       "<Figure size 432x288 with 1 Axes>"
      ]
     },
     "metadata": {
      "needs_background": "light"
     },
     "output_type": "display_data"
    },
    {
     "name": "stdout",
     "output_type": "stream",
     "text": [
      "Predicted labels = 3, Correct label = 2\n"
     ]
    },
    {
     "data": {
      "image/png": "[encoded data removed]",
      "text/plain": [
       "<Figure size 432x288 with 1 Axes>"
      ]
     },
     "metadata": {
      "needs_background": "light"
     },
     "output_type": "display_data"
    },
    {
     "name": "stdout",
     "output_type": "stream",
     "text": [
      "Predicted labels = 8, Correct label = 1\n"
     ]
    },
    {
     "data": {
      "image/png": "[encoded data removed]",
      "text/plain": [
       "<Figure size 432x288 with 1 Axes>"
      ]
     },
     "metadata": {
      "needs_background": "light"
     },
     "output_type": "display_data"
    },
    {
     "name": "stdout",
     "output_type": "stream",
     "text": [
      "Predicted labels = 9, Correct label = 3\n"
     ]
    },
    {
     "data": {
      "image/png": "[encoded data removed]",
      "text/plain": [
       "<Figure size 432x288 with 1 Axes>"
      ]
     },
     "metadata": {
      "needs_background": "light"
     },
     "output_type": "display_data"
    },
    {
     "name": "stdout",
     "output_type": "stream",
     "text": [
      "Predicted labels = 8, Correct label = 1\n"
     ]
    },
    {
     "data": {
      "image/png": "[encoded data removed]",
      "text/plain": [
       "<Figure size 432x288 with 1 Axes>"
      ]
     },
     "metadata": {
      "needs_background": "light"
     },
     "output_type": "display_data"
    },
    {
     "name": "stdout",
     "output_type": "stream",
     "text": [
      "Predicted labels = 8, Correct label = 6\n"
     ]
    },
    {
     "data": {
      "image/png": "[encoded data removed]",
      "text/plain": [
       "<Figure size 432x288 with 1 Axes>"
      ]
     },
     "metadata": {
      "needs_background": "light"
     },
     "output_type": "display_data"
    },
    {
     "name": "stdout",
     "output_type": "stream",
     "text": [
      "Predicted labels = 4, Correct label = 9\n"
     ]
    }
   ],
   "source": [
    "for idx in misclassified_indices[:10]:\n",
    "    img = test_images[idx].reshape(28, 28)\n",
    "    plt.imshow(img, cmap='gray')\n",
    "    plt.show()\n",
    "    print('Predicted labels = %d, Correct label = %d' % (predicted_labels[idx], test_labels[idx]))"
   ]
  },
  {
   "cell_type": "code",
   "execution_count": 74,
   "id": "important-lyric",
   "metadata": {},
   "outputs": [],
   "source": [
    "def confunsion_matrix(predicted_labels, ground_truth_labels):\n",
    "    num_labels = ground_truth_labels.max() + 1\n",
    "    conf_mat = np.zeros((num_labels, num_labels))\n",
    "    \n",
    "    for i in range(len(predicted_labels)):\n",
    "        conf_mat[ground_truth_labels[i], predicted_labels[i]] += 1\n",
    "    return  conf_mat\n",
    "    "
   ]
  },
  {
   "cell_type": "code",
   "execution_count": 77,
   "id": "invalid-messenger",
   "metadata": {},
   "outputs": [],
   "source": [
    "conf_mat = confunsion_matrix(predicted_labels, test_labels)"
   ]
  },
  {
   "cell_type": "code",
   "execution_count": 78,
   "id": "acute-flush",
   "metadata": {},
   "outputs": [
    {
     "data": {
      "text/plain": [
       "<matplotlib.image.AxesImage at 0x256176287f0>"
      ]
     },
     "execution_count": 78,
     "metadata": {},
     "output_type": "execute_result"
    },
    {
     "data": {
      "image/png": "[encoded data removed]",
      "text/plain": [
       "<Figure size 432x288 with 1 Axes>"
      ]
     },
     "metadata": {
      "needs_background": "light"
     },
     "output_type": "display_data"
    }
   ],
   "source": [
    "plt.imshow(conf_mat, cmap='gray')"
   ]
  },
  {
   "cell_type": "code",
   "execution_count": 75,
   "id": "regular-logging",
   "metadata": {},
   "outputs": [
    {
     "name": "stdout",
     "output_type": "stream",
     "text": [
      "[[51.  0.  0.  0.  0.  0.  1.  0.  1.  0.]\n",
      " [ 0. 48.  0.  0.  0.  0.  1.  0.  3.  0.]\n",
      " [ 2.  0. 51.  1.  1.  0.  0.  1.  1.  1.]\n",
      " [ 0.  0.  1. 49.  0.  0.  0.  0.  0.  3.]\n",
      " [ 0.  0.  0.  0. 34.  0.  0.  0.  2. 10.]\n",
      " [ 1.  0.  0.  9.  0. 35.  1.  0.  5.  1.]\n",
      " [ 1.  1.  0.  0.  1.  0. 43.  0.  2.  0.]\n",
      " [ 0.  1.  0.  0.  2.  0.  0. 41.  0.  6.]\n",
      " [ 0.  1.  3.  3.  1.  1.  1.  1. 34.  1.]\n",
      " [ 0.  0.  1.  1.  5.  0.  0.  0.  0. 35.]]\n"
     ]
    }
   ],
   "source": [
    "print(conf_mat)"
   ]
  }
 ],
 "metadata": {
  "kernelspec": {
   "display_name": "Python 3",
   "language": "python",
   "name": "python3"
  },
  "language_info": {
   "codemirror_mode": {
    "name": "ipython",
    "version": 3
   },
   "file_extension": ".py",
   "mimetype": "text/x-python",
   "name": "python",
   "nbconvert_exporter": "python",
   "pygments_lexer": "ipython3",
   "version": "3.9.1"
  }
 },
 "nbformat": 4,
 "nbformat_minor": 5
}
