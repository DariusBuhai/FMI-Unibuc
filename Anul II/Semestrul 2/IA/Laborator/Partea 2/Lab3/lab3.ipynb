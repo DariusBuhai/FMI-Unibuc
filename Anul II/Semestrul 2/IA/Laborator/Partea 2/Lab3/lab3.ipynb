{
 "cells": [
  {
   "cell_type": "code",
   "execution_count": 1,
   "id": "051a13f5",
   "metadata": {},
   "outputs": [],
   "source": [
    "import numpy as np"
   ]
  },
  {
   "cell_type": "code",
   "execution_count": 2,
   "id": "1e550fcf",
   "metadata": {},
   "outputs": [],
   "source": [
    "class KnnClasifier:\n",
    "    def __init__(self, train_images, train_labels): \n",
    "        self.train_images = train_images \n",
    "        self.train_labels = train_labels\n",
    "        \n",
    "    def classify_image(self, test_image, num_neighbors=3, metric='l2'):\n",
    "        if metric == 'l1':\n",
    "            distances = np.sum(np.abs(self.train_images - test_image), axis=1)\n",
    "        elif metric == 'l2':\n",
    "            distances = np.sqrt(np.sum(((self.train_images - test_image) ** 2),axis=1))\n",
    "        else:\n",
    "            raise Exception(\"Metric not implemented\")\n",
    "        sorted_indices = distances.argsort()\n",
    "        nearest_indices = sorted_indices[:num_neighbors]\n",
    "        nearest_labels = self.train_labels[nearest_indices]\n",
    "        \n",
    "        return np.bincount(nearest_labels).argmax()\n",
    "    \n",
    "    def classify_images(self, test_images, num_neighbors=3, metric='l2'):\n",
    "        predicted_labels = [self.classify_image(image,num_neighbors, metric) for image in test_images]\n",
    "        \n",
    "        return np.array(predicted_labels)"
   ]
  },
  {
   "cell_type": "code",
   "execution_count": 3,
   "id": "3ac69501",
   "metadata": {},
   "outputs": [],
   "source": [
    "def accuracy_score(ground_truth_labels, predicted_labels):\n",
    "    return np.mean(ground_truth_labels == predicted_labels)"
   ]
  },
  {
   "cell_type": "code",
   "execution_count": 4,
   "id": "11d296bc",
   "metadata": {},
   "outputs": [],
   "source": [
    "train_images = np.loadtxt(\"data/train_images.txt\")\n",
    "train_labels = np.int32(np.loadtxt(\"data/train_labels.txt\"))\n"
   ]
  },
  {
   "cell_type": "code",
   "execution_count": 10,
   "id": "57dabd67",
   "metadata": {},
   "outputs": [],
   "source": [
    "test_images = np.loadtxt(\"data/test_images.txt\")\n",
    "test_labels = np.int32(np.loadtxt(\"data/test_labels.txt\"))"
   ]
  },
  {
   "cell_type": "code",
   "execution_count": 11,
   "id": "12ce0cfa",
   "metadata": {},
   "outputs": [
    {
     "name": "stdout",
     "output_type": "stream",
     "text": [
      "(1000, 784)\n",
      "(500, 784)\n"
     ]
    }
   ],
   "source": [
    "print(train_images.shape)\n",
    "print(test_images.shape)"
   ]
  },
  {
   "cell_type": "code",
   "execution_count": 65,
   "id": "636925b6",
   "metadata": {},
   "outputs": [],
   "source": [
    "knn_clasifier = KnnClasifier(train_images, train_labels)"
   ]
  },
  {
   "cell_type": "code",
   "execution_count": 66,
   "id": "ebdd4998",
   "metadata": {},
   "outputs": [],
   "source": [
    "predicted_labels = knn_clasifier.classify_images(test_images, num_neighbors=3, metric=\"l2\")"
   ]
  },
  {
   "cell_type": "code",
   "execution_count": 68,
   "id": "0576c2bb",
   "metadata": {},
   "outputs": [
    {
     "name": "stdout",
     "output_type": "stream",
     "text": [
      "0.898\n"
     ]
    }
   ],
   "source": [
    "acc = accuracy_score(test_labels, predicted_labels)\n",
    "print(acc)"
   ]
  },
  {
   "cell_type": "code",
   "execution_count": 70,
   "id": "7c8a616a",
   "metadata": {},
   "outputs": [],
   "source": [
    "def get_accuracies(train_images, train_labels, test_images, test_labels, metric):\n",
    "    knn_clasifier = KnnClasifier(train_images, train_labels)\n",
    "    predicted_labels = knn_clasifier.classify_images(test_images, metric=metric)\n",
    "    return accuracy_score(test_labels, predicted_labels)"
   ]
  },
  {
   "cell_type": "code",
   "execution_count": 71,
   "id": "cb4fc191",
   "metadata": {},
   "outputs": [],
   "source": [
    "acc_l2 = get_accuracies(train_images, train_labels, test_images, test_labels, metric = \"l2\")"
   ]
  },
  {
   "cell_type": "code",
   "execution_count": 72,
   "id": "4a60c0c8",
   "metadata": {},
   "outputs": [],
   "source": [
    "acc_l1 = get_accuracies(train_images, train_labels, test_images, test_labels, metric = \"l1\")"
   ]
  },
  {
   "cell_type": "code",
   "execution_count": null,
   "id": "1f6aec11",
   "metadata": {},
   "outputs": [],
   "source": []
  }
 ],
 "metadata": {
  "kernelspec": {
   "display_name": "Python 3",
   "language": "python",
   "name": "python3"
  },
  "language_info": {
   "codemirror_mode": {
    "name": "ipython",
    "version": 3
   },
   "file_extension": ".py",
   "mimetype": "text/x-python",
   "name": "python",
   "nbconvert_exporter": "python",
   "pygments_lexer": "ipython3",
   "version": "3.9.5"
  }
 },
 "nbformat": 4,
 "nbformat_minor": 5
}
